{
 "cells": [
  {
   "cell_type": "markdown",
   "id": "17c2827b-e126-42e5-bd36-3496d137fb63",
   "metadata": {},
   "source": [
    "# ANALIZA PODATKOV O DIRKI TOUR DE FRANCE\n"
   ]
  },
  {
   "cell_type": "markdown",
   "id": "5dc3384d-e24e-4761-88fb-5112b4b493c1",
   "metadata": {},
   "source": [
    "Analizirali bomo podatke o dirki Tour de France. Podatki so zajeti od leta 1903, ko ga je prvič priredila francoska časopisna hiša L'Auto' (športni časopis), saj je upala, da bo napeta kolesarska dirka pritegnila bralce (niso se motili), do trenutne zadnje prireditve iz leta 2025. Vmes manjkajo podatki od leta 1915 do leta 1918 in od leta 1940 do leta 1946, saj takrat zaradi obeh svetovnih vojn TdF ni bil prirejen. "
   ]
  },
  {
   "cell_type": "markdown",
   "id": "bb1add25-96d2-4547-bc08-b28e92921637",
   "metadata": {},
   "source": [
    "## Priprava na delo"
   ]
  },
  {
   "cell_type": "markdown",
   "id": "32f41cd8-84e7-46d4-a4c1-7123578af0a8",
   "metadata": {},
   "source": [
    "Preden začnemo pripravimo okolje:\n"
   ]
  },
  {
   "cell_type": "code",
   "execution_count": 65,
   "id": "f128546e-085e-42fe-af00-333b970a580b",
   "metadata": {},
   "outputs": [],
   "source": [
    "import pandas as pd\n",
    "import numpy as np\n",
    "import matplotlib.pyplot as plt"
   ]
  },
  {
   "cell_type": "markdown",
   "id": "287d0812-f3ef-4a44-994b-22597f65b50b",
   "metadata": {},
   "source": [
    "Uvozimo podatke o etapah:"
   ]
  },
  {
   "cell_type": "code",
   "execution_count": 66,
   "id": "b5be5857-4376-47be-96f3-021c78388727",
   "metadata": {
    "jupyter": {
     "source_hidden": true
    }
   },
   "outputs": [],
   "source": [
    "df = pd.read_csv('./etape.csv',sep=',')\n"
   ]
  },
  {
   "cell_type": "markdown",
   "id": "1547892e-b356-4428-ac09-2271242c65c5",
   "metadata": {},
   "source": [
    "In podatke o zmagovalcih Tour-a:"
   ]
  },
  {
   "cell_type": "code",
   "execution_count": 67,
   "id": "c3053d7b-ec99-412a-82bb-e22b50e582f8",
   "metadata": {
    "jupyter": {
     "source_hidden": true
    }
   },
   "outputs": [],
   "source": [
    "df2 = pd.read_csv('./letni_zmagovalci.csv', sep=',')\n"
   ]
  },
  {
   "cell_type": "markdown",
   "id": "ccac3e73-bcf1-4d5a-8042-e4e8cbe0c9ca",
   "metadata": {},
   "source": [
    "Da bo obdelovanje podatkov lažje, spremenimo podatke o razdalji in povprečni hitrosti tako, da vrednostim v stolpcih odstranimo \"km\" oz. \"km/h\" :\n"
   ]
  },
  {
   "cell_type": "code",
   "execution_count": 68,
   "id": "79f1eecb-d62e-42bf-a3fd-0e8124c7e76b",
   "metadata": {},
   "outputs": [],
   "source": [
    "df = df[df['razdalja'] != 'ni podatka']\n",
    "df2 = df2[df2['zmagovalec tdf'] != 'ni podatka']\n",
    "df = df[df['povprecna_hitrost'] != 'ni podatka']\n"
   ]
  },
  {
   "cell_type": "code",
   "execution_count": 69,
   "id": "70e4d9b0-0139-43d1-b27e-ffbcca55ce46",
   "metadata": {},
   "outputs": [
    {
     "data": {
      "text/html": [
       "<div>\n",
       "<style scoped>\n",
       "    .dataframe tbody tr th:only-of-type {\n",
       "        vertical-align: middle;\n",
       "    }\n",
       "\n",
       "    .dataframe tbody tr th {\n",
       "        vertical-align: top;\n",
       "    }\n",
       "\n",
       "    .dataframe thead th {\n",
       "        text-align: right;\n",
       "    }\n",
       "</style>\n",
       "<table border=\"1\" class=\"dataframe\">\n",
       "  <thead>\n",
       "    <tr style=\"text-align: right;\">\n",
       "      <th></th>\n",
       "      <th>leto</th>\n",
       "      <th>etapa</th>\n",
       "      <th>razdalja</th>\n",
       "      <th>težavnost</th>\n",
       "      <th>visinska_razlika</th>\n",
       "      <th>profil_etape</th>\n",
       "      <th>ime in priimek zmagovalca</th>\n",
       "      <th>narodnost zmagovalca</th>\n",
       "      <th>ekipa zmagovalca</th>\n",
       "      <th>čas zmagovalca</th>\n",
       "      <th>povprecna_hitrost_v_km/h</th>\n",
       "    </tr>\n",
       "  </thead>\n",
       "  <tbody>\n",
       "    <tr>\n",
       "      <th>1</th>\n",
       "      <td>1903</td>\n",
       "      <td>1.0</td>\n",
       "      <td>467.0</td>\n",
       "      <td>ni podatka</td>\n",
       "      <td>ni podatka</td>\n",
       "      <td>ravninska etapa</td>\n",
       "      <td>Maurice Garin</td>\n",
       "      <td>FR</td>\n",
       "      <td>La Française</td>\n",
       "      <td>17:45:13</td>\n",
       "      <td>26.305</td>\n",
       "    </tr>\n",
       "    <tr>\n",
       "      <th>2</th>\n",
       "      <td>1903</td>\n",
       "      <td>2.0</td>\n",
       "      <td>374.0</td>\n",
       "      <td>ni podatka</td>\n",
       "      <td>ni podatka</td>\n",
       "      <td>gorska etapa z ravnim ciljem</td>\n",
       "      <td>Hippolyte Aucouturier</td>\n",
       "      <td>FR</td>\n",
       "      <td>ni podatka</td>\n",
       "      <td>14:28:53</td>\n",
       "      <td>25.826</td>\n",
       "    </tr>\n",
       "    <tr>\n",
       "      <th>3</th>\n",
       "      <td>1903</td>\n",
       "      <td>3.0</td>\n",
       "      <td>423.0</td>\n",
       "      <td>ni podatka</td>\n",
       "      <td>ni podatka</td>\n",
       "      <td>ravninska etapa</td>\n",
       "      <td>Hippolyte Aucouturier</td>\n",
       "      <td>FR</td>\n",
       "      <td>ni podatka</td>\n",
       "      <td>17:55:04</td>\n",
       "      <td>23.608</td>\n",
       "    </tr>\n",
       "    <tr>\n",
       "      <th>4</th>\n",
       "      <td>1903</td>\n",
       "      <td>4.0</td>\n",
       "      <td>268.0</td>\n",
       "      <td>ni podatka</td>\n",
       "      <td>ni podatka</td>\n",
       "      <td>ravninska etapa</td>\n",
       "      <td>Charles Laeser</td>\n",
       "      <td>CH</td>\n",
       "      <td>ni podatka</td>\n",
       "      <td>8:46:00</td>\n",
       "      <td>30.570</td>\n",
       "    </tr>\n",
       "    <tr>\n",
       "      <th>5</th>\n",
       "      <td>1903</td>\n",
       "      <td>5.0</td>\n",
       "      <td>425.0</td>\n",
       "      <td>ni podatka</td>\n",
       "      <td>ni podatka</td>\n",
       "      <td>ravninska etapa</td>\n",
       "      <td>Maurice Garin</td>\n",
       "      <td>FR</td>\n",
       "      <td>La Française</td>\n",
       "      <td>16:26:31</td>\n",
       "      <td>25.849</td>\n",
       "    </tr>\n",
       "    <tr>\n",
       "      <th>...</th>\n",
       "      <td>...</td>\n",
       "      <td>...</td>\n",
       "      <td>...</td>\n",
       "      <td>...</td>\n",
       "      <td>...</td>\n",
       "      <td>...</td>\n",
       "      <td>...</td>\n",
       "      <td>...</td>\n",
       "      <td>...</td>\n",
       "      <td>...</td>\n",
       "      <td>...</td>\n",
       "    </tr>\n",
       "    <tr>\n",
       "      <th>2149</th>\n",
       "      <td>2025</td>\n",
       "      <td>17.0</td>\n",
       "      <td>160.4</td>\n",
       "      <td>25</td>\n",
       "      <td>1660</td>\n",
       "      <td>ravninska etapa</td>\n",
       "      <td>Jonathan Milan</td>\n",
       "      <td>IT</td>\n",
       "      <td>Lidl - Trek</td>\n",
       "      <td>3:25:30</td>\n",
       "      <td>46.832</td>\n",
       "    </tr>\n",
       "    <tr>\n",
       "      <th>2150</th>\n",
       "      <td>2025</td>\n",
       "      <td>18.0</td>\n",
       "      <td>171.5</td>\n",
       "      <td>414</td>\n",
       "      <td>5642</td>\n",
       "      <td>gorska etapa z vzponom na cilju</td>\n",
       "      <td>Ben O'Connor</td>\n",
       "      <td>AU</td>\n",
       "      <td>Team Jayco AlUla</td>\n",
       "      <td>5:03:47</td>\n",
       "      <td>33.873</td>\n",
       "    </tr>\n",
       "    <tr>\n",
       "      <th>2151</th>\n",
       "      <td>2025</td>\n",
       "      <td>19.0</td>\n",
       "      <td>93.1</td>\n",
       "      <td>340</td>\n",
       "      <td>3431</td>\n",
       "      <td>gorska etapa z vzponom na cilju</td>\n",
       "      <td>Thymen Arensman</td>\n",
       "      <td>NL</td>\n",
       "      <td>INEOS Grenadiers</td>\n",
       "      <td>2:46:06</td>\n",
       "      <td>33.630</td>\n",
       "    </tr>\n",
       "    <tr>\n",
       "      <th>2152</th>\n",
       "      <td>2025</td>\n",
       "      <td>20.0</td>\n",
       "      <td>184.2</td>\n",
       "      <td>107</td>\n",
       "      <td>2916</td>\n",
       "      <td>hribovita etapa z ravnim ciljem</td>\n",
       "      <td>Kaden Groves</td>\n",
       "      <td>AU</td>\n",
       "      <td>Alpecin - Deceuninck</td>\n",
       "      <td>4:06:09</td>\n",
       "      <td>44.899</td>\n",
       "    </tr>\n",
       "    <tr>\n",
       "      <th>2153</th>\n",
       "      <td>2025</td>\n",
       "      <td>21.0</td>\n",
       "      <td>132.3</td>\n",
       "      <td>26</td>\n",
       "      <td>1129</td>\n",
       "      <td>ravninska etapa</td>\n",
       "      <td>Wout van Aert</td>\n",
       "      <td>BE</td>\n",
       "      <td>Team Visma | Lease a Bike</td>\n",
       "      <td>3:07:30</td>\n",
       "      <td>42.336</td>\n",
       "    </tr>\n",
       "  </tbody>\n",
       "</table>\n",
       "<p>2153 rows × 11 columns</p>\n",
       "</div>"
      ],
      "text/plain": [
       "      leto  etapa  razdalja   težavnost visinska_razlika  \\\n",
       "1     1903    1.0     467.0  ni podatka       ni podatka   \n",
       "2     1903    2.0     374.0  ni podatka       ni podatka   \n",
       "3     1903    3.0     423.0  ni podatka       ni podatka   \n",
       "4     1903    4.0     268.0  ni podatka       ni podatka   \n",
       "5     1903    5.0     425.0  ni podatka       ni podatka   \n",
       "...    ...    ...       ...         ...              ...   \n",
       "2149  2025   17.0     160.4          25             1660   \n",
       "2150  2025   18.0     171.5         414             5642   \n",
       "2151  2025   19.0      93.1         340             3431   \n",
       "2152  2025   20.0     184.2         107             2916   \n",
       "2153  2025   21.0     132.3          26             1129   \n",
       "\n",
       "                         profil_etape ime in priimek zmagovalca  \\\n",
       "1                     ravninska etapa             Maurice Garin   \n",
       "2        gorska etapa z ravnim ciljem     Hippolyte Aucouturier   \n",
       "3                     ravninska etapa     Hippolyte Aucouturier   \n",
       "4                     ravninska etapa            Charles Laeser   \n",
       "5                     ravninska etapa             Maurice Garin   \n",
       "...                               ...                       ...   \n",
       "2149                  ravninska etapa            Jonathan Milan   \n",
       "2150  gorska etapa z vzponom na cilju              Ben O'Connor   \n",
       "2151  gorska etapa z vzponom na cilju           Thymen Arensman   \n",
       "2152  hribovita etapa z ravnim ciljem              Kaden Groves   \n",
       "2153                  ravninska etapa             Wout van Aert   \n",
       "\n",
       "     narodnost zmagovalca           ekipa zmagovalca čas zmagovalca  \\\n",
       "1                      FR               La Française       17:45:13   \n",
       "2                      FR                 ni podatka       14:28:53   \n",
       "3                      FR                 ni podatka       17:55:04   \n",
       "4                      CH                 ni podatka        8:46:00   \n",
       "5                      FR               La Française       16:26:31   \n",
       "...                   ...                        ...            ...   \n",
       "2149                   IT                Lidl - Trek        3:25:30   \n",
       "2150                   AU           Team Jayco AlUla        5:03:47   \n",
       "2151                   NL           INEOS Grenadiers        2:46:06   \n",
       "2152                   AU       Alpecin - Deceuninck        4:06:09   \n",
       "2153                   BE  Team Visma | Lease a Bike        3:07:30   \n",
       "\n",
       "      povprecna_hitrost_v_km/h  \n",
       "1                       26.305  \n",
       "2                       25.826  \n",
       "3                       23.608  \n",
       "4                       30.570  \n",
       "5                       25.849  \n",
       "...                        ...  \n",
       "2149                    46.832  \n",
       "2150                    33.873  \n",
       "2151                    33.630  \n",
       "2152                    44.899  \n",
       "2153                    42.336  \n",
       "\n",
       "[2153 rows x 11 columns]"
      ]
     },
     "execution_count": 69,
     "metadata": {},
     "output_type": "execute_result"
    }
   ],
   "source": [
    "df['razdalja'] = df['razdalja'].apply(lambda s: float(s[:-3]) if isinstance(s, str) else np.nan)\n",
    "df['povprecna_hitrost_v_km/h'] = df['povprecna_hitrost'].apply(lambda s: float(s[:-5]) if isinstance(s, str) else np.nan)\n",
    "del df['povprecna_hitrost']\n",
    "df = df.reset_index(drop=True)  # popravimo indekse\n",
    "df.index = df.index + 1  \n",
    "df"
   ]
  },
  {
   "cell_type": "code",
   "execution_count": 70,
   "id": "08333d1b-55dd-4086-81f4-faf043176b2d",
   "metadata": {},
   "outputs": [
    {
     "data": {
      "text/html": [
       "<div>\n",
       "<style scoped>\n",
       "    .dataframe tbody tr th:only-of-type {\n",
       "        vertical-align: middle;\n",
       "    }\n",
       "\n",
       "    .dataframe tbody tr th {\n",
       "        vertical-align: top;\n",
       "    }\n",
       "\n",
       "    .dataframe thead th {\n",
       "        text-align: right;\n",
       "    }\n",
       "</style>\n",
       "<table border=\"1\" class=\"dataframe\">\n",
       "  <thead>\n",
       "    <tr style=\"text-align: right;\">\n",
       "      <th></th>\n",
       "      <th>leto</th>\n",
       "      <th>zmagovalec tdf</th>\n",
       "      <th>zmagovalec tdf drzava</th>\n",
       "      <th>zmagovalec tdf starost</th>\n",
       "      <th>zmagovalec specialty</th>\n",
       "    </tr>\n",
       "  </thead>\n",
       "  <tbody>\n",
       "    <tr>\n",
       "      <th>1</th>\n",
       "      <td>1903</td>\n",
       "      <td>Maurice Garin</td>\n",
       "      <td>FR</td>\n",
       "      <td>32</td>\n",
       "      <td>Classic</td>\n",
       "    </tr>\n",
       "    <tr>\n",
       "      <th>2</th>\n",
       "      <td>1904</td>\n",
       "      <td>Maurice Garin</td>\n",
       "      <td>FR</td>\n",
       "      <td>33</td>\n",
       "      <td>Classic</td>\n",
       "    </tr>\n",
       "    <tr>\n",
       "      <th>3</th>\n",
       "      <td>1905</td>\n",
       "      <td>Louis Trousselier</td>\n",
       "      <td>FR</td>\n",
       "      <td>24</td>\n",
       "      <td>Classic</td>\n",
       "    </tr>\n",
       "    <tr>\n",
       "      <th>4</th>\n",
       "      <td>1906</td>\n",
       "      <td>René Pottier</td>\n",
       "      <td>FR</td>\n",
       "      <td>27</td>\n",
       "      <td>Climber</td>\n",
       "    </tr>\n",
       "    <tr>\n",
       "      <th>5</th>\n",
       "      <td>1907</td>\n",
       "      <td>Lucien Petit-Breton</td>\n",
       "      <td>FR</td>\n",
       "      <td>24</td>\n",
       "      <td>Climber</td>\n",
       "    </tr>\n",
       "    <tr>\n",
       "      <th>...</th>\n",
       "      <td>...</td>\n",
       "      <td>...</td>\n",
       "      <td>...</td>\n",
       "      <td>...</td>\n",
       "      <td>...</td>\n",
       "    </tr>\n",
       "    <tr>\n",
       "      <th>108</th>\n",
       "      <td>2021</td>\n",
       "      <td>Tadej Pogačar</td>\n",
       "      <td>SI</td>\n",
       "      <td>22</td>\n",
       "      <td>Climber</td>\n",
       "    </tr>\n",
       "    <tr>\n",
       "      <th>109</th>\n",
       "      <td>2022</td>\n",
       "      <td>Jonas Vingegaard</td>\n",
       "      <td>DK</td>\n",
       "      <td>25</td>\n",
       "      <td>GC</td>\n",
       "    </tr>\n",
       "    <tr>\n",
       "      <th>110</th>\n",
       "      <td>2023</td>\n",
       "      <td>Jonas Vingegaard</td>\n",
       "      <td>DK</td>\n",
       "      <td>26</td>\n",
       "      <td>GC</td>\n",
       "    </tr>\n",
       "    <tr>\n",
       "      <th>111</th>\n",
       "      <td>2024</td>\n",
       "      <td>Tadej Pogačar</td>\n",
       "      <td>SI</td>\n",
       "      <td>25</td>\n",
       "      <td>Climber</td>\n",
       "    </tr>\n",
       "    <tr>\n",
       "      <th>112</th>\n",
       "      <td>2025</td>\n",
       "      <td>Tadej Pogačar</td>\n",
       "      <td>SI</td>\n",
       "      <td>26</td>\n",
       "      <td>Climber</td>\n",
       "    </tr>\n",
       "  </tbody>\n",
       "</table>\n",
       "<p>112 rows × 5 columns</p>\n",
       "</div>"
      ],
      "text/plain": [
       "     leto       zmagovalec tdf zmagovalec tdf drzava zmagovalec tdf starost  \\\n",
       "1    1903        Maurice Garin                    FR                     32   \n",
       "2    1904        Maurice Garin                    FR                     33   \n",
       "3    1905    Louis Trousselier                    FR                     24   \n",
       "4    1906         René Pottier                    FR                     27   \n",
       "5    1907  Lucien Petit-Breton                    FR                     24   \n",
       "..    ...                  ...                   ...                    ...   \n",
       "108  2021        Tadej Pogačar                    SI                     22   \n",
       "109  2022     Jonas Vingegaard                    DK                     25   \n",
       "110  2023     Jonas Vingegaard                    DK                     26   \n",
       "111  2024        Tadej Pogačar                    SI                     25   \n",
       "112  2025        Tadej Pogačar                    SI                     26   \n",
       "\n",
       "    zmagovalec specialty  \n",
       "1                Classic  \n",
       "2                Classic  \n",
       "3                Classic  \n",
       "4                Climber  \n",
       "5                Climber  \n",
       "..                   ...  \n",
       "108              Climber  \n",
       "109                   GC  \n",
       "110                   GC  \n",
       "111              Climber  \n",
       "112              Climber  \n",
       "\n",
       "[112 rows x 5 columns]"
      ]
     },
     "execution_count": 70,
     "metadata": {},
     "output_type": "execute_result"
    }
   ],
   "source": [
    "df2 = df2.reset_index(drop=True)  # popravimo indekse\n",
    "df2.index = df2.index + 1\n",
    "df2"
   ]
  },
  {
   "cell_type": "markdown",
   "id": "322369ff-9dd1-42ce-8090-0113ab7ac7c7",
   "metadata": {},
   "source": [
    "# Podatki o etapah\n"
   ]
  },
  {
   "cell_type": "markdown",
   "id": "22423962-f820-41d8-a6b5-38f715d06ef9",
   "metadata": {},
   "source": [
    "Za začetek si bi radi ustvarili predstavo, kako je Tour sploh zastavljen. Tour je namreč tritedenska dirka, ki poteka v etapah. Etape so enodnevne dirke, ki se med seboj razlikujejo po dolžini in profilu."
   ]
  },
  {
   "cell_type": "markdown",
   "id": "0be5ac9b-5ea4-45bd-94c2-675f4aab72c3",
   "metadata": {},
   "source": [
    "## Razdalje, število etap in povprečna hitrost\n",
    "\n"
   ]
  },
  {
   "cell_type": "markdown",
   "id": "22d05321-3b46-444e-a741-5e77b5d98ae2",
   "metadata": {},
   "source": [
    "Najprej bi si radi ogledali, koliko kilometrov so kolesarji prekolesarili vsako leto na Touru."
   ]
  },
  {
   "cell_type": "code",
   "execution_count": 71,
   "id": "9d975e52-0b0b-47d2-8768-142c51e4f6c0",
   "metadata": {
    "jupyter": {
     "source_hidden": true
    }
   },
   "outputs": [
    {
     "name": "stdout",
     "output_type": "stream",
     "text": [
      "Tour z najmanj kilometri je bil leta 1904, ko so kolesarji prevozili 1266.0 km, Tour z največ kilometri pa je bil leta 1926, ko so prevozili 5404.0 km.\n"
     ]
    }
   ],
   "source": [
    "df['leto'] = df['leto'].astype(str).str.split(',').str[0].astype(int) # ker nam je prej delalo nekaj težave, leto natančno izluščimo iz podatkov\n",
    "# izračunamo celotno razdaljo na leto\n",
    "yearly_distance = df.groupby('leto')['razdalja'].sum().reset_index()\n",
    "\n",
    "min_year = yearly_distance.loc[yearly_distance['razdalja'].idxmin()]\n",
    "max_year = yearly_distance.loc[yearly_distance['razdalja'].idxmax()]\n",
    "print(f\"Tour z najmanj kilometri je bil leta {int(min_year['leto'])}, ko so kolesarji prevozili {min_year['razdalja']} km, Tour z največ kilometri pa je bil leta {int(max_year['leto'])}, ko so prevozili {max_year['razdalja']} km.\")"
   ]
  },
  {
   "cell_type": "markdown",
   "id": "2b7e05c4-a932-46d1-9b1e-df40af1c6370",
   "metadata": {},
   "source": [
    "Vidimo, da je bil najdaljši Tour precej zgodaj, česar nismo pričakovali, in da je bil najkrajši kar drugi (pozneje vidimo, da je bilo na začetku le 6 etap, zato razumemo, zakaj je tudi najkrajši). Poglejmo si še graf za lažjo predstavo:\n"
   ]
  },
  {
   "cell_type": "code",
   "execution_count": 72,
   "id": "cbb56257-5b03-4405-ae76-9b548c490ba9",
   "metadata": {
    "jupyter": {
     "source_hidden": true
    },
    "scrolled": true
   },
   "outputs": [
    {
     "data": {
      "image/png": "[encoded data removed]",
      "text/plain": [
       "<Figure size 800x400 with 1 Axes>"
      ]
     },
     "metadata": {},
     "output_type": "display_data"
    }
   ],
   "source": [
    "graf1 = df.groupby('leto')['razdalja'].sum()\n",
    "plt.figure(figsize=(8, 4))\n",
    "plt.scatter(graf1.index, graf1.values, color = '#962ee6')\n",
    "plt.xlabel(\"Leta od 1903 do 2025\")\n",
    "plt.ylabel(\"Razdalja v km\")\n",
    "plt.title(\"Skupna razdalja Tour de France po letih\")\n",
    "plt.grid(True)\n",
    "plt.tight_layout()\n",
    "plt.show()"
   ]
  },
  {
   "cell_type": "markdown",
   "id": "79a3682a-d295-4e80-a435-cf64fd40c388",
   "metadata": {},
   "source": [
    "Vidimo lahko tudi, da so prvi trije opazno krajši od poznejših, kar si bomo lahko pozneje razlagali s tem, da je bilo veliko manj etap kot zdaj:"
   ]
  },
  {
   "cell_type": "code",
   "execution_count": 73,
   "id": "23f6ce6a-704b-467f-815c-c719a6f393c8",
   "metadata": {
    "scrolled": true
   },
   "outputs": [
    {
     "data": {
      "text/html": [
       "<div>\n",
       "<style scoped>\n",
       "    .dataframe tbody tr th:only-of-type {\n",
       "        vertical-align: middle;\n",
       "    }\n",
       "\n",
       "    .dataframe tbody tr th {\n",
       "        vertical-align: top;\n",
       "    }\n",
       "\n",
       "    .dataframe thead th {\n",
       "        text-align: right;\n",
       "    }\n",
       "</style>\n",
       "<table border=\"1\" class=\"dataframe\">\n",
       "  <thead>\n",
       "    <tr style=\"text-align: right;\">\n",
       "      <th></th>\n",
       "      <th>razdalja</th>\n",
       "    </tr>\n",
       "    <tr>\n",
       "      <th>leto</th>\n",
       "      <th></th>\n",
       "    </tr>\n",
       "  </thead>\n",
       "  <tbody>\n",
       "    <tr>\n",
       "      <th>1904</th>\n",
       "      <td>1266.0</td>\n",
       "    </tr>\n",
       "    <tr>\n",
       "      <th>1903</th>\n",
       "      <td>1957.0</td>\n",
       "    </tr>\n",
       "    <tr>\n",
       "      <th>1905</th>\n",
       "      <td>2768.0</td>\n",
       "    </tr>\n",
       "  </tbody>\n",
       "</table>\n",
       "</div>"
      ],
      "text/plain": [
       "      razdalja\n",
       "leto          \n",
       "1904    1266.0\n",
       "1903    1957.0\n",
       "1905    2768.0"
      ]
     },
     "execution_count": 73,
     "metadata": {},
     "output_type": "execute_result"
    }
   ],
   "source": [
    "tour = df.groupby('leto')['razdalja'].sum().sort_values().to_frame()\n",
    "tour.sort_values('razdalja', ascending= False)\n",
    "tour.head(3)"
   ]
  },
  {
   "cell_type": "markdown",
   "id": "b991ee33-2d4c-4b92-96b5-8dd1efe9fddd",
   "metadata": {},
   "source": [
    "**NAJDALJŠa IN NAJKRAJŠA ETAPA**"
   ]
  },
  {
   "cell_type": "markdown",
   "id": "0a73933d-f522-4c85-b561-465db93fed05",
   "metadata": {},
   "source": [
    "Poglejmo, kako dolge so na Touru posamezne etape:"
   ]
  },
  {
   "cell_type": "code",
   "execution_count": 74,
   "id": "bd29c706-c155-41f5-be1a-cec3cc777e44",
   "metadata": {},
   "outputs": [],
   "source": [
    "df_sorted_raz = df.sort_values('razdalja')"
   ]
  },
  {
   "cell_type": "code",
   "execution_count": 75,
   "id": "3c09ea4a-9f7a-4782-8006-71358e3b66f8",
   "metadata": {},
   "outputs": [
    {
     "name": "stdout",
     "output_type": "stream",
     "text": [
      "Najdaljša je bila 5. etapa iz leta 1919, ki jo je zmagal Jean Alavoine in je bila ravninska etapa, dolga 482.0 km, najkrajša pa je bila  22. etapa iz leta 1976, ki jo je zmagal Freddy Maertens in je bila ravninska etapa, dolga 6.0 km.\n"
     ]
    }
   ],
   "source": [
    "največ_vrstica2 = df_sorted_raz.loc[df['razdalja'].idxmax()]\n",
    "najmanj_vrstica2 = df_sorted_raz.loc[df['razdalja'].idxmin()]\n",
    "print(f\"Najdaljša je bila {int(največ_vrstica2['etapa'])}. etapa iz leta {int(največ_vrstica2['leto'])}, ki jo je zmagal {največ_vrstica2['ime in priimek zmagovalca']} in je bila {največ_vrstica2['profil_etape']}, dolga {največ_vrstica2['razdalja']} km, najkrajša pa je bila  {int(najmanj_vrstica2['etapa'])}. etapa iz leta {int(najmanj_vrstica2['leto'])}, ki jo je zmagal {najmanj_vrstica2['ime in priimek zmagovalca']} in je bila {najmanj_vrstica2['profil_etape']}, dolga {najmanj_vrstica2['razdalja']} km.\")\n"
   ]
  },
  {
   "cell_type": "markdown",
   "id": "dc5f50d1-abdb-4121-b43f-fd30ccda32da",
   "metadata": {},
   "source": [
    "*Komentar: najkrajša etapa je gotovo kronometer oz. etapa, na kateri se dirka na čas. Te so zmeraj krajše od \"navadnih\" etap in njihov profil je raven, razen ko se gre za gorske kronometre. O njih bomo več povedali pozneje.*"
   ]
  },
  {
   "cell_type": "markdown",
   "id": "11a2b345-87b9-4adb-8ec4-27161b83f7fc",
   "metadata": {},
   "source": [
    "**POVPREČNA DOLŽINA ETAPE**"
   ]
  },
  {
   "cell_type": "markdown",
   "id": "3571508e-0b2a-4b98-86cc-b5bf958542b1",
   "metadata": {},
   "source": [
    "Zdaj nas zanima še, kako dolga je bila povprečna etapa na vsakem touru. Za to moramo najprej ugotoviti, koliko etap ima vsak Tour."
   ]
  },
  {
   "cell_type": "code",
   "execution_count": 76,
   "id": "6ca15414-0492-4aa9-be14-6efb8468e83b",
   "metadata": {},
   "outputs": [],
   "source": [
    "etape_na_leto = df.groupby('leto')['etapa'].max().rename('št_etap') #izračunamo št. etap na leto"
   ]
  },
  {
   "cell_type": "markdown",
   "id": "f3768dc9-f5c9-4e2d-a191-32c8295d026c",
   "metadata": {},
   "source": [
    "Zdaj, ko imamo podatke o skupni razdalji, prevoženi na Touru, in številu etap na leto, lahko izračunamo še povprečno dolžino etape na leto (ta podatek je bolj zanimiv od razdalje toura, saj ni bilo vedno 21 etap, kot je zdaj):"
   ]
  },
  {
   "cell_type": "code",
   "execution_count": 77,
   "id": "4025246e-3de4-466c-8e5e-ec897e9f556a",
   "metadata": {
    "jupyter": {
     "source_hidden": true
    },
    "scrolled": true
   },
   "outputs": [
    {
     "data": {
      "text/html": [
       "<div>\n",
       "<style scoped>\n",
       "    .dataframe tbody tr th:only-of-type {\n",
       "        vertical-align: middle;\n",
       "    }\n",
       "\n",
       "    .dataframe tbody tr th {\n",
       "        vertical-align: top;\n",
       "    }\n",
       "\n",
       "    .dataframe thead th {\n",
       "        text-align: right;\n",
       "    }\n",
       "</style>\n",
       "<table border=\"1\" class=\"dataframe\">\n",
       "  <thead>\n",
       "    <tr style=\"text-align: right;\">\n",
       "      <th></th>\n",
       "      <th>razdalja</th>\n",
       "      <th>št_etap</th>\n",
       "      <th>povpr_dolžina_etape_v_km</th>\n",
       "    </tr>\n",
       "    <tr>\n",
       "      <th>leto</th>\n",
       "      <th></th>\n",
       "      <th></th>\n",
       "      <th></th>\n",
       "    </tr>\n",
       "  </thead>\n",
       "  <tbody>\n",
       "    <tr>\n",
       "      <th>1903</th>\n",
       "      <td>1957.0</td>\n",
       "      <td>5.0</td>\n",
       "      <td>391.40</td>\n",
       "    </tr>\n",
       "    <tr>\n",
       "      <th>1904</th>\n",
       "      <td>1266.0</td>\n",
       "      <td>5.0</td>\n",
       "      <td>253.20</td>\n",
       "    </tr>\n",
       "    <tr>\n",
       "      <th>1905</th>\n",
       "      <td>2768.0</td>\n",
       "      <td>10.0</td>\n",
       "      <td>276.80</td>\n",
       "    </tr>\n",
       "    <tr>\n",
       "      <th>1906</th>\n",
       "      <td>4284.0</td>\n",
       "      <td>12.0</td>\n",
       "      <td>357.00</td>\n",
       "    </tr>\n",
       "    <tr>\n",
       "      <th>1907</th>\n",
       "      <td>4237.0</td>\n",
       "      <td>13.0</td>\n",
       "      <td>325.92</td>\n",
       "    </tr>\n",
       "    <tr>\n",
       "      <th>...</th>\n",
       "      <td>...</td>\n",
       "      <td>...</td>\n",
       "      <td>...</td>\n",
       "    </tr>\n",
       "    <tr>\n",
       "      <th>2021</th>\n",
       "      <td>3414.2</td>\n",
       "      <td>21.0</td>\n",
       "      <td>162.58</td>\n",
       "    </tr>\n",
       "    <tr>\n",
       "      <th>2022</th>\n",
       "      <td>3349.8</td>\n",
       "      <td>21.0</td>\n",
       "      <td>159.51</td>\n",
       "    </tr>\n",
       "    <tr>\n",
       "      <th>2023</th>\n",
       "      <td>3405.1</td>\n",
       "      <td>21.0</td>\n",
       "      <td>162.15</td>\n",
       "    </tr>\n",
       "    <tr>\n",
       "      <th>2024</th>\n",
       "      <td>3498.0</td>\n",
       "      <td>21.0</td>\n",
       "      <td>166.57</td>\n",
       "    </tr>\n",
       "    <tr>\n",
       "      <th>2025</th>\n",
       "      <td>3302.0</td>\n",
       "      <td>21.0</td>\n",
       "      <td>157.24</td>\n",
       "    </tr>\n",
       "  </tbody>\n",
       "</table>\n",
       "<p>112 rows × 3 columns</p>\n",
       "</div>"
      ],
      "text/plain": [
       "      razdalja  št_etap  povpr_dolžina_etape_v_km\n",
       "leto                                             \n",
       "1903    1957.0      5.0                    391.40\n",
       "1904    1266.0      5.0                    253.20\n",
       "1905    2768.0     10.0                    276.80\n",
       "1906    4284.0     12.0                    357.00\n",
       "1907    4237.0     13.0                    325.92\n",
       "...        ...      ...                       ...\n",
       "2021    3414.2     21.0                    162.58\n",
       "2022    3349.8     21.0                    159.51\n",
       "2023    3405.1     21.0                    162.15\n",
       "2024    3498.0     21.0                    166.57\n",
       "2025    3302.0     21.0                    157.24\n",
       "\n",
       "[112 rows x 3 columns]"
      ]
     },
     "execution_count": 77,
     "metadata": {},
     "output_type": "execute_result"
    }
   ],
   "source": [
    "# mergamo z ostalimi podatki in UPOŠTEVAMO TT \n",
    "tour = tour.merge(etape_na_leto, on='leto') #mergamo s 'tour'-om \n",
    "tour['povpr_dolžina_etape_v_km'] = (tour['razdalja'] / tour['št_etap']).apply(lambda x: round(x, 2))\n",
    "tour1 = tour.sort_values('leto')\n",
    "tour1"
   ]
  },
  {
   "cell_type": "code",
   "execution_count": 78,
   "id": "4a1a9274-a15a-47e3-9d35-361ce472d54e",
   "metadata": {},
   "outputs": [
    {
     "data": {
      "image/png": "[encoded data removed]",
      "text/plain": [
       "<Figure size 800x400 with 1 Axes>"
      ]
     },
     "metadata": {},
     "output_type": "display_data"
    }
   ],
   "source": [
    "plt.figure(figsize=(8,4)) #prvi graf, ki UPOŠTEVA TT\n",
    "graf = tour1.groupby('leto')['povpr_dolžina_etape_v_km'].mean()\n",
    "az = graf.plot(kind='bar', color='#178719')\n",
    "plt.grid(axis='y', linestyle='--', alpha=0.6)\n",
    "petletja = [leto for leto in graf.index if leto % 5 == 0]\n",
    "kam_petletja = [i for i, leto in enumerate(graf.index) if leto % 5 == 0]\n",
    "plt.xticks(kam_petletja, petletja, rotation=50)\n",
    "\n",
    "az.set_xlabel(\"Leta od 1903 do 2025\")\n",
    "az.set_ylabel(\"Povprečna dolžina etape (s TT) (km)\")\n",
    "az.set_title(\"Povprečna dolžina etap - vključno s TT\")\n",
    "plt.show()"
   ]
  },
  {
   "cell_type": "markdown",
   "id": "21305611-2268-415c-ab2a-959773b4794c",
   "metadata": {},
   "source": [
    "Zdaj smo upoštevali vse etape, a v zakup moramo všteti, da so nekatere etape 'posebne', saj so krajše. Na njih kolesarji ponavadi individualno tekmujejo, kdo je najhitrejši. Imenujejo se \"kronometer\" ali Time Trial etapa. Najdaljša dolžina TIme Trial (TT) etape je po predpisih lahko 60km. Ostale etape so ponavadi precej daljše in ker ni v vsakem letu enako število TT etap (in tudi niso enako dolge), nam te TT etape rahlo kvarijo statistiko povprečne dolžine etap, zato bomo tabelo popravili tako, da dodamo še stolpce, ki nam povejo, koliko etap je bilo TT etap in koliko kilometrov so kolesarji prevozili med takimi etapami ter s pomočjo le-teh še enkrat preverili povprečno dolžino etape na Tour."
   ]
  },
  {
   "cell_type": "markdown",
   "id": "c5d27a02-468c-4cdc-aa79-bab5d04f398c",
   "metadata": {},
   "source": [
    "Najprej filtriramo vse TT etape (pod 60km):"
   ]
  },
  {
   "cell_type": "code",
   "execution_count": 79,
   "id": "5dffd492-d283-4e78-b4c0-b8fe404f20f9",
   "metadata": {},
   "outputs": [],
   "source": [
    "tt_stat = (df[df['razdalja'] <= 60].groupby('leto').agg(tt_st=('etapa', 'count'),tt_razdalja=('razdalja', 'sum')))"
   ]
  },
  {
   "cell_type": "code",
   "execution_count": 80,
   "id": "938f9413-3dfc-42de-8ed2-ffd293f9e75a",
   "metadata": {},
   "outputs": [
    {
     "data": {
      "text/html": [
       "<div>\n",
       "<style scoped>\n",
       "    .dataframe tbody tr th:only-of-type {\n",
       "        vertical-align: middle;\n",
       "    }\n",
       "\n",
       "    .dataframe tbody tr th {\n",
       "        vertical-align: top;\n",
       "    }\n",
       "\n",
       "    .dataframe thead th {\n",
       "        text-align: right;\n",
       "    }\n",
       "</style>\n",
       "<table border=\"1\" class=\"dataframe\">\n",
       "  <thead>\n",
       "    <tr style=\"text-align: right;\">\n",
       "      <th></th>\n",
       "      <th>razdalja</th>\n",
       "      <th>št_etap</th>\n",
       "      <th>povpr_dolžina_etape_v_km</th>\n",
       "      <th>tt_st</th>\n",
       "      <th>tt_razdalja</th>\n",
       "      <th>povpr_dolžina_etape_v_km2</th>\n",
       "    </tr>\n",
       "    <tr>\n",
       "      <th>leto</th>\n",
       "      <th></th>\n",
       "      <th></th>\n",
       "      <th></th>\n",
       "      <th></th>\n",
       "      <th></th>\n",
       "      <th></th>\n",
       "    </tr>\n",
       "  </thead>\n",
       "  <tbody>\n",
       "    <tr>\n",
       "      <th>1903</th>\n",
       "      <td>1957.0</td>\n",
       "      <td>5</td>\n",
       "      <td>391.40</td>\n",
       "      <td>0.0</td>\n",
       "      <td>0.0</td>\n",
       "      <td>391.40</td>\n",
       "    </tr>\n",
       "    <tr>\n",
       "      <th>1904</th>\n",
       "      <td>1266.0</td>\n",
       "      <td>5</td>\n",
       "      <td>253.20</td>\n",
       "      <td>0.0</td>\n",
       "      <td>0.0</td>\n",
       "      <td>253.20</td>\n",
       "    </tr>\n",
       "    <tr>\n",
       "      <th>1905</th>\n",
       "      <td>2768.0</td>\n",
       "      <td>10</td>\n",
       "      <td>276.80</td>\n",
       "      <td>0.0</td>\n",
       "      <td>0.0</td>\n",
       "      <td>276.80</td>\n",
       "    </tr>\n",
       "    <tr>\n",
       "      <th>1906</th>\n",
       "      <td>4284.0</td>\n",
       "      <td>12</td>\n",
       "      <td>357.00</td>\n",
       "      <td>0.0</td>\n",
       "      <td>0.0</td>\n",
       "      <td>357.00</td>\n",
       "    </tr>\n",
       "    <tr>\n",
       "      <th>1907</th>\n",
       "      <td>4237.0</td>\n",
       "      <td>13</td>\n",
       "      <td>325.92</td>\n",
       "      <td>0.0</td>\n",
       "      <td>0.0</td>\n",
       "      <td>325.92</td>\n",
       "    </tr>\n",
       "    <tr>\n",
       "      <th>...</th>\n",
       "      <td>...</td>\n",
       "      <td>...</td>\n",
       "      <td>...</td>\n",
       "      <td>...</td>\n",
       "      <td>...</td>\n",
       "      <td>...</td>\n",
       "    </tr>\n",
       "    <tr>\n",
       "      <th>2021</th>\n",
       "      <td>3414.2</td>\n",
       "      <td>21</td>\n",
       "      <td>162.58</td>\n",
       "      <td>2.0</td>\n",
       "      <td>58.0</td>\n",
       "      <td>176.64</td>\n",
       "    </tr>\n",
       "    <tr>\n",
       "      <th>2022</th>\n",
       "      <td>3349.8</td>\n",
       "      <td>21</td>\n",
       "      <td>159.51</td>\n",
       "      <td>2.0</td>\n",
       "      <td>53.9</td>\n",
       "      <td>173.47</td>\n",
       "    </tr>\n",
       "    <tr>\n",
       "      <th>2023</th>\n",
       "      <td>3405.1</td>\n",
       "      <td>21</td>\n",
       "      <td>162.15</td>\n",
       "      <td>1.0</td>\n",
       "      <td>22.4</td>\n",
       "      <td>169.13</td>\n",
       "    </tr>\n",
       "    <tr>\n",
       "      <th>2024</th>\n",
       "      <td>3498.0</td>\n",
       "      <td>21</td>\n",
       "      <td>166.57</td>\n",
       "      <td>2.0</td>\n",
       "      <td>59.0</td>\n",
       "      <td>181.00</td>\n",
       "    </tr>\n",
       "    <tr>\n",
       "      <th>2025</th>\n",
       "      <td>3302.0</td>\n",
       "      <td>21</td>\n",
       "      <td>157.24</td>\n",
       "      <td>2.0</td>\n",
       "      <td>43.9</td>\n",
       "      <td>171.48</td>\n",
       "    </tr>\n",
       "  </tbody>\n",
       "</table>\n",
       "<p>112 rows × 6 columns</p>\n",
       "</div>"
      ],
      "text/plain": [
       "      razdalja  št_etap  povpr_dolžina_etape_v_km  tt_st  tt_razdalja  \\\n",
       "leto                                                                    \n",
       "1903    1957.0        5                    391.40    0.0          0.0   \n",
       "1904    1266.0        5                    253.20    0.0          0.0   \n",
       "1905    2768.0       10                    276.80    0.0          0.0   \n",
       "1906    4284.0       12                    357.00    0.0          0.0   \n",
       "1907    4237.0       13                    325.92    0.0          0.0   \n",
       "...        ...      ...                       ...    ...          ...   \n",
       "2021    3414.2       21                    162.58    2.0         58.0   \n",
       "2022    3349.8       21                    159.51    2.0         53.9   \n",
       "2023    3405.1       21                    162.15    1.0         22.4   \n",
       "2024    3498.0       21                    166.57    2.0         59.0   \n",
       "2025    3302.0       21                    157.24    2.0         43.9   \n",
       "\n",
       "      povpr_dolžina_etape_v_km2  \n",
       "leto                             \n",
       "1903                     391.40  \n",
       "1904                     253.20  \n",
       "1905                     276.80  \n",
       "1906                     357.00  \n",
       "1907                     325.92  \n",
       "...                         ...  \n",
       "2021                     176.64  \n",
       "2022                     173.47  \n",
       "2023                     169.13  \n",
       "2024                     181.00  \n",
       "2025                     171.48  \n",
       "\n",
       "[112 rows x 6 columns]"
      ]
     },
     "execution_count": 80,
     "metadata": {},
     "output_type": "execute_result"
    }
   ],
   "source": [
    "#vključimo še TT statistike in izračunamo BREZ TT:\n",
    "tour1 = tour1.merge(tt_stat, on='leto', how='left').fillna({'tt_st': 0, 'tt_razdalja': 0})  \n",
    "tour1['povpr_dolžina_etape_v_km2'] = ((tour1['razdalja'] - tour1['tt_razdalja']) / (tour1['št_etap'] - tour1['tt_st'])).apply(lambda x: round(x, 2))\n",
    "tour1[\"št_etap\"] = tour1[\"št_etap\"].astype(int)\n",
    "tour1\n"
   ]
  },
  {
   "cell_type": "markdown",
   "id": "0e21fc35-9c03-43a6-87af-1bf1fa6b2778",
   "metadata": {},
   "source": [
    "Zdaj, ko imamo število TT na leto in njihovo skupno razdaljo, lahko izločimo TT etape iz povprečja in izračunamo povprečno dolžino etape še enkrat."
   ]
  },
  {
   "cell_type": "code",
   "execution_count": 81,
   "id": "4e1dba24-7410-4cf0-b202-cac43734a692",
   "metadata": {},
   "outputs": [
    {
     "data": {
      "text/html": [
       "<div>\n",
       "<style scoped>\n",
       "    .dataframe tbody tr th:only-of-type {\n",
       "        vertical-align: middle;\n",
       "    }\n",
       "\n",
       "    .dataframe tbody tr th {\n",
       "        vertical-align: top;\n",
       "    }\n",
       "\n",
       "    .dataframe thead th {\n",
       "        text-align: right;\n",
       "    }\n",
       "</style>\n",
       "<table border=\"1\" class=\"dataframe\">\n",
       "  <thead>\n",
       "    <tr style=\"text-align: right;\">\n",
       "      <th></th>\n",
       "      <th>razdalja</th>\n",
       "      <th>št_etap</th>\n",
       "      <th>povpr_dolžina_etape_v_km</th>\n",
       "      <th>tt_st</th>\n",
       "      <th>tt_razdalja</th>\n",
       "      <th>povpr_dolžina_etape_v_km2</th>\n",
       "    </tr>\n",
       "    <tr>\n",
       "      <th>leto</th>\n",
       "      <th></th>\n",
       "      <th></th>\n",
       "      <th></th>\n",
       "      <th></th>\n",
       "      <th></th>\n",
       "      <th></th>\n",
       "    </tr>\n",
       "  </thead>\n",
       "  <tbody>\n",
       "    <tr>\n",
       "      <th>1937</th>\n",
       "      <td>3315.0</td>\n",
       "      <td>19</td>\n",
       "      <td>174.47</td>\n",
       "      <td>0.0</td>\n",
       "      <td>0.0</td>\n",
       "      <td>174.47</td>\n",
       "    </tr>\n",
       "    <tr>\n",
       "      <th>1982</th>\n",
       "      <td>3098.0</td>\n",
       "      <td>20</td>\n",
       "      <td>154.90</td>\n",
       "      <td>3.0</td>\n",
       "      <td>137.0</td>\n",
       "      <td>174.18</td>\n",
       "    </tr>\n",
       "    <tr>\n",
       "      <th>2022</th>\n",
       "      <td>3349.8</td>\n",
       "      <td>21</td>\n",
       "      <td>159.51</td>\n",
       "      <td>2.0</td>\n",
       "      <td>53.9</td>\n",
       "      <td>173.47</td>\n",
       "    </tr>\n",
       "    <tr>\n",
       "      <th>1978</th>\n",
       "      <td>3403.8</td>\n",
       "      <td>21</td>\n",
       "      <td>162.09</td>\n",
       "      <td>2.0</td>\n",
       "      <td>111.3</td>\n",
       "      <td>173.29</td>\n",
       "    </tr>\n",
       "    <tr>\n",
       "      <th>2018</th>\n",
       "      <td>3350.5</td>\n",
       "      <td>21</td>\n",
       "      <td>159.55</td>\n",
       "      <td>2.0</td>\n",
       "      <td>66.5</td>\n",
       "      <td>172.84</td>\n",
       "    </tr>\n",
       "    <tr>\n",
       "      <th>2020</th>\n",
       "      <td>3482.2</td>\n",
       "      <td>21</td>\n",
       "      <td>165.82</td>\n",
       "      <td>1.0</td>\n",
       "      <td>36.2</td>\n",
       "      <td>172.30</td>\n",
       "    </tr>\n",
       "    <tr>\n",
       "      <th>2025</th>\n",
       "      <td>3302.0</td>\n",
       "      <td>21</td>\n",
       "      <td>157.24</td>\n",
       "      <td>2.0</td>\n",
       "      <td>43.9</td>\n",
       "      <td>171.48</td>\n",
       "    </tr>\n",
       "    <tr>\n",
       "      <th>2023</th>\n",
       "      <td>3405.1</td>\n",
       "      <td>21</td>\n",
       "      <td>162.15</td>\n",
       "      <td>1.0</td>\n",
       "      <td>22.4</td>\n",
       "      <td>169.13</td>\n",
       "    </tr>\n",
       "    <tr>\n",
       "      <th>2004</th>\n",
       "      <td>2857.5</td>\n",
       "      <td>19</td>\n",
       "      <td>150.39</td>\n",
       "      <td>2.0</td>\n",
       "      <td>70.5</td>\n",
       "      <td>163.94</td>\n",
       "    </tr>\n",
       "    <tr>\n",
       "      <th>2008</th>\n",
       "      <td>2887.0</td>\n",
       "      <td>20</td>\n",
       "      <td>144.35</td>\n",
       "      <td>2.0</td>\n",
       "      <td>82.5</td>\n",
       "      <td>155.81</td>\n",
       "    </tr>\n",
       "  </tbody>\n",
       "</table>\n",
       "</div>"
      ],
      "text/plain": [
       "      razdalja  št_etap  povpr_dolžina_etape_v_km  tt_st  tt_razdalja  \\\n",
       "leto                                                                    \n",
       "1937    3315.0       19                    174.47    0.0          0.0   \n",
       "1982    3098.0       20                    154.90    3.0        137.0   \n",
       "2022    3349.8       21                    159.51    2.0         53.9   \n",
       "1978    3403.8       21                    162.09    2.0        111.3   \n",
       "2018    3350.5       21                    159.55    2.0         66.5   \n",
       "2020    3482.2       21                    165.82    1.0         36.2   \n",
       "2025    3302.0       21                    157.24    2.0         43.9   \n",
       "2023    3405.1       21                    162.15    1.0         22.4   \n",
       "2004    2857.5       19                    150.39    2.0         70.5   \n",
       "2008    2887.0       20                    144.35    2.0         82.5   \n",
       "\n",
       "      povpr_dolžina_etape_v_km2  \n",
       "leto                             \n",
       "1937                     174.47  \n",
       "1982                     174.18  \n",
       "2022                     173.47  \n",
       "1978                     173.29  \n",
       "2018                     172.84  \n",
       "2020                     172.30  \n",
       "2025                     171.48  \n",
       "2023                     169.13  \n",
       "2004                     163.94  \n",
       "2008                     155.81  "
      ]
     },
     "execution_count": 81,
     "metadata": {},
     "output_type": "execute_result"
    }
   ],
   "source": [
    "tour1['povpr_dolžina_etape_v_km2']= ((tour1['razdalja'] - tour1['tt_razdalja']) / (tour1['št_etap'] - tour1['tt_st'])).apply(lambda x: round(x, 2))\n",
    "tour1.sort_values('povpr_dolžina_etape_v_km2', ascending=False).tail(10)\n"
   ]
  },
  {
   "cell_type": "markdown",
   "id": "2e76ff95-2f73-4309-8d9d-6241ccab4059",
   "metadata": {},
   "source": [
    "Vidimo, da za leto z najdaljšo povprečno dolžino etape sprememba s pomočjo štetja TT etap ni bila potrebna, v obeh primerih sta namreč Toura s povprečno najdaljšo etapo 2. in 1. Tour de France, kar nas glede na to, da so začeli priprejati TT leta 1934 ne preseneča (vseeno pa je zanimivo, da so najdaljše etape in najdaljši Touri na splošno bili prirejeni na začetku; mislil bi si, da so zdaj, ko je šport vse bolj tekmovalen, etape daljše, pa ni res). Glede Toura z najkrajšo povprečno etapo pa se podatek spremeni: pred popravkom je bil to Tour iz leta 1990, po popravku pa Tour iz leta 2011. Vidimo tudi, da sta si grafa pred izločitvijo TT etap in po njej precej podobna."
   ]
  },
  {
   "cell_type": "code",
   "execution_count": 82,
   "id": "21e2bd85-245d-42e2-897a-af8f627c335a",
   "metadata": {
    "scrolled": true
   },
   "outputs": [
    {
     "data": {
      "image/png": "[encoded data removed]",
      "text/plain": [
       "<Figure size 800x400 with 1 Axes>"
      ]
     },
     "metadata": {},
     "output_type": "display_data"
    }
   ],
   "source": [
    "#drugi graf, ki IZVZAME TT:\n",
    "plt.figure(figsize=(8,4))\n",
    "graf = tour1.groupby('leto')['povpr_dolžina_etape_v_km2'].mean()\n",
    "ay = graf.plot(kind='bar', color='#e0582f')\n",
    "petletja = [leto for leto in graf.index if leto % 5 == 0]\n",
    "kam_petletja = [i for i, leto in enumerate(graf.index) if leto % 5 == 0]\n",
    "plt.xticks(kam_petletja, petletja, rotation=50)\n",
    "ay.set_xlabel(\"\")\n",
    "plt.grid(axis='y', linestyle='--', alpha=0.6)\n",
    "ay.set_ylabel(\"dolžina etape (km)\")\n",
    "ay.set_title(\"Povprečna dolžina etap (brez TT)\")\n",
    "plt.show()"
   ]
  },
  {
   "cell_type": "markdown",
   "id": "cbf32858-815f-43c8-a5f9-76bb12e77919",
   "metadata": {},
   "source": [
    "Vidimo lahko, da so ne glede na to, ali zraven štejemo TT etape ali ne, bile etape in Tour najdaljši v 20ih letih prejšnjega stoletja, kar je zanimivo (mislili bi si, da s tem, ko v ta (zelo popularen) šport prihaja vedno več sponzorjev in ekip, tour postaja bolj senzionalističen in tako tudi daljši). Veliko povprečno razdaljo etap čisto na začetku prirejanja Toura si lahko razlagamo, saj spodaj vidimo, da je bilo takrat le 5 etap, ki so posledično morale biti daljše. \n",
    "\n",
    "Poglejmo ju drug ob drugem:\n"
   ]
  },
  {
   "cell_type": "code",
   "execution_count": 83,
   "id": "9571557f-3f1c-46a0-b30b-8cf8ecada72c",
   "metadata": {},
   "outputs": [
    {
     "data": {
      "image/png": "[encoded data removed]",
      "text/plain": [
       "<Figure size 1600x500 with 2 Axes>"
      ]
     },
     "metadata": {},
     "output_type": "display_data"
    }
   ],
   "source": [
    "brez_tt = tour1.groupby('leto')['povpr_dolžina_etape_v_km2'].mean()\n",
    "s_tt = tour1.groupby('leto')['povpr_dolžina_etape_v_km'].mean()\n",
    "fig, (ax1, ax2) = plt.subplots(1, 2, figsize=(16, 5))\n",
    "# brez TT\n",
    "brez_tt.plot(kind='bar', color='#e0582f', ax=ax1)\n",
    "ax1.set_xlabel(\"Leta od 1903 do 2025\")\n",
    "ax1.set_ylabel(\"Dolžina etape (km)\")\n",
    "ax1.set_title(\"Povprečna dolžina etap (brez TT)\")\n",
    "ax1.set_xticks([]) \n",
    "# s TT\n",
    "s_tt.plot(kind='bar', color='#178719', ax=ax2)\n",
    "ax2.set_xlabel(\"Leta od 1903 do 2025\")\n",
    "ax2.set_ylabel(\"Povprečna dolžina etape (s TT) (km)\")\n",
    "ax2.set_title(\"Povprečna dolžina etap - vključno s TT\")\n",
    "ax2.set_xticks([])\n",
    "\n",
    "plt.tight_layout()\n",
    "plt.show()\n"
   ]
  },
  {
   "cell_type": "markdown",
   "id": "375367a2-4fbd-4956-877a-74523d0f0360",
   "metadata": {},
   "source": [
    "*Komentar: Ko v tem podpoglavju analiziramo povprečne dolžine etap, ugotovimo, da so povprečno najdaljše etape v 20ih letih prejšnjega stoletja. Ta podatek se ujema s prejšnjo analizo dolžine Toura, kjer smo ugotovili, da so bili Touri prav tako najdaljši v 20ih letih prejšnjega stoletja.*"
   ]
  },
  {
   "cell_type": "markdown",
   "id": "159164cc-d212-4b11-892d-e9fc517e57b7",
   "metadata": {},
   "source": [
    "**DOLŽINA TIME TRIAL DELA NA TOUR DE FRANCE**"
   ]
  },
  {
   "cell_type": "markdown",
   "id": "0ecaffe0-752d-49f9-b431-651cd2c27f26",
   "metadata": {},
   "source": [
    "Sproti lahko pogledamo tudi, katera leta je bilo največ prevoženih kilometrov pri TT etapah in koliko je bilo največje število TT etap:\n",
    "\n",
    "\n",
    "\n"
   ]
  },
  {
   "cell_type": "code",
   "execution_count": 84,
   "id": "e44cf5e9-c7d9-45e7-aab9-cd943b6d60ee",
   "metadata": {},
   "outputs": [
    {
     "data": {
      "text/html": [
       "<div>\n",
       "<style scoped>\n",
       "    .dataframe tbody tr th:only-of-type {\n",
       "        vertical-align: middle;\n",
       "    }\n",
       "\n",
       "    .dataframe tbody tr th {\n",
       "        vertical-align: top;\n",
       "    }\n",
       "\n",
       "    .dataframe thead th {\n",
       "        text-align: right;\n",
       "    }\n",
       "</style>\n",
       "<table border=\"1\" class=\"dataframe\">\n",
       "  <thead>\n",
       "    <tr style=\"text-align: right;\">\n",
       "      <th></th>\n",
       "      <th>leto</th>\n",
       "      <th>razdalja</th>\n",
       "      <th>št_etap</th>\n",
       "      <th>povpr_dolžina_etape_v_km</th>\n",
       "      <th>tt_st</th>\n",
       "      <th>tt_razdalja</th>\n",
       "      <th>povpr_dolžina_etape_v_km2</th>\n",
       "    </tr>\n",
       "  </thead>\n",
       "  <tbody>\n",
       "    <tr>\n",
       "      <th>74</th>\n",
       "      <td>1988</td>\n",
       "      <td>3111.0</td>\n",
       "      <td>21</td>\n",
       "      <td>148.14</td>\n",
       "      <td>5</td>\n",
       "      <td>222.0</td>\n",
       "      <td>180.56</td>\n",
       "    </tr>\n",
       "    <tr>\n",
       "      <th>65</th>\n",
       "      <td>1979</td>\n",
       "      <td>3718.5</td>\n",
       "      <td>24</td>\n",
       "      <td>154.94</td>\n",
       "      <td>4</td>\n",
       "      <td>162.8</td>\n",
       "      <td>177.78</td>\n",
       "    </tr>\n",
       "    <tr>\n",
       "      <th>69</th>\n",
       "      <td>1983</td>\n",
       "      <td>3551.5</td>\n",
       "      <td>21</td>\n",
       "      <td>169.12</td>\n",
       "      <td>4</td>\n",
       "      <td>138.0</td>\n",
       "      <td>200.79</td>\n",
       "    </tr>\n",
       "    <tr>\n",
       "      <th>68</th>\n",
       "      <td>1982</td>\n",
       "      <td>3098.0</td>\n",
       "      <td>20</td>\n",
       "      <td>154.90</td>\n",
       "      <td>3</td>\n",
       "      <td>137.0</td>\n",
       "      <td>174.18</td>\n",
       "    </tr>\n",
       "    <tr>\n",
       "      <th>71</th>\n",
       "      <td>1985</td>\n",
       "      <td>3820.0</td>\n",
       "      <td>21</td>\n",
       "      <td>181.90</td>\n",
       "      <td>3</td>\n",
       "      <td>130.0</td>\n",
       "      <td>205.00</td>\n",
       "    </tr>\n",
       "    <tr>\n",
       "      <th>76</th>\n",
       "      <td>1990</td>\n",
       "      <td>3215.4</td>\n",
       "      <td>20</td>\n",
       "      <td>160.77</td>\n",
       "      <td>3</td>\n",
       "      <td>123.5</td>\n",
       "      <td>181.88</td>\n",
       "    </tr>\n",
       "    <tr>\n",
       "      <th>58</th>\n",
       "      <td>1972</td>\n",
       "      <td>3570.5</td>\n",
       "      <td>20</td>\n",
       "      <td>178.53</td>\n",
       "      <td>3</td>\n",
       "      <td>121.0</td>\n",
       "      <td>202.91</td>\n",
       "    </tr>\n",
       "    <tr>\n",
       "      <th>66</th>\n",
       "      <td>1980</td>\n",
       "      <td>3591.9</td>\n",
       "      <td>21</td>\n",
       "      <td>171.04</td>\n",
       "      <td>3</td>\n",
       "      <td>118.9</td>\n",
       "      <td>192.94</td>\n",
       "    </tr>\n",
       "    <tr>\n",
       "      <th>73</th>\n",
       "      <td>1987</td>\n",
       "      <td>4011.0</td>\n",
       "      <td>24</td>\n",
       "      <td>167.12</td>\n",
       "      <td>3</td>\n",
       "      <td>115.0</td>\n",
       "      <td>185.52</td>\n",
       "    </tr>\n",
       "    <tr>\n",
       "      <th>105</th>\n",
       "      <td>2019</td>\n",
       "      <td>3365.8</td>\n",
       "      <td>21</td>\n",
       "      <td>160.28</td>\n",
       "      <td>3</td>\n",
       "      <td>114.3</td>\n",
       "      <td>180.64</td>\n",
       "    </tr>\n",
       "  </tbody>\n",
       "</table>\n",
       "</div>"
      ],
      "text/plain": [
       "     leto  razdalja  št_etap  povpr_dolžina_etape_v_km  tt_st  tt_razdalja  \\\n",
       "74   1988    3111.0       21                    148.14      5        222.0   \n",
       "65   1979    3718.5       24                    154.94      4        162.8   \n",
       "69   1983    3551.5       21                    169.12      4        138.0   \n",
       "68   1982    3098.0       20                    154.90      3        137.0   \n",
       "71   1985    3820.0       21                    181.90      3        130.0   \n",
       "76   1990    3215.4       20                    160.77      3        123.5   \n",
       "58   1972    3570.5       20                    178.53      3        121.0   \n",
       "66   1980    3591.9       21                    171.04      3        118.9   \n",
       "73   1987    4011.0       24                    167.12      3        115.0   \n",
       "105  2019    3365.8       21                    160.28      3        114.3   \n",
       "\n",
       "     povpr_dolžina_etape_v_km2  \n",
       "74                      180.56  \n",
       "65                      177.78  \n",
       "69                      200.79  \n",
       "68                      174.18  \n",
       "71                      205.00  \n",
       "76                      181.88  \n",
       "58                      202.91  \n",
       "66                      192.94  \n",
       "73                      185.52  \n",
       "105                     180.64  "
      ]
     },
     "execution_count": 84,
     "metadata": {},
     "output_type": "execute_result"
    }
   ],
   "source": [
    "tour1 = tour1.reset_index()\n",
    "tour1['tt_st'] = tour1['tt_st'].astype(int) #popravimo iz floata v int\n",
    "tour1['št_etap'] = tour1['št_etap'].astype(int)\n",
    "tour1.sort_values('tt_razdalja',ascending=False).head(10)"
   ]
  },
  {
   "cell_type": "code",
   "execution_count": 85,
   "id": "4b406379-b47b-40c9-b976-50d2e9d069f5",
   "metadata": {},
   "outputs": [
    {
     "name": "stdout",
     "output_type": "stream",
     "text": [
      "Največje število kronometrov na enem Tour-u je bilo 5 etap leta 1988, ko so na TT delu Toura prevozili kar 222.0 km.\n"
     ]
    }
   ],
   "source": [
    "največje_število_tt = tour1.loc[tour1['tt_st'].idxmax()]\n",
    "print(f\"Največje število kronometrov na enem Tour-u je bilo {int(največje_število_tt['tt_st'])} etap leta {int(največje_število_tt['leto'])}, ko so na TT delu Toura prevozili kar {največje_število_tt['tt_razdalja']} km.\")"
   ]
  },
  {
   "cell_type": "markdown",
   "id": "39289d1f-acf3-4c7a-99f8-a5711eeea745",
   "metadata": {},
   "source": [
    "**PORAZDELITEV ŠTEVILA ETAP NA TOUR-U**"
   ]
  },
  {
   "cell_type": "markdown",
   "id": "4d89c6c4-cb49-429e-aedf-596b73613953",
   "metadata": {},
   "source": [
    "Sproti tudi opazimo, da nima vsak Tour enakega števila etap, zato nas zanima, kako pogosto je določeno število etap na leto. To bomo predstavili s tortnim diagramom:\n"
   ]
  },
  {
   "cell_type": "code",
   "execution_count": 86,
   "id": "f7e84980-a879-450b-8e23-5c06716d982a",
   "metadata": {},
   "outputs": [
    {
     "data": {
      "image/png": "[encoded data removed]",
      "text/plain": [
       "<Figure size 800x400 with 1 Axes>"
      ]
     },
     "metadata": {},
     "output_type": "display_data"
    }
   ],
   "source": [
    "etape_stev = tour['št_etap'].value_counts()\n",
    "\n",
    "plt.figure(figsize=(8, 4))\n",
    "patches, texts, autotexts = plt.pie(etape_stev, labels=None,  \n",
    "    autopct=lambda p: f'{p:.1f}%' if p > 5 else '',  # Da se oznake za procente ne prekrivajo, iločimo vse, ki so manjši od 5%\n",
    "    startangle=90,\n",
    "    counterclock=False,\n",
    "    colors=['#ff6b6b', '#4ecdc4', '#45b7d1', '#ffbe0b', '#fb5607','#8338ec', '#3a86ff', '#ff006e', '#a5dd9b', '#f9c74f', '#90be6d', '#577590', '#f94144', '#f3722c', '#43aa8b'],wedgeprops={'linewidth': 0.5, 'edgecolor': 'white'})\n",
    "\n",
    "plt.legend(handles=patches,labels=[f'{int(st)} ({pct:.1f}%)' for st, pct in zip(etape_stev.index, etape_stev / etape_stev.sum() * 100)],title='Št. etap',loc='center left',bbox_to_anchor=(1, 0.5),frameon=False)\n",
    "plt.title('Porazdelitev števila etap na Tour de France', pad=20)\n",
    "plt.show()"
   ]
  },
  {
   "cell_type": "markdown",
   "id": "54f562b5-ae1b-4ea4-ae5d-d0afe2548c1d",
   "metadata": {},
   "source": [
    "Če pogledamo še stolpični diagram, lahko vidimo, da se je število etap na leto (prbl.21) od sedemdesetih let prejšnjega stoletja precej ustalilo (tako nas ne preseneča, da je največji delež Tourov imelo 21 etap), vmes je število nihalo nekako med 15 in 24 etapami, čisto na začetku prirejanja pa je bilo v primerjavi z zdaj zelo malo etap."
   ]
  },
  {
   "cell_type": "code",
   "execution_count": 87,
   "id": "2301c33c-aa3d-48fa-a11d-496e1b5b96e2",
   "metadata": {},
   "outputs": [
    {
     "data": {
      "image/png": "[encoded data removed]",
      "text/plain": [
       "<Figure size 1000x400 with 1 Axes>"
      ]
     },
     "metadata": {},
     "output_type": "display_data"
    }
   ],
   "source": [
    "graf = tour.groupby('leto')['št_etap'].mean()\n",
    "graf4 = graf.plot(kind='bar', figsize=(10, 4))\n",
    "petletja = [leto for leto in graf.index if leto % 5 == 0]\n",
    "kam_petletja = [i for i, leto in enumerate(graf.index) if leto % 5 == 0]\n",
    "plt.xticks(kam_petletja, petletja, rotation=50)\n",
    "plt.yticks([i for i in range(0, 26)], [i for i in range(0, 26)])\n",
    "graf4.set_xlabel(\" \")\n",
    "graf4.set_ylabel(\"Število etap\")\n",
    "plt.grid(axis='y', linestyle='--', alpha=0.6)\n",
    "graf4.set_title(\"Število etap na leto\")\n",
    "plt.show()"
   ]
  },
  {
   "cell_type": "markdown",
   "id": "6b5d5209-d163-4a8b-8173-7e4698d6d6c1",
   "metadata": {},
   "source": [
    "**NAJHITREJŠE IN NAJPOČASNEJŠE ETAPE**\n",
    "\n",
    "\n"
   ]
  },
  {
   "cell_type": "markdown",
   "id": "7471c63f-bbc8-4748-93a0-5d280d2b0535",
   "metadata": {},
   "source": [
    "Poglejmo, kaj sta najvišja in najnižja hitrost, s katero je vozil zmagovalec etape:"
   ]
  },
  {
   "cell_type": "code",
   "execution_count": 88,
   "id": "429bc5fd-614c-4046-b350-f1972a809b45",
   "metadata": {
    "scrolled": true
   },
   "outputs": [
    {
     "name": "stdout",
     "output_type": "stream",
     "text": [
      "Najvišja povprečna hitrost zmagovalca je bila 57.77 km/h na 4.0. etapi leta 2013, ko je zmagal Simon Gerrans, najnižja povprečna hitrost zmagovalca pa je bila  9.551 km/h na 3.0. etapi leta 1970, ko je zmagal Italo Zilioli.\n"
     ]
    }
   ],
   "source": [
    "največ_vrstica1 = df.loc[df['povprecna_hitrost_v_km/h'].idxmax()]\n",
    "najmanj_vrstica1 = df.loc[df['povprecna_hitrost_v_km/h'].idxmin()]\n",
    "\n",
    "print(f\"Najvišja povprečna hitrost zmagovalca je bila {največ_vrstica1['povprecna_hitrost_v_km/h']} km/h na {največ_vrstica1['etapa']}. etapi leta {int(največ_vrstica1['leto'])}, ko je zmagal {največ_vrstica1['ime in priimek zmagovalca']}, najnižja povprečna hitrost zmagovalca pa je bila  {najmanj_vrstica1['povprecna_hitrost_v_km/h']} km/h na {najmanj_vrstica1['etapa']}. etapi leta {int(najmanj_vrstica1['leto'])}, ko je zmagal {najmanj_vrstica1['ime in priimek zmagovalca']}.\" )"
   ]
  },
  {
   "cell_type": "markdown",
   "id": "b691fd7a-c4d0-4733-ae9c-3898eb119f29",
   "metadata": {},
   "source": [
    "Podatek o hitrosti 9,551 km/h se nam zdi sumljiv, ga preverimo. Ugotovimo, da je 3. etapa leta 1970 bila razdeljena na dva dela, ki sta ekipni dirki na čas. Tega naša koda in tudi sama stuktura našega pobiranja podatkov ni predvidela, zato bomo to etapo izključili iz statistike in vzeli tretjo (tudi druga najpočasnejša etapa ima namreč isto strukturo) najpočasnejšo etapo: "
   ]
  },
  {
   "cell_type": "code",
   "execution_count": 89,
   "id": "9f0261f9-9a7d-422e-88d8-b3c7b146113c",
   "metadata": {},
   "outputs": [
    {
     "name": "stdout",
     "output_type": "stream",
     "text": [
      "Najvišja povprečna hitrost zmagovalca je bila 57.77 km/h na 4.0. etapi leta 2013, ko je zmagal Simon Gerrans, najnižja povprečna hitrost zmagovalca pa je bila  18.86 km/h na 15.0. etapi leta 1927, ko je zmagal Nicolas Frantz.\n"
     ]
    }
   ],
   "source": [
    "najmanj_vrstica1 = df.sort_values(by='povprecna_hitrost_v_km/h').iloc[2]\n",
    "print(f\"Najvišja povprečna hitrost zmagovalca je bila {največ_vrstica1['povprecna_hitrost_v_km/h']} km/h na {največ_vrstica1['etapa']}. etapi leta {int(največ_vrstica1['leto'])}, ko je zmagal {največ_vrstica1['ime in priimek zmagovalca']}, najnižja povprečna hitrost zmagovalca pa je bila  {najmanj_vrstica1['povprecna_hitrost_v_km/h']} km/h na {najmanj_vrstica1['etapa']}. etapi leta {int(najmanj_vrstica1['leto'])}, ko je zmagal {najmanj_vrstica1['ime in priimek zmagovalca']}.\" )"
   ]
  },
  {
   "cell_type": "markdown",
   "id": "6adcbb9a-01ea-4a24-ae62-2b179123d481",
   "metadata": {},
   "source": [
    "## Profil in težavnost etap"
   ]
  },
  {
   "cell_type": "markdown",
   "id": "2dc7176f-f9c1-41b0-bae8-120f5a628a24",
   "metadata": {},
   "source": [
    "Tour de France je ponavadi sestavljen iz nekaj TT etap (kot smo prej videli, jih je bilo vedno <= 5). Ostalo so daljše etape, ki jih ponavadi razporedimo na ravninske, hribovite in gorske etape. Naša spletna stran obravbnava posebej, ko je pri hriboviti ali gorski etapi vzpon na cilju in ko je raven cilj, tako da imamo 5 različnih vrst etap poleg TT etap. V tem poglavju nas bodo najbolj zanimale gorske etape in\n",
    "težavnost etap. To merimo z lestvico 'ProfileScore', ki je razložena na  spletni strani, iz katere smo pobrali podatke (https://www.procyclingstats.com/info/profile-score-explained): \"We included three variables into our PCS ProfileScore formula:\n",
    "- <p>Position of climb from finish</p>\n",
    "- <p>Steepness</p>\n",
    "- <p>Length of the climb</p>\n",
    "\n",
    "First we compute the score for each individual climb in the stage by the following formula:\n",
    "<p>([Steepnes] / 2)^2 * [Length in KM].</p>\n",
    "Then we multiply this score by a factor dependent of the distance from the finish line.\"\n",
    "\n",
    "Tako lahko s to lestvico preverimo, katere etape so bile najtežje (in tako vidimo, kateri kolesar (zmagovalec te etape) je res najboljši plezalec na eni etapi).\n"
   ]
  },
  {
   "cell_type": "markdown",
   "id": "b11dfd42-df49-45b3-b3fb-57e0d6295ea7",
   "metadata": {},
   "source": [
    "**NAJVIŠJE TOČKOVANJE NA PROFILESCORE LESTVICI IN POZITIVNA VIŠINSKA RAZLIKA**"
   ]
  },
  {
   "cell_type": "markdown",
   "id": "98cbe241-8c0a-4d46-a100-38d41fa16a24",
   "metadata": {},
   "source": [
    "Poglejmo, katere etape so imele največjo pozitivno višinsko razliko:"
   ]
  },
  {
   "cell_type": "code",
   "execution_count": 90,
   "id": "84d92f77-d465-4b0f-a43c-b099aa1256f1",
   "metadata": {
    "scrolled": true
   },
   "outputs": [
    {
     "data": {
      "text/html": [
       "<div>\n",
       "<style scoped>\n",
       "    .dataframe tbody tr th:only-of-type {\n",
       "        vertical-align: middle;\n",
       "    }\n",
       "\n",
       "    .dataframe tbody tr th {\n",
       "        vertical-align: top;\n",
       "    }\n",
       "\n",
       "    .dataframe thead th {\n",
       "        text-align: right;\n",
       "    }\n",
       "</style>\n",
       "<table border=\"1\" class=\"dataframe\">\n",
       "  <thead>\n",
       "    <tr style=\"text-align: right;\">\n",
       "      <th></th>\n",
       "      <th>leto</th>\n",
       "      <th>etapa</th>\n",
       "      <th>težavnost</th>\n",
       "      <th>visinska_razlika</th>\n",
       "      <th>ime in priimek zmagovalca</th>\n",
       "    </tr>\n",
       "  </thead>\n",
       "  <tbody>\n",
       "    <tr>\n",
       "      <th>1484</th>\n",
       "      <td>1992</td>\n",
       "      <td>13</td>\n",
       "      <td>608.0</td>\n",
       "      <td>6974.0</td>\n",
       "      <td>Claudio Chiappucci</td>\n",
       "    </tr>\n",
       "    <tr>\n",
       "      <th>1105</th>\n",
       "      <td>1974</td>\n",
       "      <td>11</td>\n",
       "      <td>439.0</td>\n",
       "      <td>6659.0</td>\n",
       "      <td>Vicente López</td>\n",
       "    </tr>\n",
       "    <tr>\n",
       "      <th>1298</th>\n",
       "      <td>1983</td>\n",
       "      <td>18</td>\n",
       "      <td>572.0</td>\n",
       "      <td>6589.0</td>\n",
       "      <td>Jacques Michaud</td>\n",
       "    </tr>\n",
       "    <tr>\n",
       "      <th>1082</th>\n",
       "      <td>1973</td>\n",
       "      <td>8</td>\n",
       "      <td>532.0</td>\n",
       "      <td>6500.0</td>\n",
       "      <td>Luis Ocaña</td>\n",
       "    </tr>\n",
       "    <tr>\n",
       "      <th>1297</th>\n",
       "      <td>1983</td>\n",
       "      <td>17</td>\n",
       "      <td>620.0</td>\n",
       "      <td>6500.0</td>\n",
       "      <td>Peter Winnen</td>\n",
       "    </tr>\n",
       "    <tr>\n",
       "      <th>1130</th>\n",
       "      <td>1975</td>\n",
       "      <td>15</td>\n",
       "      <td>707.0</td>\n",
       "      <td>6500.0</td>\n",
       "      <td>Bernard Thévenet</td>\n",
       "    </tr>\n",
       "    <tr>\n",
       "      <th>1194</th>\n",
       "      <td>1978</td>\n",
       "      <td>17</td>\n",
       "      <td>520.0</td>\n",
       "      <td>6500.0</td>\n",
       "      <td>Christian Seznec</td>\n",
       "    </tr>\n",
       "    <tr>\n",
       "      <th>1144</th>\n",
       "      <td>1976</td>\n",
       "      <td>9</td>\n",
       "      <td>457.0</td>\n",
       "      <td>6481.0</td>\n",
       "      <td>Joop Zoetemelk</td>\n",
       "    </tr>\n",
       "    <tr>\n",
       "      <th>1640</th>\n",
       "      <td>2000</td>\n",
       "      <td>14</td>\n",
       "      <td>346.0</td>\n",
       "      <td>6425.0</td>\n",
       "      <td>Santiago Botero</td>\n",
       "    </tr>\n",
       "    <tr>\n",
       "      <th>585</th>\n",
       "      <td>1949</td>\n",
       "      <td>16</td>\n",
       "      <td>0.0</td>\n",
       "      <td>6414.0</td>\n",
       "      <td>Gino Bartali</td>\n",
       "    </tr>\n",
       "  </tbody>\n",
       "</table>\n",
       "</div>"
      ],
      "text/plain": [
       "      leto  etapa  težavnost  visinska_razlika ime in priimek zmagovalca\n",
       "1484  1992     13      608.0            6974.0        Claudio Chiappucci\n",
       "1105  1974     11      439.0            6659.0             Vicente López\n",
       "1298  1983     18      572.0            6589.0           Jacques Michaud\n",
       "1082  1973      8      532.0            6500.0                Luis Ocaña\n",
       "1297  1983     17      620.0            6500.0              Peter Winnen\n",
       "1130  1975     15      707.0            6500.0          Bernard Thévenet\n",
       "1194  1978     17      520.0            6500.0          Christian Seznec\n",
       "1144  1976      9      457.0            6481.0            Joop Zoetemelk\n",
       "1640  2000     14      346.0            6425.0           Santiago Botero\n",
       "585   1949     16        0.0            6414.0              Gino Bartali"
      ]
     },
     "execution_count": 90,
     "metadata": {},
     "output_type": "execute_result"
    }
   ],
   "source": [
    "# ugotovimo, da nam podatki o višini in PS delajo probleme, zato jih spremenimo v numerične vrednosti:\n",
    "df['visinska_razlika'] = pd.to_numeric(df['visinska_razlika'], errors='coerce')\n",
    "df['težavnost'] = pd.to_numeric(df['težavnost'],errors='coerce')\n",
    "#zdaj poskusimo narediti lestvico za tezavnost :\n",
    "top10_tezavnost = pd.DataFrame(df[df['težavnost'].notna()].sort_values('težavnost', ascending=False).head(10)[['leto', 'etapa', 'težavnost', 'visinska_razlika', 'ime in priimek zmagovalca']])\n",
    "top10_tezavnost['etapa'] = top10_tezavnost['etapa'].astype(int)\n",
    "#enako za visinsko razliko\n",
    "top10_visinska = pd.DataFrame(df[df['visinska_razlika'].notna()].sort_values('visinska_razlika', ascending=False).head(10)[['leto', 'etapa', 'težavnost', 'visinska_razlika', 'ime in priimek zmagovalca']]) \n",
    "top10_visinska['etapa'] = top10_visinska['etapa'].astype(int)\n",
    "top10_visinska"
   ]
  },
  {
   "cell_type": "markdown",
   "id": "af3baf75-1333-4545-86be-fa3eac4ee0f1",
   "metadata": {},
   "source": [
    "In katere etape so imele najvišjo oceno težavnosti po lestvici ProfileScore:"
   ]
  },
  {
   "cell_type": "code",
   "execution_count": 91,
   "id": "4c657a73-c07c-4a8b-b0f4-08b69aaefeb8",
   "metadata": {
    "scrolled": true
   },
   "outputs": [
    {
     "data": {
      "text/html": [
       "<div>\n",
       "<style scoped>\n",
       "    .dataframe tbody tr th:only-of-type {\n",
       "        vertical-align: middle;\n",
       "    }\n",
       "\n",
       "    .dataframe tbody tr th {\n",
       "        vertical-align: top;\n",
       "    }\n",
       "\n",
       "    .dataframe thead th {\n",
       "        text-align: right;\n",
       "    }\n",
       "</style>\n",
       "<table border=\"1\" class=\"dataframe\">\n",
       "  <thead>\n",
       "    <tr style=\"text-align: right;\">\n",
       "      <th></th>\n",
       "      <th>leto</th>\n",
       "      <th>etapa</th>\n",
       "      <th>težavnost</th>\n",
       "      <th>visinska_razlika</th>\n",
       "      <th>ime in priimek zmagovalca</th>\n",
       "    </tr>\n",
       "  </thead>\n",
       "  <tbody>\n",
       "    <tr>\n",
       "      <th>1259</th>\n",
       "      <td>1981</td>\n",
       "      <td>17</td>\n",
       "      <td>753.0</td>\n",
       "      <td>5245.0</td>\n",
       "      <td>Peter Winnen</td>\n",
       "    </tr>\n",
       "    <tr>\n",
       "      <th>1130</th>\n",
       "      <td>1975</td>\n",
       "      <td>15</td>\n",
       "      <td>707.0</td>\n",
       "      <td>6500.0</td>\n",
       "      <td>Bernard Thévenet</td>\n",
       "    </tr>\n",
       "    <tr>\n",
       "      <th>1404</th>\n",
       "      <td>1988</td>\n",
       "      <td>15</td>\n",
       "      <td>659.0</td>\n",
       "      <td>6000.0</td>\n",
       "      <td>Laudelino Cubino</td>\n",
       "    </tr>\n",
       "    <tr>\n",
       "      <th>1083</th>\n",
       "      <td>1973</td>\n",
       "      <td>9</td>\n",
       "      <td>642.0</td>\n",
       "      <td>6000.0</td>\n",
       "      <td>Vicente López</td>\n",
       "    </tr>\n",
       "    <tr>\n",
       "      <th>1401</th>\n",
       "      <td>1988</td>\n",
       "      <td>12</td>\n",
       "      <td>634.0</td>\n",
       "      <td>6000.0</td>\n",
       "      <td>Steven Rooks</td>\n",
       "    </tr>\n",
       "    <tr>\n",
       "      <th>1297</th>\n",
       "      <td>1983</td>\n",
       "      <td>17</td>\n",
       "      <td>620.0</td>\n",
       "      <td>6500.0</td>\n",
       "      <td>Peter Winnen</td>\n",
       "    </tr>\n",
       "    <tr>\n",
       "      <th>1582</th>\n",
       "      <td>1997</td>\n",
       "      <td>14</td>\n",
       "      <td>619.0</td>\n",
       "      <td>5000.0</td>\n",
       "      <td>Richard Virenque</td>\n",
       "    </tr>\n",
       "    <tr>\n",
       "      <th>1522</th>\n",
       "      <td>1994</td>\n",
       "      <td>12</td>\n",
       "      <td>618.0</td>\n",
       "      <td>5500.0</td>\n",
       "      <td>Richard Virenque</td>\n",
       "    </tr>\n",
       "    <tr>\n",
       "      <th>1110</th>\n",
       "      <td>1974</td>\n",
       "      <td>16</td>\n",
       "      <td>617.0</td>\n",
       "      <td>5500.0</td>\n",
       "      <td>Raymond Poulidor</td>\n",
       "    </tr>\n",
       "    <tr>\n",
       "      <th>1485</th>\n",
       "      <td>1992</td>\n",
       "      <td>14</td>\n",
       "      <td>613.0</td>\n",
       "      <td>6000.0</td>\n",
       "      <td>Andrew Hampsten</td>\n",
       "    </tr>\n",
       "  </tbody>\n",
       "</table>\n",
       "</div>"
      ],
      "text/plain": [
       "      leto  etapa  težavnost  visinska_razlika ime in priimek zmagovalca\n",
       "1259  1981     17      753.0            5245.0              Peter Winnen\n",
       "1130  1975     15      707.0            6500.0          Bernard Thévenet\n",
       "1404  1988     15      659.0            6000.0          Laudelino Cubino\n",
       "1083  1973      9      642.0            6000.0             Vicente López\n",
       "1401  1988     12      634.0            6000.0              Steven Rooks\n",
       "1297  1983     17      620.0            6500.0              Peter Winnen\n",
       "1582  1997     14      619.0            5000.0          Richard Virenque\n",
       "1522  1994     12      618.0            5500.0          Richard Virenque\n",
       "1110  1974     16      617.0            5500.0          Raymond Poulidor\n",
       "1485  1992     14      613.0            6000.0           Andrew Hampsten"
      ]
     },
     "execution_count": 91,
     "metadata": {},
     "output_type": "execute_result"
    }
   ],
   "source": [
    "top10_tezavnost"
   ]
  },
  {
   "cell_type": "markdown",
   "id": "8dfd5594-61d4-4826-bcba-c27430fa503d",
   "metadata": {},
   "source": [
    "Zdaj vidimo, da etapa z največjo višinsko razliko ni \"najtežja\" etapa po ProfileScore-u in obratno, zato moramo ubrati drugačno tehniko. Naredimo svoj kriterij, po katerem bomo razporedili gorske etape (tudi spletna stran, iz katere smo pobirali podatke, nima jasno razčiščeno, ali je pomembnejša ocena težavnosti ali višinska razlika). Podatke bomo organizirali tako, da bosta tako višinska razlika in težavnost vzpona čim večji, a bomo pri razvrščanju dali prednost težavnosti. Tabela 10ih etap, ki jo bomo dobili, bo po naših kriterijih opisala *10 najtežjih vzoponov*."
   ]
  },
  {
   "cell_type": "code",
   "execution_count": 92,
   "id": "5d626306-594b-408c-9bec-7457a4e5a5b9",
   "metadata": {},
   "outputs": [
    {
     "data": {
      "text/html": [
       "<div>\n",
       "<style scoped>\n",
       "    .dataframe tbody tr th:only-of-type {\n",
       "        vertical-align: middle;\n",
       "    }\n",
       "\n",
       "    .dataframe tbody tr th {\n",
       "        vertical-align: top;\n",
       "    }\n",
       "\n",
       "    .dataframe thead th {\n",
       "        text-align: right;\n",
       "    }\n",
       "</style>\n",
       "<table border=\"1\" class=\"dataframe\">\n",
       "  <thead>\n",
       "    <tr style=\"text-align: right;\">\n",
       "      <th></th>\n",
       "      <th>leto</th>\n",
       "      <th>etapa</th>\n",
       "      <th>težavnost</th>\n",
       "      <th>visinska_razlika</th>\n",
       "      <th>ime in priimek zmagovalca</th>\n",
       "    </tr>\n",
       "  </thead>\n",
       "  <tbody>\n",
       "    <tr>\n",
       "      <th>0</th>\n",
       "      <td>1981</td>\n",
       "      <td>17</td>\n",
       "      <td>753.0</td>\n",
       "      <td>5245.0</td>\n",
       "      <td>Peter Winnen</td>\n",
       "    </tr>\n",
       "    <tr>\n",
       "      <th>1</th>\n",
       "      <td>1975</td>\n",
       "      <td>15</td>\n",
       "      <td>707.0</td>\n",
       "      <td>6500.0</td>\n",
       "      <td>Bernard Thévenet</td>\n",
       "    </tr>\n",
       "    <tr>\n",
       "      <th>2</th>\n",
       "      <td>1988</td>\n",
       "      <td>15</td>\n",
       "      <td>659.0</td>\n",
       "      <td>6000.0</td>\n",
       "      <td>Laudelino Cubino</td>\n",
       "    </tr>\n",
       "    <tr>\n",
       "      <th>3</th>\n",
       "      <td>1973</td>\n",
       "      <td>9</td>\n",
       "      <td>642.0</td>\n",
       "      <td>6000.0</td>\n",
       "      <td>Vicente López</td>\n",
       "    </tr>\n",
       "    <tr>\n",
       "      <th>4</th>\n",
       "      <td>1988</td>\n",
       "      <td>12</td>\n",
       "      <td>634.0</td>\n",
       "      <td>6000.0</td>\n",
       "      <td>Steven Rooks</td>\n",
       "    </tr>\n",
       "    <tr>\n",
       "      <th>5</th>\n",
       "      <td>1983</td>\n",
       "      <td>17</td>\n",
       "      <td>620.0</td>\n",
       "      <td>6500.0</td>\n",
       "      <td>Peter Winnen</td>\n",
       "    </tr>\n",
       "    <tr>\n",
       "      <th>6</th>\n",
       "      <td>1997</td>\n",
       "      <td>14</td>\n",
       "      <td>619.0</td>\n",
       "      <td>5000.0</td>\n",
       "      <td>Richard Virenque</td>\n",
       "    </tr>\n",
       "    <tr>\n",
       "      <th>7</th>\n",
       "      <td>1994</td>\n",
       "      <td>12</td>\n",
       "      <td>618.0</td>\n",
       "      <td>5500.0</td>\n",
       "      <td>Richard Virenque</td>\n",
       "    </tr>\n",
       "    <tr>\n",
       "      <th>8</th>\n",
       "      <td>1974</td>\n",
       "      <td>16</td>\n",
       "      <td>617.0</td>\n",
       "      <td>5500.0</td>\n",
       "      <td>Raymond Poulidor</td>\n",
       "    </tr>\n",
       "    <tr>\n",
       "      <th>9</th>\n",
       "      <td>1992</td>\n",
       "      <td>14</td>\n",
       "      <td>613.0</td>\n",
       "      <td>6000.0</td>\n",
       "      <td>Andrew Hampsten</td>\n",
       "    </tr>\n",
       "  </tbody>\n",
       "</table>\n",
       "</div>"
      ],
      "text/plain": [
       "   leto  etapa  težavnost  visinska_razlika ime in priimek zmagovalca\n",
       "0  1981     17      753.0            5245.0              Peter Winnen\n",
       "1  1975     15      707.0            6500.0          Bernard Thévenet\n",
       "2  1988     15      659.0            6000.0          Laudelino Cubino\n",
       "3  1973      9      642.0            6000.0             Vicente López\n",
       "4  1988     12      634.0            6000.0              Steven Rooks\n",
       "5  1983     17      620.0            6500.0              Peter Winnen\n",
       "6  1997     14      619.0            5000.0          Richard Virenque\n",
       "7  1994     12      618.0            5500.0          Richard Virenque\n",
       "8  1974     16      617.0            5500.0          Raymond Poulidor\n",
       "9  1992     14      613.0            6000.0           Andrew Hampsten"
      ]
     },
     "execution_count": 92,
     "metadata": {},
     "output_type": "execute_result"
    }
   ],
   "source": [
    "top10 = (df.dropna(subset=['težavnost', 'visinska_razlika']).sort_values(by=['težavnost', 'visinska_razlika'], ascending=[False, False]).head(10)[['leto', 'etapa', 'težavnost', 'visinska_razlika', 'ime in priimek zmagovalca']].reset_index(drop=True))\n",
    "top10['etapa'] = top10['etapa'].astype(int)\n",
    "top10"
   ]
  },
  {
   "cell_type": "markdown",
   "id": "c689201d-2ce4-42cb-ad03-e208fc7ec0a8",
   "metadata": {},
   "source": [
    "Vidimo, da je najtežja etapa 17. etapa leta 1981. Zdaj lahko po tem kriteriju imenujemo še *najboljšega etapnega hribolazca*, ki pa je Peter Winnen kot zmagovalec 'najtežje etape' po **našem** kriteriju (to ni isto kot naslov *Le Roi des montagnes* (dobesedno \"kralj gora\"), ki si ga izbori tisti kolesar, ki je najboljši hribolazec čez cel Tour  in za nagrado nosi pikčasto majico).  "
   ]
  },
  {
   "cell_type": "markdown",
   "id": "3091c422-6832-4037-9ef9-498cf40510e2",
   "metadata": {},
   "source": [
    "**GORSKE ETAPE NA TOUR-U**"
   ]
  },
  {
   "cell_type": "markdown",
   "id": "44c9d394-314d-419a-90be-8dd2de2c06f4",
   "metadata": {},
   "source": [
    "Poglejmo, kolikšen procent etap je bilo gorskih na leto:\n"
   ]
  },
  {
   "cell_type": "markdown",
   "id": "f4d67524-eb70-42ad-9887-59d5ab590fee",
   "metadata": {},
   "source": [
    "Najprej izračunamo procent gorskih etap na leto (upoštevamovse etape v gorah-vseeno, kakšen cilj)"
   ]
  },
  {
   "cell_type": "code",
   "execution_count": 93,
   "id": "c6087f8c-25e6-46c5-a002-816fac9dce67",
   "metadata": {},
   "outputs": [
    {
     "data": {
      "text/html": [
       "<div>\n",
       "<style scoped>\n",
       "    .dataframe tbody tr th:only-of-type {\n",
       "        vertical-align: middle;\n",
       "    }\n",
       "\n",
       "    .dataframe tbody tr th {\n",
       "        vertical-align: top;\n",
       "    }\n",
       "\n",
       "    .dataframe thead th {\n",
       "        text-align: right;\n",
       "    }\n",
       "</style>\n",
       "<table border=\"1\" class=\"dataframe\">\n",
       "  <thead>\n",
       "    <tr style=\"text-align: right;\">\n",
       "      <th></th>\n",
       "      <th>gore</th>\n",
       "    </tr>\n",
       "    <tr>\n",
       "      <th>leto</th>\n",
       "      <th></th>\n",
       "    </tr>\n",
       "  </thead>\n",
       "  <tbody>\n",
       "    <tr>\n",
       "      <th>1903</th>\n",
       "      <td>20.0</td>\n",
       "    </tr>\n",
       "    <tr>\n",
       "      <th>1904</th>\n",
       "      <td>20.0</td>\n",
       "    </tr>\n",
       "    <tr>\n",
       "      <th>1905</th>\n",
       "      <td>20.0</td>\n",
       "    </tr>\n",
       "    <tr>\n",
       "      <th>1906</th>\n",
       "      <td>16.7</td>\n",
       "    </tr>\n",
       "    <tr>\n",
       "      <th>1907</th>\n",
       "      <td>30.8</td>\n",
       "    </tr>\n",
       "    <tr>\n",
       "      <th>...</th>\n",
       "      <td>...</td>\n",
       "    </tr>\n",
       "    <tr>\n",
       "      <th>2021</th>\n",
       "      <td>38.1</td>\n",
       "    </tr>\n",
       "    <tr>\n",
       "      <th>2022</th>\n",
       "      <td>33.3</td>\n",
       "    </tr>\n",
       "    <tr>\n",
       "      <th>2023</th>\n",
       "      <td>42.9</td>\n",
       "    </tr>\n",
       "    <tr>\n",
       "      <th>2024</th>\n",
       "      <td>38.1</td>\n",
       "    </tr>\n",
       "    <tr>\n",
       "      <th>2025</th>\n",
       "      <td>28.6</td>\n",
       "    </tr>\n",
       "  </tbody>\n",
       "</table>\n",
       "<p>112 rows × 1 columns</p>\n",
       "</div>"
      ],
      "text/plain": [
       "      gore\n",
       "leto      \n",
       "1903  20.0\n",
       "1904  20.0\n",
       "1905  20.0\n",
       "1906  16.7\n",
       "1907  30.8\n",
       "...    ...\n",
       "2021  38.1\n",
       "2022  33.3\n",
       "2023  42.9\n",
       "2024  38.1\n",
       "2025  28.6\n",
       "\n",
       "[112 rows x 1 columns]"
      ]
     },
     "execution_count": 93,
     "metadata": {},
     "output_type": "execute_result"
    }
   ],
   "source": [
    "st_etape = df['leto'].value_counts()\n",
    "st_gorskih = (df[(df['profil_etape'] == 'gorska etapa z vzponom na cilju') | (df['profil_etape'] == 'gorska etapa z ravnim ciljem')]['leto'].value_counts())\n",
    "procent_na_leto = (st_gorskih / st_etape * 100).round(1)\n",
    "procent_na_leto = pd.DataFrame(procent_na_leto)\n",
    "procent_na_leto['gore'] = procent_na_leto['count']\n",
    "del procent_na_leto['count']\n",
    "procent_na_leto"
   ]
  },
  {
   "cell_type": "markdown",
   "id": "e8719e1c-bb3a-443c-96da-0a9ae623eb4c",
   "metadata": {},
   "source": [
    "Poglejmo, kdaj je bilo največ in najmanj gorskih etap na leto:"
   ]
  },
  {
   "cell_type": "code",
   "execution_count": 94,
   "id": "b7c04619-2bb0-4091-9bb3-ffed3b2cb2ad",
   "metadata": {},
   "outputs": [
    {
     "name": "stdout",
     "output_type": "stream",
     "text": [
      "Najmanjši delež gorskih etap je bil leta 1992, ko je znašal 10.0%, največji pa je bil leta 2020 z 57.1%.\n"
     ]
    }
   ],
   "source": [
    "procent_na_leto = procent_na_leto.reset_index()\n",
    "procent_na_leto.sort_values(by='gore', ascending=False).head(10)\n",
    "največ_vrstica = procent_na_leto.loc[procent_na_leto['gore'].idxmax()]\n",
    "najmanj_vrstica = procent_na_leto.loc[procent_na_leto['gore'].idxmin()]\n",
    "print(f\"Najmanjši delež gorskih etap je bil leta {int(najmanj_vrstica['leto'])}, ko je znašal {najmanj_vrstica['gore']}%, največji pa je bil leta {int(največ_vrstica['leto'])} z {največ_vrstica['gore']}%.\")"
   ]
  },
  {
   "cell_type": "code",
   "execution_count": 95,
   "id": "49ffde56-8d3d-4cc6-b55e-7aff94154197",
   "metadata": {
    "scrolled": true
   },
   "outputs": [
    {
     "data": {
      "image/png": "[encoded data removed]",
      "text/plain": [
       "<Figure size 1000x400 with 1 Axes>"
      ]
     },
     "metadata": {},
     "output_type": "display_data"
    }
   ],
   "source": [
    "graf = procent_na_leto.groupby('leto')['gore'].mean()\n",
    "graf5 = graf.plot(kind='bar', color='#ff4754', figsize=(10, 4))\n",
    "petletja = [leto for leto in graf.index if leto % 5 == 0]\n",
    "kam_petletja = [i for i, leto in enumerate(graf.index) if leto % 5 == 0]\n",
    "plt.xticks(kam_petletja, petletja, rotation=50)\n",
    "plt.grid(axis='y', linestyle='--', alpha=0.6)\n",
    "graf5.set_ylabel(\"procent gorskih etap (%)\")\n",
    "graf5.set_title(\"procent gorskih etap na Tour de France na leto\")\n",
    "plt.show()\n",
    "graf = tour.groupby('leto')['št_etap'].mean()\n"
   ]
  },
  {
   "cell_type": "markdown",
   "id": "e6589a8f-85fe-4aaf-8175-e27a09f3590e",
   "metadata": {},
   "source": [
    "Z grafa razberemo, da se deleži gorskih etap na Tour-u med seboj precej razlikujejo, a prave razlage poleg tega, da je pot, po kateri vozijo kolesarji, vsako leto drugačna, nimamo (vsaj iz zajetih podatkov)."
   ]
  },
  {
   "cell_type": "markdown",
   "id": "b3cfd005-fa9e-4611-8151-928f0764f68a",
   "metadata": {},
   "source": [
    "\n",
    "\n",
    "\n",
    "\n",
    "\n",
    "# Analiza zmagovalcev "
   ]
  },
  {
   "cell_type": "markdown",
   "id": "40687059-3b3c-4987-93fc-86f5b56c0a10",
   "metadata": {},
   "source": [
    "**Zdaj, ko smo dobili vtis o strukturi Tour de France, bi si želeli ogledati še nekaj podatkov o zmagovalcih etap in celotnega Toura.**\n"
   ]
  },
  {
   "cell_type": "markdown",
   "id": "b98e33d7-a82c-490b-b096-4fc4f6c0b306",
   "metadata": {},
   "source": [
    "Tour de France je najpomembnejša tri-tedenska kolesarska dirka na svetu, ki poteka vsako leto v mesecu juliju po celotni Franciji. Sestavljena iz (zdaj) 21 etap oz. enodnevnih dirk. *Drugi dve najpomembnejši tri-tedenski kolesarsi dirki sta še La Vuelta, ki poteka septembra v Španiji, in Giro, ki poteka maja v Italiji.* Struktura Toura je večplastna; to namreč ni dirka, kjer vsak kolesar dirka sam zase, pač pa na njem nastopijo ekipe, v katerih imajo člani različne vloge: eden izmed njih (kapetan) se poteguje za zmago v skupnem seštevku (v angleščini je pogosto uporabljen izraz *General Certification* ali kar kratica *GC*), torej da bo njegov skupni čas na vseh etapah najkrajši, drugi pa so njegovi \"pomočniki\", torej mu nudijo zavetrje, mu v kriznih trenutkih dajo svoje kolo in zanj taktično ustvarijo priložnosti za prevzem prednosti. Kljub temu pa se seveda vsi lahko potegujejo za etapne zmage. Tako kot se etape razlikujejo med seboj (hribovita, gorska, ravninska, vožnja na čas oziroma time trial) imajo tudi vsi kolesarji svojo \"posebnost\" torej področje, na katerem najbolj blestijo (šprint, kolesarjenje navkreber, enodnevne dirke,...). V tem podpoglavju si bomo zato posebej ogledali podatke o zmagovlcih etap in o zmagovalcih Toura. Drugače se kolesarji na Touru lahko potegujejo tudi za naslove najboljšega šprinterja, ki nosi zeleno majico, najbolšega plezalca, torej najboljšega kolesarja na gorskih etapah (v francoščini *le Roi de la montagne*), ki nosi pikčasto majico in najboljšega mladega kolesarja pod 25 (nosi belo majico). Zmagovalec v skupnem seštevku nosi na Tour de France rumeno majico. \n",
    "*Komentar: Podatkov o najboljših šprinterjih, plezalcih in mladih kolesarjih nismo zajeli, saj imamo že dovolj podatkov za analizo, tu so bolj za to, da nekomu, ki se ne spozna na Tour, orišejo potek in delovanje dirke.*"
   ]
  },
  {
   "cell_type": "markdown",
   "id": "686f19ba-700b-43e8-8d62-ba70168b7691",
   "metadata": {},
   "source": [
    "## Zmagovalci etap"
   ]
  },
  {
   "cell_type": "markdown",
   "id": "244e3eee-2fb6-4d76-b221-1ace4d274a75",
   "metadata": {},
   "source": [
    "Najprej poglejmo, katere države imajo največ etapnih zmag. Sicer v kolesarstvu narodnost ne igra velike vloge; ekipe so namreč internacionalne, a kljub temu nam lahko to pove, v katerih državah je kolesarstvo bolj zastopan šport in katere države so najpogosteje sodelovale na Touru.\n",
    "\n",
    "*Opomba: Pri pobiranju podatkov nismo upoštevali etap, ki imajo na spletni strani oznako \"TTT\" (Team Time Trial) (pobrali smo le enega zmagovalca, ne pa cele ekipe) in ki so razdeljene na \"a\" in \"b\" del (nismo upoštevali \"b\" dela), saj ima v teh primerih spletna stran drugačno strukturo. Zaradi tega se naše statistike malce razlikujejo od uradnih.*\n",
    "\n",
    "*Opomba: V tej projektni nalogi ne bomo analizirali podatkov o ekipi zmagovalca, čeprav je ta pomembnejša od države, saj se imena ekip neprestano spreminjajo zaradi sponzorjev ekipe, tako da je težko ugotoviti, npr. katera ekipa ima največ zmagovalcev etap.*"
   ]
  },
  {
   "cell_type": "code",
   "execution_count": 96,
   "id": "42bb5903-9832-4b93-bb32-0fef3b653a63",
   "metadata": {},
   "outputs": [
    {
     "data": {
      "text/html": [
       "<div>\n",
       "<style scoped>\n",
       "    .dataframe tbody tr th:only-of-type {\n",
       "        vertical-align: middle;\n",
       "    }\n",
       "\n",
       "    .dataframe tbody tr th {\n",
       "        vertical-align: top;\n",
       "    }\n",
       "\n",
       "    .dataframe thead th {\n",
       "        text-align: right;\n",
       "    }\n",
       "</style>\n",
       "<table border=\"1\" class=\"dataframe\">\n",
       "  <thead>\n",
       "    <tr style=\"text-align: right;\">\n",
       "      <th></th>\n",
       "      <th>kratica države</th>\n",
       "      <th>etapne zmage</th>\n",
       "    </tr>\n",
       "  </thead>\n",
       "  <tbody>\n",
       "    <tr>\n",
       "      <th>1</th>\n",
       "      <td>FR</td>\n",
       "      <td>638</td>\n",
       "    </tr>\n",
       "    <tr>\n",
       "      <th>2</th>\n",
       "      <td>BE</td>\n",
       "      <td>437</td>\n",
       "    </tr>\n",
       "    <tr>\n",
       "      <th>3</th>\n",
       "      <td>IT</td>\n",
       "      <td>241</td>\n",
       "    </tr>\n",
       "    <tr>\n",
       "      <th>4</th>\n",
       "      <td>NL</td>\n",
       "      <td>158</td>\n",
       "    </tr>\n",
       "    <tr>\n",
       "      <th>5</th>\n",
       "      <td>ES</td>\n",
       "      <td>122</td>\n",
       "    </tr>\n",
       "    <tr>\n",
       "      <th>6</th>\n",
       "      <td>DE</td>\n",
       "      <td>87</td>\n",
       "    </tr>\n",
       "    <tr>\n",
       "      <th>7</th>\n",
       "      <td>GB</td>\n",
       "      <td>75</td>\n",
       "    </tr>\n",
       "    <tr>\n",
       "      <th>8</th>\n",
       "      <td>LU</td>\n",
       "      <td>68</td>\n",
       "    </tr>\n",
       "    <tr>\n",
       "      <th>9</th>\n",
       "      <td>CH</td>\n",
       "      <td>49</td>\n",
       "    </tr>\n",
       "    <tr>\n",
       "      <th>10</th>\n",
       "      <td>AU</td>\n",
       "      <td>49</td>\n",
       "    </tr>\n",
       "  </tbody>\n",
       "</table>\n",
       "</div>"
      ],
      "text/plain": [
       "   kratica države  etapne zmage\n",
       "1              FR           638\n",
       "2              BE           437\n",
       "3              IT           241\n",
       "4              NL           158\n",
       "5              ES           122\n",
       "6              DE            87\n",
       "7              GB            75\n",
       "8              LU            68\n",
       "9              CH            49\n",
       "10             AU            49"
      ]
     },
     "execution_count": 96,
     "metadata": {},
     "output_type": "execute_result"
    }
   ],
   "source": [
    "etape_na_drzavo = df['narodnost zmagovalca'].value_counts()\n",
    "zmaga = pd.DataFrame(etape_na_drzavo)\n",
    "zmaga = zmaga.reset_index()\n",
    "zmaga = zmaga.rename(columns={'count': 'etapne zmage', 'narodnost zmagovalca': 'kratica države'})\n",
    "zmaga = zmaga.reset_index(drop=True)\n",
    "zmaga.index += 1\n",
    "zmaga.head(10)"
   ]
  },
  {
   "cell_type": "markdown",
   "id": "5c7abb35-d568-40c0-a0bd-403e79e66b20",
   "metadata": {},
   "source": [
    "Ne preseneti nas, da ima največ etapnih zmag Francija; ne samo, da je to Tour de **France**, ampak so na začetku prirejanja Toura v večini tekmovali kolesarji iz Francije in le okoliških držav (Belgija, Nizozemska, Italija, Švica). Poglejmo še stolpični diagram za lažjo predstavo:"
   ]
  },
  {
   "cell_type": "code",
   "execution_count": 97,
   "id": "c1d7c856-46da-4652-ac3d-48853443d78d",
   "metadata": {},
   "outputs": [
    {
     "data": {
      "image/png": "[encoded data removed]",
      "text/plain": [
       "<Figure size 1000x600 with 1 Axes>"
      ]
     },
     "metadata": {},
     "output_type": "display_data"
    }
   ],
   "source": [
    "plt.figure(figsize=(10, 6))\n",
    "sorted_df = zmaga.sort_values('etapne zmage')\n",
    "bars = plt.barh(sorted_df['kratica države'], sorted_df['etapne zmage'], color='#4ecdc4', edgecolor='black')\n",
    "plt.bar_label(bars, fmt='%d', padding=6, fontsize=10, color='black')\n",
    "plt.title('Etapne zmage po državah', fontsize=11, fontweight='bold', pad=20)\n",
    "plt.xlabel('Število zmag', fontsize=11)\n",
    "plt.ylabel('Država', fontsize=11)\n",
    "plt.grid(axis='x', linestyle='--', alpha=0.6)\n",
    "plt.margins(y=0.01)\n",
    "plt.tight_layout()\n",
    "plt.show()\n"
   ]
  },
  {
   "cell_type": "markdown",
   "id": "a06e7630-8381-470f-b40a-0c776086f0f6",
   "metadata": {},
   "source": [
    "Slovenija ima 27 etapnih zmag, kar je zelo veliko, glede na to, da je bil prvi Slovenec na Tour de France Primož Čerin leta 1989 na 76. ediciji Toura. Poglejmo še, kdaj in kdo je bil prvi Slovenec, ki je zmagal etapo na Touru:"
   ]
  },
  {
   "cell_type": "code",
   "execution_count": 98,
   "id": "d483627e-99fe-4343-9c7a-1353ad8d9c48",
   "metadata": {},
   "outputs": [
    {
     "name": "stdout",
     "output_type": "stream",
     "text": [
      "Prva etapa, ki jo je zmagal Slovenec, je bila 17. etapa leta 2017, ki jo je zmagal Primož Roglič, ki je tedaj vozil za Team LottoNL-Jumbo.\n"
     ]
    }
   ],
   "source": [
    "slovenske_zmage = df[df['narodnost zmagovalca'] == 'SI'].sort_values(['leto', 'etapa'])\n",
    "prva_slo_zmaga = slovenske_zmage.iloc[0] #vemo, da obstajajo o\n",
    "print(f\"Prva etapa, ki jo je zmagal Slovenec, je bila {int(prva_slo_zmaga['etapa'])\n",
    "}. etapa leta {prva_slo_zmaga['leto']}, ki jo je zmagal {prva_slo_zmaga['ime in priimek zmagovalca']}, ki je tedaj vozil za {prva_slo_zmaga['ekipa zmagovalca']}.\")"
   ]
  },
  {
   "cell_type": "markdown",
   "id": "812b6807-b77e-45f5-9ab7-0ccbb87719df",
   "metadata": {},
   "source": [
    "*Komentar: Glede na to, da je bila prva etapna zmaga za Slovenijo beležena šele leta 2017 in imamo tako v času devetih Tourou že 27 etapnih zmag, res priča o tem, kako je Slovenija postala kolesarska velesila.*"
   ]
  },
  {
   "cell_type": "markdown",
   "id": "86634420-5857-4074-b56e-5d3982db2119",
   "metadata": {},
   "source": [
    "Poglejmo, kdo so drugi slovenski kolesarji poleg Pogačarja in Rogliča, ki so zmagali etapo na Tour de France:"
   ]
  },
  {
   "cell_type": "code",
   "execution_count": 99,
   "id": "f582bc4d-2984-4d63-a48e-87cac6a5c8bc",
   "metadata": {},
   "outputs": [
    {
     "data": {
      "text/html": [
       "<div>\n",
       "<style scoped>\n",
       "    .dataframe tbody tr th:only-of-type {\n",
       "        vertical-align: middle;\n",
       "    }\n",
       "\n",
       "    .dataframe tbody tr th {\n",
       "        vertical-align: top;\n",
       "    }\n",
       "\n",
       "    .dataframe thead th {\n",
       "        text-align: right;\n",
       "    }\n",
       "</style>\n",
       "<table border=\"1\" class=\"dataframe\">\n",
       "  <thead>\n",
       "    <tr style=\"text-align: right;\">\n",
       "      <th></th>\n",
       "      <th>ime in priimek zmagovalca</th>\n",
       "      <th>zmage na etapi</th>\n",
       "    </tr>\n",
       "  </thead>\n",
       "  <tbody>\n",
       "    <tr>\n",
       "      <th>2</th>\n",
       "      <td>Tadej Pogačar</td>\n",
       "      <td>21</td>\n",
       "    </tr>\n",
       "    <tr>\n",
       "      <th>0</th>\n",
       "      <td>Matej Mohorič</td>\n",
       "      <td>3</td>\n",
       "    </tr>\n",
       "    <tr>\n",
       "      <th>1</th>\n",
       "      <td>Primož Roglič</td>\n",
       "      <td>3</td>\n",
       "    </tr>\n",
       "  </tbody>\n",
       "</table>\n",
       "</div>"
      ],
      "text/plain": [
       "  ime in priimek zmagovalca  zmage na etapi\n",
       "2             Tadej Pogačar              21\n",
       "0             Matej Mohorič               3\n",
       "1             Primož Roglič               3"
      ]
     },
     "execution_count": 99,
     "metadata": {},
     "output_type": "execute_result"
    }
   ],
   "source": [
    "slo_zmage = (df[df['narodnost zmagovalca'] == 'SI'].groupby('ime in priimek zmagovalca').size().reset_index(name='zmage na etapi').sort_values('zmage na etapi', ascending=False))\n",
    "slo_zmage"
   ]
  },
  {
   "cell_type": "markdown",
   "id": "5ed940fc-9352-4032-ac08-bd0c5cfea8c4",
   "metadata": {},
   "source": [
    "*Komentar: Čeprav Matej Mohorič ni tako znan kot Primož Roglič in Tadej Pogačar, je super kolesar in izjemno simpatičen na intervjujih po dirkah!*"
   ]
  },
  {
   "cell_type": "markdown",
   "id": "09c70a3c-a855-4a33-8111-13807b25bf1e",
   "metadata": {},
   "source": [
    "Vidimo, da ima Pogačar kar 21 etapnih zmag od leta 2020, ko je prvič tekmoval (in zmagal) na Touru. Poglejmo, kdaj je dobil svojo prvo etapno zmago in zadnjo (do zdaj):\n"
   ]
  },
  {
   "cell_type": "code",
   "execution_count": 100,
   "id": "d7fb20cd-7a1b-4382-8fef-f4c8e7929684",
   "metadata": {},
   "outputs": [
    {
     "name": "stdout",
     "output_type": "stream",
     "text": [
      "Tadej Pogačar, kolesarski fenomen, je svojo prvo etapo na Touru zmagal leta 2020, ko je vozil za UAE Team Emirates in je zmagal 9. etapo. To je bila   gorska etapa z ravnim ciljem, dolga 153.0 km, ki jo je prevozil s povprečno hitrostjo 39.02 km/h.\n",
      "Svojo zadnjo etapo je zmagal za UAE Team Emirates - XRG leta 2025, ko je s povprečno hitrostjo 28.435 km/h prevozil 10.9 km dolgo etapo,               ki je bila gorska etapa z vzponom na cilju, in tako dobil 13. etapo in svojo 35. etapno zmago.\n"
     ]
    }
   ],
   "source": [
    "pogi_df = df[df['ime in priimek zmagovalca'] == 'Tadej Pogačar'].reset_index(drop=True)\n",
    "prva_etapa = pogi_df.iloc[0]\n",
    "zadnja_etapa = pogi_df.iloc[-1]\n",
    "print(f\"Tadej Pogačar, kolesarski fenomen, je svojo prvo etapo na Touru zmagal leta {prva_etapa['leto']}, \"\n",
    "    f\"ko je vozil za {prva_etapa['ekipa zmagovalca']} in je zmagal {int(prva_etapa['etapa'])}. etapo. To je bila   {prva_etapa['profil_etape']}, \"\n",
    "    f\"dolga {prva_etapa['razdalja']} km, ki jo je prevozil s povprečno hitrostjo {prva_etapa['povprecna_hitrost_v_km/h']} km/h.\")\n",
    "print(f\"Svojo zadnjo etapo je zmagal za {zadnja_etapa['ekipa zmagovalca']} leta {zadnja_etapa['leto']}, ko je s povprečno hitrostjo {zadnja_etapa['povprecna_hitrost_v_km/h']} km/h \"\n",
    "      f\"prevozil {zadnja_etapa['razdalja']} km dolgo etapo,               ki je bila {zadnja_etapa['profil_etape']}, in tako dobil {int(zadnja_etapa['etapa'])}. etapo in svojo 35. etapno zmago.\")"
   ]
  },
  {
   "cell_type": "markdown",
   "id": "b63a4f43-ada7-48c7-9701-375a152a737e",
   "metadata": {},
   "source": [
    "*Komentar: Vidimo, da Pogačar blesti v gorah, kar bomo videli tudi pozneje pri analizi zmagovalcev Toura.*"
   ]
  },
  {
   "cell_type": "markdown",
   "id": "dccff089-a577-4f2b-a158-33782d0583bc",
   "metadata": {},
   "source": [
    "\n",
    "Poglejmo zdaj še, kateri kolesar ima za Francijo, Belgijo in Italijo, torej za države z največ etapnimi zmagami, največ etapnih zmag:"
   ]
  },
  {
   "cell_type": "code",
   "execution_count": 101,
   "id": "2e587599-dd8a-43a1-b968-d8d5684e8d20",
   "metadata": {},
   "outputs": [
    {
     "name": "stdout",
     "output_type": "stream",
     "text": [
      "Največ etapnih zmag za Francijo je dobil Bernard Hinault z 24 zmagami, za Italijo Mario Cipollini z 13 zmagami, za Belgijo pa je dobil največ etapnih  zmag Eddy Merckx z 23 zmagami.\n"
     ]
    }
   ],
   "source": [
    "etape_na_kolesarja = df.groupby(['narodnost zmagovalca', 'ime in priimek zmagovalca']).size().reset_index(name='etapne zmage2')\n",
    "največ_zmag_na_dr = etape_na_kolesarja.loc[etape_na_kolesarja.groupby('narodnost zmagovalca')['etapne zmage2'].idxmax()]\n",
    "največ_zmag_na_dr = pd.DataFrame(največ_zmag_na_dr.sort_values('etapne zmage2', ascending=False))\n",
    "za_fra = največ_zmag_na_dr[največ_zmag_na_dr['narodnost zmagovalca'] == 'FR'].iloc[0]\n",
    "za_it = največ_zmag_na_dr[največ_zmag_na_dr['narodnost zmagovalca'] == 'IT'].iloc[0]\n",
    "za_be = največ_zmag_na_dr[največ_zmag_na_dr['narodnost zmagovalca'] == 'BE'].iloc[0]\n",
    "print(f\"Največ etapnih zmag za Francijo je dobil {za_fra['ime in priimek zmagovalca']} z {za_fra['etapne zmage2']} zmagami,\"\n",
    "      f\" za Italijo {za_it['ime in priimek zmagovalca']} z {za_it['etapne zmage2']} zmagami,\"\n",
    "      f\" za Belgijo pa je dobil največ etapnih  zmag {za_be['ime in priimek zmagovalca']} z {za_be['etapne zmage2']} zmagami.\")"
   ]
  },
  {
   "cell_type": "markdown",
   "id": "0ce1d3cb-4707-4ed0-a7b9-821720c24300",
   "metadata": {},
   "source": [
    "*Opomba: Bernard Hinault ima v uradnih statistikah beleženo 28 zmag, Eddy Merckx pa 34*"
   ]
  },
  {
   "cell_type": "markdown",
   "id": "6d9aa5b1-6b8a-4901-8445-561cb1064ab4",
   "metadata": {},
   "source": [
    "Zdaj lahko tudi pogledamo, kdo ima skupno največ etapnih zmag: "
   ]
  },
  {
   "cell_type": "code",
   "execution_count": 102,
   "id": "4dbbf65f-abc3-4005-9d5c-2ac603ccc31e",
   "metadata": {},
   "outputs": [
    {
     "data": {
      "text/html": [
       "<div>\n",
       "<style scoped>\n",
       "    .dataframe tbody tr th:only-of-type {\n",
       "        vertical-align: middle;\n",
       "    }\n",
       "\n",
       "    .dataframe tbody tr th {\n",
       "        vertical-align: top;\n",
       "    }\n",
       "\n",
       "    .dataframe thead th {\n",
       "        text-align: right;\n",
       "    }\n",
       "</style>\n",
       "<table border=\"1\" class=\"dataframe\">\n",
       "  <thead>\n",
       "    <tr style=\"text-align: right;\">\n",
       "      <th></th>\n",
       "      <th>narodnost zmagovalca</th>\n",
       "      <th>ime in priimek zmagovalca</th>\n",
       "      <th>etapne zmage2</th>\n",
       "    </tr>\n",
       "  </thead>\n",
       "  <tbody>\n",
       "    <tr>\n",
       "      <th>1</th>\n",
       "      <td>GB</td>\n",
       "      <td>Mark Cavendish</td>\n",
       "      <td>33</td>\n",
       "    </tr>\n",
       "    <tr>\n",
       "      <th>2</th>\n",
       "      <td>FR</td>\n",
       "      <td>Bernard Hinault</td>\n",
       "      <td>24</td>\n",
       "    </tr>\n",
       "    <tr>\n",
       "      <th>3</th>\n",
       "      <td>BE</td>\n",
       "      <td>Eddy Merckx</td>\n",
       "      <td>23</td>\n",
       "    </tr>\n",
       "    <tr>\n",
       "      <th>4</th>\n",
       "      <td>SI</td>\n",
       "      <td>Tadej Pogačar</td>\n",
       "      <td>21</td>\n",
       "    </tr>\n",
       "    <tr>\n",
       "      <th>5</th>\n",
       "      <td>LU</td>\n",
       "      <td>François Faber</td>\n",
       "      <td>19</td>\n",
       "    </tr>\n",
       "    <tr>\n",
       "      <th>6</th>\n",
       "      <td>DE</td>\n",
       "      <td>Erik Zabel</td>\n",
       "      <td>16</td>\n",
       "    </tr>\n",
       "    <tr>\n",
       "      <th>7</th>\n",
       "      <td>AU</td>\n",
       "      <td>Robbie McEwen</td>\n",
       "      <td>16</td>\n",
       "    </tr>\n",
       "    <tr>\n",
       "      <th>8</th>\n",
       "      <td>IT</td>\n",
       "      <td>Mario Cipollini</td>\n",
       "      <td>13</td>\n",
       "    </tr>\n",
       "    <tr>\n",
       "      <th>9</th>\n",
       "      <td>SK</td>\n",
       "      <td>Peter Sagan</td>\n",
       "      <td>12</td>\n",
       "    </tr>\n",
       "    <tr>\n",
       "      <th>10</th>\n",
       "      <td>NO</td>\n",
       "      <td>Thor Hushovd</td>\n",
       "      <td>11</td>\n",
       "    </tr>\n",
       "    <tr>\n",
       "      <th>11</th>\n",
       "      <td>ES</td>\n",
       "      <td>Miguel Induráin</td>\n",
       "      <td>10</td>\n",
       "    </tr>\n",
       "    <tr>\n",
       "      <th>12</th>\n",
       "      <td>NL</td>\n",
       "      <td>Joop Zoetemelk</td>\n",
       "      <td>9</td>\n",
       "    </tr>\n",
       "    <tr>\n",
       "      <th>13</th>\n",
       "      <td>CH</td>\n",
       "      <td>Ferdinand Kübler</td>\n",
       "      <td>8</td>\n",
       "    </tr>\n",
       "    <tr>\n",
       "      <th>14</th>\n",
       "      <td>UZ</td>\n",
       "      <td>Djamolidine Abduzhaparov</td>\n",
       "      <td>7</td>\n",
       "    </tr>\n",
       "    <tr>\n",
       "      <th>15</th>\n",
       "      <td>EE</td>\n",
       "      <td>Jaan Kirsipuu</td>\n",
       "      <td>5</td>\n",
       "    </tr>\n",
       "    <tr>\n",
       "      <th>16</th>\n",
       "      <td>IE</td>\n",
       "      <td>Sean Kelly</td>\n",
       "      <td>5</td>\n",
       "    </tr>\n",
       "    <tr>\n",
       "      <th>17</th>\n",
       "      <td>DK</td>\n",
       "      <td>Bjarne Riis</td>\n",
       "      <td>4</td>\n",
       "    </tr>\n",
       "    <tr>\n",
       "      <th>18</th>\n",
       "      <td>PT</td>\n",
       "      <td>Acácio da Silva</td>\n",
       "      <td>4</td>\n",
       "    </tr>\n",
       "    <tr>\n",
       "      <th>19</th>\n",
       "      <td>US</td>\n",
       "      <td>Greg LeMond</td>\n",
       "      <td>4</td>\n",
       "    </tr>\n",
       "    <tr>\n",
       "      <th>20</th>\n",
       "      <td>AT</td>\n",
       "      <td>Max Bulla</td>\n",
       "      <td>3</td>\n",
       "    </tr>\n",
       "    <tr>\n",
       "      <th>21</th>\n",
       "      <td>RU</td>\n",
       "      <td>Dmitry Konyshev</td>\n",
       "      <td>3</td>\n",
       "    </tr>\n",
       "    <tr>\n",
       "      <th>22</th>\n",
       "      <td>CO</td>\n",
       "      <td>Luis Alberto Herrera</td>\n",
       "      <td>3</td>\n",
       "    </tr>\n",
       "    <tr>\n",
       "      <th>23</th>\n",
       "      <td>KZ</td>\n",
       "      <td>Alexandre Vinokourov</td>\n",
       "      <td>3</td>\n",
       "    </tr>\n",
       "    <tr>\n",
       "      <th>24</th>\n",
       "      <td>ER</td>\n",
       "      <td>Biniam Girmay</td>\n",
       "      <td>3</td>\n",
       "    </tr>\n",
       "    <tr>\n",
       "      <th>25</th>\n",
       "      <td>PL</td>\n",
       "      <td>Rafał Majka</td>\n",
       "      <td>3</td>\n",
       "    </tr>\n",
       "    <tr>\n",
       "      <th>26</th>\n",
       "      <td>UA</td>\n",
       "      <td>Serhiy Honchar</td>\n",
       "      <td>2</td>\n",
       "    </tr>\n",
       "    <tr>\n",
       "      <th>27</th>\n",
       "      <td>CA</td>\n",
       "      <td>Steve Bauer</td>\n",
       "      <td>2</td>\n",
       "    </tr>\n",
       "    <tr>\n",
       "      <th>28</th>\n",
       "      <td>LV</td>\n",
       "      <td>Piotr Ugrumov</td>\n",
       "      <td>2</td>\n",
       "    </tr>\n",
       "    <tr>\n",
       "      <th>29</th>\n",
       "      <td>CZ</td>\n",
       "      <td>Ján Svorada</td>\n",
       "      <td>2</td>\n",
       "    </tr>\n",
       "    <tr>\n",
       "      <th>30</th>\n",
       "      <td>MX</td>\n",
       "      <td>Raúl Alcalá</td>\n",
       "      <td>2</td>\n",
       "    </tr>\n",
       "    <tr>\n",
       "      <th>31</th>\n",
       "      <td>BR</td>\n",
       "      <td>Mauro Ribeiro</td>\n",
       "      <td>1</td>\n",
       "    </tr>\n",
       "    <tr>\n",
       "      <th>32</th>\n",
       "      <td>DZ</td>\n",
       "      <td>Marcel Molinès</td>\n",
       "      <td>1</td>\n",
       "    </tr>\n",
       "    <tr>\n",
       "      <th>33</th>\n",
       "      <td>EC</td>\n",
       "      <td>Richard Carapaz</td>\n",
       "      <td>1</td>\n",
       "    </tr>\n",
       "    <tr>\n",
       "      <th>34</th>\n",
       "      <td>LT</td>\n",
       "      <td>Ramūnas Navardauskas</td>\n",
       "      <td>1</td>\n",
       "    </tr>\n",
       "    <tr>\n",
       "      <th>35</th>\n",
       "      <td>SE</td>\n",
       "      <td>Magnus Bäckstedt</td>\n",
       "      <td>1</td>\n",
       "    </tr>\n",
       "    <tr>\n",
       "      <th>36</th>\n",
       "      <td>ZA</td>\n",
       "      <td>Daryl Impey</td>\n",
       "      <td>1</td>\n",
       "    </tr>\n",
       "    <tr>\n",
       "      <th>37</th>\n",
       "      <td>ni podatka</td>\n",
       "      <td>ni podatka</td>\n",
       "      <td>1</td>\n",
       "    </tr>\n",
       "  </tbody>\n",
       "</table>\n",
       "</div>"
      ],
      "text/plain": [
       "   narodnost zmagovalca ime in priimek zmagovalca  etapne zmage2\n",
       "1                    GB            Mark Cavendish             33\n",
       "2                    FR           Bernard Hinault             24\n",
       "3                    BE               Eddy Merckx             23\n",
       "4                    SI             Tadej Pogačar             21\n",
       "5                    LU            François Faber             19\n",
       "6                    DE                Erik Zabel             16\n",
       "7                    AU             Robbie McEwen             16\n",
       "8                    IT           Mario Cipollini             13\n",
       "9                    SK               Peter Sagan             12\n",
       "10                   NO              Thor Hushovd             11\n",
       "11                   ES           Miguel Induráin             10\n",
       "12                   NL            Joop Zoetemelk              9\n",
       "13                   CH          Ferdinand Kübler              8\n",
       "14                   UZ  Djamolidine Abduzhaparov              7\n",
       "15                   EE             Jaan Kirsipuu              5\n",
       "16                   IE                Sean Kelly              5\n",
       "17                   DK               Bjarne Riis              4\n",
       "18                   PT           Acácio da Silva              4\n",
       "19                   US               Greg LeMond              4\n",
       "20                   AT                 Max Bulla              3\n",
       "21                   RU           Dmitry Konyshev              3\n",
       "22                   CO      Luis Alberto Herrera              3\n",
       "23                   KZ      Alexandre Vinokourov              3\n",
       "24                   ER             Biniam Girmay              3\n",
       "25                   PL               Rafał Majka              3\n",
       "26                   UA            Serhiy Honchar              2\n",
       "27                   CA               Steve Bauer              2\n",
       "28                   LV             Piotr Ugrumov              2\n",
       "29                   CZ               Ján Svorada              2\n",
       "30                   MX               Raúl Alcalá              2\n",
       "31                   BR             Mauro Ribeiro              1\n",
       "32                   DZ            Marcel Molinès              1\n",
       "33                   EC           Richard Carapaz              1\n",
       "34                   LT      Ramūnas Navardauskas              1\n",
       "35                   SE          Magnus Bäckstedt              1\n",
       "36                   ZA               Daryl Impey              1\n",
       "37           ni podatka                ni podatka              1"
      ]
     },
     "execution_count": 102,
     "metadata": {},
     "output_type": "execute_result"
    }
   ],
   "source": [
    "največ_zmag_na_dr = največ_zmag_na_dr.reset_index(drop=True)\n",
    "največ_zmag_na_dr.index += 1\n",
    "največ_zmag_na_dr\n",
    "\n"
   ]
  },
  {
   "cell_type": "markdown",
   "id": "287d5807-c178-40bb-becf-22cca84b6c4d",
   "metadata": {},
   "source": [
    "Popravimo vrednosti glede na uradne podatke (načeloma ne bomo popravljali statistik, tudi če se rahlo razlikujejo od uradnih, a ker je Eddy Merckx očitno zmagal na tako veliko etapah, ki jih zaradi drugačne strukture strani nismo pobirali, da je vrstni red napačen, bomo v tem primeru statistiko vseeno popravili):"
   ]
  },
  {
   "cell_type": "code",
   "execution_count": 103,
   "id": "e18a4857-e0a2-463d-9bcb-e5122d89fd2b",
   "metadata": {},
   "outputs": [
    {
     "data": {
      "image/png": "[encoded data removed]",
      "text/plain": [
       "<Figure size 1200x600 with 1 Axes>"
      ]
     },
     "metadata": {},
     "output_type": "display_data"
    }
   ],
   "source": [
    "etape_max = največ_zmag_na_dr.head(25)\n",
    "etape_max.loc[etape_max['narodnost zmagovalca'] == 'GB', 'etapne zmage2'] = 35\n",
    "etape_max.loc[etape_max['narodnost zmagovalca'] == 'FR', 'etapne zmage2'] = 28\n",
    "etape_max.loc[etape_max['narodnost zmagovalca'] == 'BE', 'etapne zmage2'] = 34\n",
    "etape_max = etape_max.sort_values('etapne zmage2', ascending=False)\n",
    "#GRAF\n",
    "plt.figure(figsize=(12, 6))\n",
    "bars = plt.bar(etape_max['ime in priimek zmagovalca'], etape_max['etapne zmage2'], color='#43a7e6')\n",
    "plt.xticks(rotation=90, ha='center',fontsize=10)\n",
    "for bar in bars:\n",
    "    vis = bar.get_height()\n",
    "    plt.text(bar.get_x() + bar.get_width()/2, vis + 0.3, f'{int(vis)}', ha='center',va='bottom',fontsize=9)\n",
    "\n",
    "plt.ylabel('Število zmag', fontsize=12)\n",
    "plt.title('Število etapnih zmag na kolesarja (prvih 25 najuspešnejših)', fontsize=14, pad=20)\n",
    "plt.tight_layout()\n",
    "plt.show()"
   ]
  },
  {
   "cell_type": "markdown",
   "id": "6b7ba03a-54cd-4bb7-9eac-7e7f8bfd0b67",
   "metadata": {
    "scrolled": true
   },
   "source": [
    "Poglejmo podrobneje prvih pet:"
   ]
  },
  {
   "cell_type": "code",
   "execution_count": 104,
   "id": "ac8e0d2f-f6db-4ff6-be34-a8e9136eb9ae",
   "metadata": {},
   "outputs": [
    {
     "data": {
      "text/html": [
       "<div>\n",
       "<style scoped>\n",
       "    .dataframe tbody tr th:only-of-type {\n",
       "        vertical-align: middle;\n",
       "    }\n",
       "\n",
       "    .dataframe tbody tr th {\n",
       "        vertical-align: top;\n",
       "    }\n",
       "\n",
       "    .dataframe thead th {\n",
       "        text-align: right;\n",
       "    }\n",
       "</style>\n",
       "<table border=\"1\" class=\"dataframe\">\n",
       "  <thead>\n",
       "    <tr style=\"text-align: right;\">\n",
       "      <th></th>\n",
       "      <th>narodnost zmagovalca</th>\n",
       "      <th>ime in priimek zmagovalca</th>\n",
       "      <th>etapne zmage2</th>\n",
       "    </tr>\n",
       "  </thead>\n",
       "  <tbody>\n",
       "    <tr>\n",
       "      <th>1</th>\n",
       "      <td>GB</td>\n",
       "      <td>Mark Cavendish</td>\n",
       "      <td>35</td>\n",
       "    </tr>\n",
       "    <tr>\n",
       "      <th>3</th>\n",
       "      <td>BE</td>\n",
       "      <td>Eddy Merckx</td>\n",
       "      <td>34</td>\n",
       "    </tr>\n",
       "    <tr>\n",
       "      <th>2</th>\n",
       "      <td>FR</td>\n",
       "      <td>Bernard Hinault</td>\n",
       "      <td>28</td>\n",
       "    </tr>\n",
       "    <tr>\n",
       "      <th>4</th>\n",
       "      <td>SI</td>\n",
       "      <td>Tadej Pogačar</td>\n",
       "      <td>21</td>\n",
       "    </tr>\n",
       "    <tr>\n",
       "      <th>5</th>\n",
       "      <td>LU</td>\n",
       "      <td>François Faber</td>\n",
       "      <td>19</td>\n",
       "    </tr>\n",
       "  </tbody>\n",
       "</table>\n",
       "</div>"
      ],
      "text/plain": [
       "  narodnost zmagovalca ime in priimek zmagovalca  etapne zmage2\n",
       "1                   GB            Mark Cavendish             35\n",
       "3                   BE               Eddy Merckx             34\n",
       "2                   FR           Bernard Hinault             28\n",
       "4                   SI             Tadej Pogačar             21\n",
       "5                   LU            François Faber             19"
      ]
     },
     "execution_count": 104,
     "metadata": {},
     "output_type": "execute_result"
    }
   ],
   "source": [
    "največ_zmag_na_dr = največ_zmag_na_dr.reset_index(drop=True)\n",
    "največ_zmag_na_dr.index += 1\n",
    "največ_zmag_na_dr.sort_values('etapne zmage2', ascending=False).head(5)\n"
   ]
  },
  {
   "cell_type": "markdown",
   "id": "8e8aa2a9-4a70-4b5e-bc7c-3637f22a3591",
   "metadata": {},
   "source": [
    "Vidimo, da ima največ etapnih zmag Mark Cavendish, ki je leta 2023 naznanil, da se bo po Touru, na katerega je vstopal z dobljenimi 34 etapnimi zmagami, upokojil. Namen je imel, da bo na tem Touru dobil še 35. etapo in tako premagal legendo cestnega kolesarstva, Eddy-ja Merckx-a, ki je končal kariero s 34 etapami (Mercx je res kolesarska legenda; na svojem vrhuncu je zmagal vsako tretjo dirko, ki se je je udeležil). Na žalost si je Cavendish v 8. etapi zaradi padca glavnine zlomil ključnico in je moral Tour predčasno zapustiti. Zato je leta 2024 prišel na Tour še enkrat, zadnjič, tam zmagal svojo 35. etapo in tako svojo profesionalno kolesarsko kariero zaključil na legendaren način.\n",
    "\n",
    "Poglejmo, kdaj je bla Cavendishova prva in zadnja etapna zmaga na Touru:"
   ]
  },
  {
   "cell_type": "code",
   "execution_count": 105,
   "id": "43ebddd3-ba27-411e-b6a1-890d5ee7f59c",
   "metadata": {},
   "outputs": [],
   "source": [
    "mark_df = df[df['ime in priimek zmagovalca'] == 'Mark Cavendish'].reset_index(drop=True)\n",
    "prva_etapa = mark_df.iloc[0]\n",
    "zadnja_etapa = mark_df.iloc[-1]\n"
   ]
  },
  {
   "cell_type": "code",
   "execution_count": 106,
   "id": "7c57e8b2-99b2-4cb2-ab19-ea7863c4185b",
   "metadata": {},
   "outputs": [
    {
     "name": "stdout",
     "output_type": "stream",
     "text": [
      "Mark Cavendish, ki je eden najboljših šprinterjev, je svojo prvo etapo na Touru zmagal leta 2008, ko je vouil za Team Columbia in je zmagal 5.0. etapo. To je bila ravninska etapa, dolga 232.0 km, ki jo je prevozil s povprečno hitrostjo 42.456 km/h.\n",
      "Svojo zadnjo etapo je zmagal za Astana Qazaqstan Team leta 2024, ko je s povprečno hitrostjo 42.787 km/h prevozil 177.4 km dolgo etapo, ki je bila ravninska etapa, in tako dobil 5.0. etapo in svojo 35. etapno zmago.\n"
     ]
    }
   ],
   "source": [
    "print(f\"Mark Cavendish, ki je eden najboljših šprinterjev, je svojo prvo etapo na Touru zmagal leta {prva_etapa['leto']}, \"\n",
    "    f\"ko je vouil za {prva_etapa['ekipa zmagovalca']} in je zmagal {prva_etapa['etapa']}. etapo. To je bila {prva_etapa['profil_etape']}, \"\n",
    "    f\"dolga {prva_etapa['razdalja']} km, ki jo je prevozil s povprečno hitrostjo {prva_etapa['povprecna_hitrost_v_km/h']} km/h.\")\n",
    "print(f\"Svojo zadnjo etapo je zmagal za {zadnja_etapa['ekipa zmagovalca']} leta {zadnja_etapa['leto']}, ko je s povprečno hitrostjo {zadnja_etapa['povprecna_hitrost_v_km/h']} km/h \"\n",
    "      f\"prevozil {zadnja_etapa['razdalja']} km dolgo etapo, ki je bila {zadnja_etapa['profil_etape']}, in tako dobil {prva_etapa['etapa']}. etapo in svojo 35. etapno zmago.\")"
   ]
  },
  {
   "cell_type": "markdown",
   "id": "774e7e1f-446b-44dd-88c1-04e1aa05950b",
   "metadata": {},
   "source": [
    "*Komentar: Tip etap, ki jih je zmagal Cavendish, nas ne preseneti, saj so ravninske etape najbolj ustrezne za šprinterje.*\n",
    "\n",
    "Kljub temu, da Mark Cavendish drži rekord za največ etapnih zmag na Tour de France, pa ni nikoli zmagal Toura v celoti. Preverimo:"
   ]
  },
  {
   "cell_type": "code",
   "execution_count": 107,
   "id": "4ceb4f2d-6ffc-4feb-b19e-6427f39ce360",
   "metadata": {},
   "outputs": [
    {
     "name": "stdout",
     "output_type": "stream",
     "text": [
      "Mark Cavendish je celotno dirko Tour de France zmagaal 0-krat.\n"
     ]
    }
   ],
   "source": [
    "mark_zmaga_tdf = df2['zmagovalec tdf'].value_counts().get('Mark Cavendish', 0)\n",
    "print(f\"Mark Cavendish je celotno dirko Tour de France zmagaal {int(mark_zmaga_tdf)}-krat.\")"
   ]
  },
  {
   "cell_type": "markdown",
   "id": "21b2503d-6181-4148-8843-d6eeb3ed5dd2",
   "metadata": {},
   "source": [
    "V nasprotnem primeru so Hinault, Faber,  Pogačar in Mercx zmagali na Tour de France vsaj enkrat:"
   ]
  },
  {
   "cell_type": "code",
   "execution_count": 108,
   "id": "f029754f-0ac2-4008-810d-9a3a2cd44d06",
   "metadata": {},
   "outputs": [
    {
     "name": "stdout",
     "output_type": "stream",
     "text": [
      "Eddy Merckx je zmagal na Touru 5-krat, Bernard Hinault 5-krat, François Faber 1-krat in Tadej Pogačar za zdaj(vsi ostali niso več aktivni) 4-krat.\n"
     ]
    }
   ],
   "source": [
    "pogi_zmaga_tdf = df2['zmagovalec tdf'].value_counts().get('Tadej Pogačar', 0)\n",
    "merckx_zmaga_tdf = df2['zmagovalec tdf'].value_counts().get('Eddy Merckx', 0)\n",
    "hinault_zmaga_tdf = df2['zmagovalec tdf'].value_counts().get('Bernard Hinault', 0)\n",
    "faber_zmaga_tdf = df2['zmagovalec tdf'].value_counts().get('François Faber', 0)\n",
    "print(f\"Eddy Merckx je zmagal na Touru {merckx_zmaga_tdf}-krat, Bernard Hinault {hinault_zmaga_tdf}-krat, François Faber {faber_zmaga_tdf}-krat in Tadej Pogačar za zdaj\"\n",
    "      f\"(vsi ostali niso več aktivni) {pogi_zmaga_tdf}-krat.\")"
   ]
  },
  {
   "cell_type": "markdown",
   "id": "7965919d-ff3d-4537-b1c9-500281cfc346",
   "metadata": {},
   "source": [
    "## Zmagovalci Tour de France"
   ]
  },
  {
   "cell_type": "markdown",
   "id": "e42da528-c53f-43d2-ae4d-9c0041f7bdfa",
   "metadata": {},
   "source": [
    "Poglejmo še nekaj statistik o zmagovalcih Tour de France. Zmagovalec Tou de France je torej tisti kolesar, ki je najboljši v skupnem seštevku. Za to bomo rabili razpredelnico, ki po letih predstavi podatke o zmagovalcih. Eden od podatkov je \"posebnost\" kolesarja, torej v čem je najboljši. Tu je kratka legenda posebnosti (povzeto po https://www.procyclingstats.com/info/rider-specialties):\n"
   ]
  },
  {
   "cell_type": "markdown",
   "id": "0fbb32aa-3fb6-4a75-9d3d-c379f869a5f4",
   "metadata": {},
   "source": [
    "- **GC** : Kolesar ima največ pik zbranih na vseh končnih GC uvrstitvah v svoji karieri. Kolesar s posebnostjo GC je recimo Kolumbijec Nairo Quintana\n",
    "- **Plezalec (Climber)**: Največ pik je kolesar osvojil na gorskih etapah in dirkah. Dobra plezalca sta recimo Ekvadorec Victor Carapaz in Tadej Pogačar.\n",
    "- **Dirka na čas (Time Trial)** : Največ pik je kolesar osvojil na dirkah na čas. Dobra TT kolesarja sta Primož Roglič in Italijan Filippo Ganna.\n",
    "- **Šprint** : Največ pik je kolesar osvojil na šprinterskih dirkah in etapah. Dobra šprinterja sta Belgijca Jasper Philipsen in Wout Van Aert.\n",
    "- **Classic**: To je zastarel izraz, ampak najverjetneje bi ga zdaj umestili nekje med izraz **GC** in **Enodnevne dirke**. Ker pa ni čisto jasno, ga bomo obravnavali kot izraz zase.\n",
    "\n"
   ]
  },
  {
   "cell_type": "code",
   "execution_count": 109,
   "id": "04457382-eadb-4a88-b482-d47f08694267",
   "metadata": {},
   "outputs": [
    {
     "data": {
      "text/html": [
       "<div>\n",
       "<style scoped>\n",
       "    .dataframe tbody tr th:only-of-type {\n",
       "        vertical-align: middle;\n",
       "    }\n",
       "\n",
       "    .dataframe tbody tr th {\n",
       "        vertical-align: top;\n",
       "    }\n",
       "\n",
       "    .dataframe thead th {\n",
       "        text-align: right;\n",
       "    }\n",
       "</style>\n",
       "<table border=\"1\" class=\"dataframe\">\n",
       "  <thead>\n",
       "    <tr style=\"text-align: right;\">\n",
       "      <th></th>\n",
       "      <th>leto</th>\n",
       "      <th>zmagovalec tdf</th>\n",
       "      <th>zmagovalec tdf drzava</th>\n",
       "      <th>zmagovalec tdf starost</th>\n",
       "      <th>posebnost</th>\n",
       "    </tr>\n",
       "  </thead>\n",
       "  <tbody>\n",
       "    <tr>\n",
       "      <th>1</th>\n",
       "      <td>1903</td>\n",
       "      <td>Maurice Garin</td>\n",
       "      <td>FR</td>\n",
       "      <td>32</td>\n",
       "      <td>Classic</td>\n",
       "    </tr>\n",
       "    <tr>\n",
       "      <th>2</th>\n",
       "      <td>1904</td>\n",
       "      <td>Maurice Garin</td>\n",
       "      <td>FR</td>\n",
       "      <td>33</td>\n",
       "      <td>Classic</td>\n",
       "    </tr>\n",
       "    <tr>\n",
       "      <th>3</th>\n",
       "      <td>1905</td>\n",
       "      <td>Louis Trousselier</td>\n",
       "      <td>FR</td>\n",
       "      <td>24</td>\n",
       "      <td>Classic</td>\n",
       "    </tr>\n",
       "    <tr>\n",
       "      <th>4</th>\n",
       "      <td>1906</td>\n",
       "      <td>René Pottier</td>\n",
       "      <td>FR</td>\n",
       "      <td>27</td>\n",
       "      <td>Climber</td>\n",
       "    </tr>\n",
       "    <tr>\n",
       "      <th>5</th>\n",
       "      <td>1907</td>\n",
       "      <td>Lucien Petit-Breton</td>\n",
       "      <td>FR</td>\n",
       "      <td>24</td>\n",
       "      <td>Climber</td>\n",
       "    </tr>\n",
       "    <tr>\n",
       "      <th>...</th>\n",
       "      <td>...</td>\n",
       "      <td>...</td>\n",
       "      <td>...</td>\n",
       "      <td>...</td>\n",
       "      <td>...</td>\n",
       "    </tr>\n",
       "    <tr>\n",
       "      <th>108</th>\n",
       "      <td>2021</td>\n",
       "      <td>Tadej Pogačar</td>\n",
       "      <td>SI</td>\n",
       "      <td>22</td>\n",
       "      <td>Climber</td>\n",
       "    </tr>\n",
       "    <tr>\n",
       "      <th>109</th>\n",
       "      <td>2022</td>\n",
       "      <td>Jonas Vingegaard</td>\n",
       "      <td>DK</td>\n",
       "      <td>25</td>\n",
       "      <td>GC</td>\n",
       "    </tr>\n",
       "    <tr>\n",
       "      <th>110</th>\n",
       "      <td>2023</td>\n",
       "      <td>Jonas Vingegaard</td>\n",
       "      <td>DK</td>\n",
       "      <td>26</td>\n",
       "      <td>GC</td>\n",
       "    </tr>\n",
       "    <tr>\n",
       "      <th>111</th>\n",
       "      <td>2024</td>\n",
       "      <td>Tadej Pogačar</td>\n",
       "      <td>SI</td>\n",
       "      <td>25</td>\n",
       "      <td>Climber</td>\n",
       "    </tr>\n",
       "    <tr>\n",
       "      <th>112</th>\n",
       "      <td>2025</td>\n",
       "      <td>Tadej Pogačar</td>\n",
       "      <td>SI</td>\n",
       "      <td>26</td>\n",
       "      <td>Climber</td>\n",
       "    </tr>\n",
       "  </tbody>\n",
       "</table>\n",
       "<p>112 rows × 5 columns</p>\n",
       "</div>"
      ],
      "text/plain": [
       "     leto       zmagovalec tdf zmagovalec tdf drzava zmagovalec tdf starost  \\\n",
       "1    1903        Maurice Garin                    FR                     32   \n",
       "2    1904        Maurice Garin                    FR                     33   \n",
       "3    1905    Louis Trousselier                    FR                     24   \n",
       "4    1906         René Pottier                    FR                     27   \n",
       "5    1907  Lucien Petit-Breton                    FR                     24   \n",
       "..    ...                  ...                   ...                    ...   \n",
       "108  2021        Tadej Pogačar                    SI                     22   \n",
       "109  2022     Jonas Vingegaard                    DK                     25   \n",
       "110  2023     Jonas Vingegaard                    DK                     26   \n",
       "111  2024        Tadej Pogačar                    SI                     25   \n",
       "112  2025        Tadej Pogačar                    SI                     26   \n",
       "\n",
       "    posebnost  \n",
       "1     Classic  \n",
       "2     Classic  \n",
       "3     Classic  \n",
       "4     Climber  \n",
       "5     Climber  \n",
       "..        ...  \n",
       "108   Climber  \n",
       "109        GC  \n",
       "110        GC  \n",
       "111   Climber  \n",
       "112   Climber  \n",
       "\n",
       "[112 rows x 5 columns]"
      ]
     },
     "execution_count": 109,
     "metadata": {},
     "output_type": "execute_result"
    }
   ],
   "source": [
    "df2 = df2.rename(columns={'zmagovalec specialty' : 'posebnost'})\n",
    "df2 = df2.reset_index(drop=True)\n",
    "df2.index += 1\n",
    "df2"
   ]
  },
  {
   "cell_type": "code",
   "execution_count": 110,
   "id": "ac9ad83e-dd5f-45b9-8431-80fac069f5cd",
   "metadata": {},
   "outputs": [],
   "source": [
    "df2= df2[df2['zmagovalec tdf drzava'] != 'ni podatka'] #izločimo leta, ko je zmagoval Lance Armstrong"
   ]
  },
  {
   "cell_type": "markdown",
   "id": "94c4db0a-7a97-48e6-8183-73a0d15d2638",
   "metadata": {},
   "source": [
    "**POSEBNOST**"
   ]
  },
  {
   "cell_type": "markdown",
   "id": "8e80f37e-158a-41b8-9b59-ee50f6d5fb57",
   "metadata": {},
   "source": [
    "Poglejmo najprej, katera posebnost se najbolj in najmanj obrestuje kolesarjem, če želijo zmagati na Touru (zmagovalcev katere posebnosti je bilo največ in najmanj):"
   ]
  },
  {
   "cell_type": "code",
   "execution_count": 111,
   "id": "3f719f5f-27a2-405b-ab5a-2742d6a8f26b",
   "metadata": {},
   "outputs": [
    {
     "data": {
      "text/plain": [
       "<Figure size 500x500 with 0 Axes>"
      ]
     },
     "metadata": {},
     "output_type": "display_data"
    },
    {
     "data": {
      "image/png": "[encoded data removed]",
      "text/plain": [
       "<Figure size 640x480 with 1 Axes>"
      ]
     },
     "metadata": {},
     "output_type": "display_data"
    }
   ],
   "source": [
    "posebnosti = df2['posebnost'].value_counts().reset_index()\n",
    "posebnosti.columns = ['posebnost', 'count']\n",
    "plt.figure(figsize=(5, 5))\n",
    "plot = posebnosti.plot.pie(y='count',labels=posebnosti['posebnost'],autopct='%1.1f%%',startangle=90,pctdistance=0.85) \n",
    "\n",
    "plt.axis('equal')\n",
    "plt.ylabel('')\n",
    "plt.title('Posebnost zmagovalca Toura')\n",
    "plt.show()"
   ]
  },
  {
   "cell_type": "markdown",
   "id": "fc754a41-7c6b-408b-ab26-f8f8ac188576",
   "metadata": {},
   "source": [
    "Ne preseneča nas, da je več kot pol vseh zmagovalcev Toura imelo posebnost *GC*. Najmanjkrat so zmagali šprinterji in plezalci. Še posebej za šprinterje ni presenetljivo, da najmanjkrat zmagujejo, saj imajo večjo maso in tako na gorskih etapah težje dohajajo glavnino (letos je skupina z zelenim dresom (šprinterji) na gorskih etapah zmeraj vozila vsaj 10 minut za glavnino. \n",
    "\n",
    "Zgoraj smo izračunali leti, ko je bilo največ in najmanj gorskih etap. Poglejmo, ali je na najbolj gorskem Touru zmagal plezalec in ali je na najmanj gorskem Touru zmagal kakšen šprinter. Poglejmo še, ali je leta, ko je bilo največ dirk na čas, zmagal kolesar s posebnostjo TT. \n",
    "\n",
    "*Komentar: Oznaka 'ni podatka' se pojavlja na prvih enajstih edicijah Toura, ko cestno kolesarstvo še ni imelo takih klasifikacij kot so posebnost.*"
   ]
  },
  {
   "cell_type": "code",
   "execution_count": 112,
   "id": "e511cb56-8ef8-4737-badc-09e61bf161d7",
   "metadata": {},
   "outputs": [
    {
     "name": "stdout",
     "output_type": "stream",
     "text": [
      "Največje število TT etap na enem Tour-u je bilo 5 etap leta 1988, ko so na TT delu Toura prevozili kar 222.0 km.\n",
      "Najmanjši delež gorskih etap je bil leta 1992, ko je znašal 10.0%, največji pa je bil leta 2020 z 57.1%.\n"
     ]
    }
   ],
   "source": [
    "#še enkrat pogledamo podatke, ki nas zanimajo:\n",
    "največje_število_tt = tour1.loc[tour1['tt_st'].idxmax()]\n",
    "print(f\"Največje število TT etap na enem Tour-u je bilo {int(največje_število_tt['tt_st'])} etap leta {int(največje_število_tt['leto'])}, ko so na TT delu Toura prevozili kar {največje_število_tt['tt_razdalja']} km.\")\n",
    "procent_na_leto = procent_na_leto.reset_index()\n",
    "procent_na_leto.sort_values(by='gore', ascending=False).head(10)\n",
    "največ_vrstica = procent_na_leto.loc[procent_na_leto['gore'].idxmax()]\n",
    "najmanj_vrstica = procent_na_leto.loc[procent_na_leto['gore'].idxmin()]\n",
    "print(f\"Najmanjši delež gorskih etap je bil leta {int(najmanj_vrstica['leto'])}, ko je znašal {najmanj_vrstica['gore']}%, največji pa je bil leta {int(največ_vrstica['leto'])} z {največ_vrstica['gore']}%.\")\n"
   ]
  },
  {
   "cell_type": "code",
   "execution_count": 113,
   "id": "37b90c5c-6ba8-4e84-b8d4-911732aa71c0",
   "metadata": {},
   "outputs": [],
   "source": [
    "tt_leto = df2[df2['leto'] == 1988]\n",
    "gore_leto = df2[df2['leto'] == 2020]\n",
    "ravno_leto = df2[df2['leto'] == 1992]\n"
   ]
  },
  {
   "cell_type": "code",
   "execution_count": 114,
   "id": "3ef2a98f-7f8c-4aca-bbac-e36fc035affa",
   "metadata": {},
   "outputs": [
    {
     "data": {
      "text/html": [
       "<div>\n",
       "<style scoped>\n",
       "    .dataframe tbody tr th:only-of-type {\n",
       "        vertical-align: middle;\n",
       "    }\n",
       "\n",
       "    .dataframe tbody tr th {\n",
       "        vertical-align: top;\n",
       "    }\n",
       "\n",
       "    .dataframe thead th {\n",
       "        text-align: right;\n",
       "    }\n",
       "</style>\n",
       "<table border=\"1\" class=\"dataframe\">\n",
       "  <thead>\n",
       "    <tr style=\"text-align: right;\">\n",
       "      <th></th>\n",
       "      <th>leto</th>\n",
       "      <th>zmagovalec tdf</th>\n",
       "      <th>zmagovalec tdf drzava</th>\n",
       "      <th>zmagovalec tdf starost</th>\n",
       "      <th>posebnost</th>\n",
       "    </tr>\n",
       "  </thead>\n",
       "  <tbody>\n",
       "    <tr>\n",
       "      <th>75</th>\n",
       "      <td>1988</td>\n",
       "      <td>Pedro Delgado</td>\n",
       "      <td>ES</td>\n",
       "      <td>28</td>\n",
       "      <td>GC</td>\n",
       "    </tr>\n",
       "  </tbody>\n",
       "</table>\n",
       "</div>"
      ],
      "text/plain": [
       "    leto zmagovalec tdf zmagovalec tdf drzava zmagovalec tdf starost posebnost\n",
       "75  1988  Pedro Delgado                    ES                     28        GC"
      ]
     },
     "execution_count": 114,
     "metadata": {},
     "output_type": "execute_result"
    }
   ],
   "source": [
    "tt_leto"
   ]
  },
  {
   "cell_type": "code",
   "execution_count": 115,
   "id": "204109b1-719a-4823-9b16-bce0a8feec2d",
   "metadata": {},
   "outputs": [
    {
     "data": {
      "text/html": [
       "<div>\n",
       "<style scoped>\n",
       "    .dataframe tbody tr th:only-of-type {\n",
       "        vertical-align: middle;\n",
       "    }\n",
       "\n",
       "    .dataframe tbody tr th {\n",
       "        vertical-align: top;\n",
       "    }\n",
       "\n",
       "    .dataframe thead th {\n",
       "        text-align: right;\n",
       "    }\n",
       "</style>\n",
       "<table border=\"1\" class=\"dataframe\">\n",
       "  <thead>\n",
       "    <tr style=\"text-align: right;\">\n",
       "      <th></th>\n",
       "      <th>leto</th>\n",
       "      <th>zmagovalec tdf</th>\n",
       "      <th>zmagovalec tdf drzava</th>\n",
       "      <th>zmagovalec tdf starost</th>\n",
       "      <th>posebnost</th>\n",
       "    </tr>\n",
       "  </thead>\n",
       "  <tbody>\n",
       "    <tr>\n",
       "      <th>107</th>\n",
       "      <td>2020</td>\n",
       "      <td>Tadej Pogačar</td>\n",
       "      <td>SI</td>\n",
       "      <td>21</td>\n",
       "      <td>Climber</td>\n",
       "    </tr>\n",
       "  </tbody>\n",
       "</table>\n",
       "</div>"
      ],
      "text/plain": [
       "     leto zmagovalec tdf zmagovalec tdf drzava zmagovalec tdf starost  \\\n",
       "107  2020  Tadej Pogačar                    SI                     21   \n",
       "\n",
       "    posebnost  \n",
       "107   Climber  "
      ]
     },
     "execution_count": 115,
     "metadata": {},
     "output_type": "execute_result"
    }
   ],
   "source": [
    "gore_leto"
   ]
  },
  {
   "cell_type": "code",
   "execution_count": 116,
   "id": "5e868b83-cddf-4ffc-9644-2af41c24daf0",
   "metadata": {},
   "outputs": [
    {
     "data": {
      "text/html": [
       "<div>\n",
       "<style scoped>\n",
       "    .dataframe tbody tr th:only-of-type {\n",
       "        vertical-align: middle;\n",
       "    }\n",
       "\n",
       "    .dataframe tbody tr th {\n",
       "        vertical-align: top;\n",
       "    }\n",
       "\n",
       "    .dataframe thead th {\n",
       "        text-align: right;\n",
       "    }\n",
       "</style>\n",
       "<table border=\"1\" class=\"dataframe\">\n",
       "  <thead>\n",
       "    <tr style=\"text-align: right;\">\n",
       "      <th></th>\n",
       "      <th>leto</th>\n",
       "      <th>zmagovalec tdf</th>\n",
       "      <th>zmagovalec tdf drzava</th>\n",
       "      <th>zmagovalec tdf starost</th>\n",
       "      <th>posebnost</th>\n",
       "    </tr>\n",
       "  </thead>\n",
       "  <tbody>\n",
       "    <tr>\n",
       "      <th>79</th>\n",
       "      <td>1992</td>\n",
       "      <td>Miguel Induráin</td>\n",
       "      <td>ES</td>\n",
       "      <td>27</td>\n",
       "      <td>TT</td>\n",
       "    </tr>\n",
       "  </tbody>\n",
       "</table>\n",
       "</div>"
      ],
      "text/plain": [
       "    leto   zmagovalec tdf zmagovalec tdf drzava zmagovalec tdf starost  \\\n",
       "79  1992  Miguel Induráin                    ES                     27   \n",
       "\n",
       "   posebnost  \n",
       "79        TT  "
      ]
     },
     "execution_count": 116,
     "metadata": {},
     "output_type": "execute_result"
    }
   ],
   "source": [
    "ravno_leto"
   ]
  },
  {
   "cell_type": "markdown",
   "id": "bae3d21f-2ada-4186-b660-d73842cb7eea",
   "metadata": {},
   "source": [
    "Na leto, ko je bilo največ gorskih etap, je res zmagal plezalec, in to še Tadej Pogačar! Na leto, ko je bilo največ ravninskih etap (če sklepamo, da če je nejmanj gorskih, je največ ravninksih), je zmagal Miguel Indurain, eden najboljših španskih kolesarjev. Ni presenetljivo, da je na leto, ko je bilo več ravnih etap, zmagal kolesar, ki je najboljši v vožnji na čas. Tudi za leto, ko je bilo največ TT etap, nas ne preseneča zelo, da je zmagal kolesar, najboljši v potegovanju za GC (takšen kolesar mora biti dober povsod, tudi na TT). "
   ]
  },
  {
   "cell_type": "markdown",
   "id": "034b0d4b-384f-4373-ba5c-b5808017d70d",
   "metadata": {},
   "source": [
    "**KOLESARJI Z NAJVEČ ZMAGAMI NA TOUR DE FRANCE**"
   ]
  },
  {
   "cell_type": "markdown",
   "id": "b02268d8-c4bf-4b74-a1fd-c7b637fbbbae",
   "metadata": {},
   "source": [
    "Najprej razvrstimo države po številu zmag:"
   ]
  },
  {
   "cell_type": "code",
   "execution_count": 117,
   "id": "51701015-518a-4847-8121-41dde85ca9f9",
   "metadata": {},
   "outputs": [
    {
     "data": {
      "text/html": [
       "<div>\n",
       "<style scoped>\n",
       "    .dataframe tbody tr th:only-of-type {\n",
       "        vertical-align: middle;\n",
       "    }\n",
       "\n",
       "    .dataframe tbody tr th {\n",
       "        vertical-align: top;\n",
       "    }\n",
       "\n",
       "    .dataframe thead th {\n",
       "        text-align: right;\n",
       "    }\n",
       "</style>\n",
       "<table border=\"1\" class=\"dataframe\">\n",
       "  <thead>\n",
       "    <tr style=\"text-align: right;\">\n",
       "      <th></th>\n",
       "      <th>kratica države</th>\n",
       "      <th>število zmag</th>\n",
       "    </tr>\n",
       "  </thead>\n",
       "  <tbody>\n",
       "    <tr>\n",
       "      <th>0</th>\n",
       "      <td>FR</td>\n",
       "      <td>36</td>\n",
       "    </tr>\n",
       "    <tr>\n",
       "      <th>1</th>\n",
       "      <td>BE</td>\n",
       "      <td>18</td>\n",
       "    </tr>\n",
       "    <tr>\n",
       "      <th>2</th>\n",
       "      <td>ES</td>\n",
       "      <td>12</td>\n",
       "    </tr>\n",
       "    <tr>\n",
       "      <th>4</th>\n",
       "      <td>IT</td>\n",
       "      <td>10</td>\n",
       "    </tr>\n",
       "    <tr>\n",
       "      <th>5</th>\n",
       "      <td>GB</td>\n",
       "      <td>6</td>\n",
       "    </tr>\n",
       "    <tr>\n",
       "      <th>6</th>\n",
       "      <td>LU</td>\n",
       "      <td>4</td>\n",
       "    </tr>\n",
       "    <tr>\n",
       "      <th>7</th>\n",
       "      <td>SI</td>\n",
       "      <td>4</td>\n",
       "    </tr>\n",
       "    <tr>\n",
       "      <th>3</th>\n",
       "      <td>US</td>\n",
       "      <td>3</td>\n",
       "    </tr>\n",
       "    <tr>\n",
       "      <th>8</th>\n",
       "      <td>DK</td>\n",
       "      <td>3</td>\n",
       "    </tr>\n",
       "    <tr>\n",
       "      <th>9</th>\n",
       "      <td>NL</td>\n",
       "      <td>2</td>\n",
       "    </tr>\n",
       "    <tr>\n",
       "      <th>10</th>\n",
       "      <td>CH</td>\n",
       "      <td>2</td>\n",
       "    </tr>\n",
       "    <tr>\n",
       "      <th>11</th>\n",
       "      <td>DE</td>\n",
       "      <td>1</td>\n",
       "    </tr>\n",
       "    <tr>\n",
       "      <th>12</th>\n",
       "      <td>IE</td>\n",
       "      <td>1</td>\n",
       "    </tr>\n",
       "    <tr>\n",
       "      <th>13</th>\n",
       "      <td>AU</td>\n",
       "      <td>1</td>\n",
       "    </tr>\n",
       "    <tr>\n",
       "      <th>14</th>\n",
       "      <td>CO</td>\n",
       "      <td>1</td>\n",
       "    </tr>\n",
       "  </tbody>\n",
       "</table>\n",
       "</div>"
      ],
      "text/plain": [
       "   kratica države  število zmag\n",
       "0              FR            36\n",
       "1              BE            18\n",
       "2              ES            12\n",
       "4              IT            10\n",
       "5              GB             6\n",
       "6              LU             4\n",
       "7              SI             4\n",
       "3              US             3\n",
       "8              DK             3\n",
       "9              NL             2\n",
       "10             CH             2\n",
       "11             DE             1\n",
       "12             IE             1\n",
       "13             AU             1\n",
       "14             CO             1"
      ]
     },
     "execution_count": 117,
     "metadata": {},
     "output_type": "execute_result"
    }
   ],
   "source": [
    "df2= df2[df2['zmagovalec tdf drzava'] != 'ni podatka'] #Lance Armstrong je označen kot 'ni podatka', saj so mu vseh 7 Lzmag odvzeli zaradi dopinga\n",
    "df2.loc[df2['leto'] == 2006, 'zmagovalec tdf'] = 'Óscar Pereiro' #Floydu Landisu je bil odvzet naziv zaradi dopinga, zato nastavimo zmagovalca na Oscarja Pereirota\n",
    "tdf_na_drzavo = df2['zmagovalec tdf drzava'].value_counts()\n",
    "zmaga = pd.DataFrame(tdf_na_drzavo)\n",
    "zmaga = zmaga.reset_index()\n",
    "zmaga = zmaga.rename(columns={'count': 'število zmag', 'zmagovalec tdf drzava': 'kratica države'})\n",
    "#ker naša koda še ne predvideva, da je ZDA odvzetih 11 od 14 zmag zaradi dopinga Lancea Armstronga, bomo to popravili:\n",
    "zmaga.loc[zmaga['kratica države'] == 'US', 'število zmag'] = 3 \n",
    "zmaga.sort_values(by='število zmag', ascending=False)"
   ]
  },
  {
   "cell_type": "code",
   "execution_count": 118,
   "id": "5f2e3cf6-c46a-4f52-b69e-9a6fc1755f7f",
   "metadata": {},
   "outputs": [
    {
     "data": {
      "image/png": "[encoded data removed]",
      "text/plain": [
       "<Figure size 1000x600 with 1 Axes>"
      ]
     },
     "metadata": {},
     "output_type": "display_data"
    }
   ],
   "source": [
    "graf2 = zmaga.sort_values('število zmag').set_index('kratica države')\n",
    "graf8 = graf2.plot(kind='barh', color='#f5e12f', figsize=(10, 6), edgecolor='black')\n",
    "graf8.bar_label(graf8.containers[0], fmt='%d', padding=6, fontsize=10, color='black')\n",
    "plt.title('TdF zmage po državah', fontsize=11, fontweight='bold', pad=20)\n",
    "plt.xlabel('Število zmag', fontsize=11)\n",
    "plt.ylabel('Država', fontsize=11)\n",
    "plt.grid(axis='x', linestyle='--', alpha=0.6)\n",
    "plt.tight_layout()\n",
    "plt.show()\n"
   ]
  },
  {
   "cell_type": "markdown",
   "id": "686a60a2-609a-4e68-9282-6b9b695b02a6",
   "metadata": {},
   "source": [
    "Kot pri številu etap, nas to, da so na vrhu Francozi in Belgijci, ne preseneča. \n",
    "\n",
    "Glede na to, da je prva etapna zmaga za Slovenijo nastopila šele leta 2017 in da ima že 4 zmage na celotnem Tour de France, je res osuplivo. \n",
    "\n",
    "Poglejmo, kdo ima v vsaki državi največ zmag na TdF:"
   ]
  },
  {
   "cell_type": "code",
   "execution_count": 119,
   "id": "0f7004a2-54c4-4eec-b42c-24f7908546fa",
   "metadata": {},
   "outputs": [
    {
     "data": {
      "text/html": [
       "<div>\n",
       "<style scoped>\n",
       "    .dataframe tbody tr th:only-of-type {\n",
       "        vertical-align: middle;\n",
       "    }\n",
       "\n",
       "    .dataframe tbody tr th {\n",
       "        vertical-align: top;\n",
       "    }\n",
       "\n",
       "    .dataframe thead th {\n",
       "        text-align: right;\n",
       "    }\n",
       "</style>\n",
       "<table border=\"1\" class=\"dataframe\">\n",
       "  <thead>\n",
       "    <tr style=\"text-align: right;\">\n",
       "      <th></th>\n",
       "      <th>zmagovalec tdf drzava</th>\n",
       "      <th>zmagovalec tdf</th>\n",
       "      <th>število zmag</th>\n",
       "    </tr>\n",
       "  </thead>\n",
       "  <tbody>\n",
       "    <tr>\n",
       "      <th>1</th>\n",
       "      <td>BE</td>\n",
       "      <td>Eddy Merckx</td>\n",
       "      <td>5</td>\n",
       "    </tr>\n",
       "    <tr>\n",
       "      <th>2</th>\n",
       "      <td>ES</td>\n",
       "      <td>Miguel Induráin</td>\n",
       "      <td>5</td>\n",
       "    </tr>\n",
       "    <tr>\n",
       "      <th>3</th>\n",
       "      <td>FR</td>\n",
       "      <td>Bernard Hinault</td>\n",
       "      <td>5</td>\n",
       "    </tr>\n",
       "    <tr>\n",
       "      <th>4</th>\n",
       "      <td>GB</td>\n",
       "      <td>Chris Froome</td>\n",
       "      <td>4</td>\n",
       "    </tr>\n",
       "    <tr>\n",
       "      <th>5</th>\n",
       "      <td>SI</td>\n",
       "      <td>Tadej Pogačar</td>\n",
       "      <td>4</td>\n",
       "    </tr>\n",
       "    <tr>\n",
       "      <th>6</th>\n",
       "      <td>US</td>\n",
       "      <td>Greg LeMond</td>\n",
       "      <td>3</td>\n",
       "    </tr>\n",
       "    <tr>\n",
       "      <th>7</th>\n",
       "      <td>DK</td>\n",
       "      <td>Jonas Vingegaard</td>\n",
       "      <td>2</td>\n",
       "    </tr>\n",
       "    <tr>\n",
       "      <th>8</th>\n",
       "      <td>LU</td>\n",
       "      <td>Nicolas Frantz</td>\n",
       "      <td>2</td>\n",
       "    </tr>\n",
       "    <tr>\n",
       "      <th>9</th>\n",
       "      <td>IT</td>\n",
       "      <td>Fausto Coppi</td>\n",
       "      <td>2</td>\n",
       "    </tr>\n",
       "    <tr>\n",
       "      <th>10</th>\n",
       "      <td>AU</td>\n",
       "      <td>Cadel Evans</td>\n",
       "      <td>1</td>\n",
       "    </tr>\n",
       "    <tr>\n",
       "      <th>11</th>\n",
       "      <td>CH</td>\n",
       "      <td>Ferdinand Kübler</td>\n",
       "      <td>1</td>\n",
       "    </tr>\n",
       "    <tr>\n",
       "      <th>12</th>\n",
       "      <td>CO</td>\n",
       "      <td>Egan Bernal</td>\n",
       "      <td>1</td>\n",
       "    </tr>\n",
       "    <tr>\n",
       "      <th>13</th>\n",
       "      <td>DE</td>\n",
       "      <td>Jan Ullrich</td>\n",
       "      <td>1</td>\n",
       "    </tr>\n",
       "    <tr>\n",
       "      <th>14</th>\n",
       "      <td>IE</td>\n",
       "      <td>Stephen Roche</td>\n",
       "      <td>1</td>\n",
       "    </tr>\n",
       "    <tr>\n",
       "      <th>15</th>\n",
       "      <td>NL</td>\n",
       "      <td>Jan Janssen</td>\n",
       "      <td>1</td>\n",
       "    </tr>\n",
       "  </tbody>\n",
       "</table>\n",
       "</div>"
      ],
      "text/plain": [
       "   zmagovalec tdf drzava    zmagovalec tdf  število zmag\n",
       "1                     BE       Eddy Merckx             5\n",
       "2                     ES   Miguel Induráin             5\n",
       "3                     FR   Bernard Hinault             5\n",
       "4                     GB      Chris Froome             4\n",
       "5                     SI     Tadej Pogačar             4\n",
       "6                     US       Greg LeMond             3\n",
       "7                     DK  Jonas Vingegaard             2\n",
       "8                     LU    Nicolas Frantz             2\n",
       "9                     IT      Fausto Coppi             2\n",
       "10                    AU       Cadel Evans             1\n",
       "11                    CH  Ferdinand Kübler             1\n",
       "12                    CO       Egan Bernal             1\n",
       "13                    DE       Jan Ullrich             1\n",
       "14                    IE     Stephen Roche             1\n",
       "15                    NL       Jan Janssen             1"
      ]
     },
     "execution_count": 119,
     "metadata": {},
     "output_type": "execute_result"
    }
   ],
   "source": [
    "# leto\tzmagovalec tdf\tzmagovalec tdf drzava\tzmagovalec tdf starost\tposebnost\n",
    "na_kolesarja = df2.groupby(['zmagovalec tdf drzava', 'zmagovalec tdf']).size().reset_index(name='število zmag')\n",
    "na_kolesarja = na_kolesarja[na_kolesarja['zmagovalec tdf'] != 'Lance Armstrong']\n",
    "največ_zmag = na_kolesarja.loc[na_kolesarja.groupby('zmagovalec tdf drzava')['število zmag'].idxmax()]\n",
    "največ_zmag = največ_zmag.sort_values('število zmag', ascending=False)\n",
    "največ_zmag = največ_zmag.reset_index(drop=True)\n",
    "največ_zmag.index += 1\n",
    "največ_zmag\n"
   ]
  },
  {
   "cell_type": "code",
   "execution_count": 120,
   "id": "c803db25-e398-45cd-ada1-95dbb4e35960",
   "metadata": {},
   "outputs": [
    {
     "name": "stdout",
     "output_type": "stream",
     "text": [
      "  ime in priimek zmagovalca narodnost zmagovalca\n",
      "0           Bernard Hinault                   FR\n",
      "1               Eddy Merckx                   BE\n",
      "2             Tadej Pogačar                   SI\n",
      "3           Miguel Induráin                   ES\n",
      "4          Ferdinand Kübler                   CH\n",
      "5               Greg LeMond                   US\n"
     ]
    }
   ],
   "source": [
    "#Pogledamo, kateri si delijo naslov najboljšega etapnega zmagovalca in Tour zmagovalca na državo glede na naše lestvice\n",
    "df_tdf = največ_zmag.rename(columns={'zmagovalec tdf': 'ime in priimek zmagovalca','zmagovalec tdf drzava': 'narodnost zmagovalca'})\n",
    "\n",
    "merged = pd.merge(največ_zmag_na_dr, df_tdf, on=['ime in priimek zmagovalca', 'narodnost zmagovalca'])\n",
    "print(merged[['ime in priimek zmagovalca', 'narodnost zmagovalca']])\n"
   ]
  },
  {
   "cell_type": "markdown",
   "id": "45e9450a-ddcb-4c1b-803b-0f769dbc5de7",
   "metadata": {},
   "source": [
    "Vidimo, da so najboljši v skupnem seštevku za Francijo, Belgijo, Španijo, Švico, ZDA in Slovenijo tudi tisti, ki so za svojo državo nabrali največ etapnih zmag, ostali pa ne. To nam porodi vprašanje: "
   ]
  },
  {
   "cell_type": "markdown",
   "id": "a288edf0-ce84-4ae7-8550-474663e1fd15",
   "metadata": {},
   "source": [
    "**Ali je mogoče, da kolesar ne zmaga nobene etapne zmage na Touru in vseeno zmaga v skupnem seštevku?** "
   ]
  },
  {
   "cell_type": "code",
   "execution_count": 121,
   "id": "86f16d41-5798-467f-b8a8-3a134d17a81e",
   "metadata": {},
   "outputs": [
    {
     "data": {
      "text/html": [
       "<div>\n",
       "<style scoped>\n",
       "    .dataframe tbody tr th:only-of-type {\n",
       "        vertical-align: middle;\n",
       "    }\n",
       "\n",
       "    .dataframe tbody tr th {\n",
       "        vertical-align: top;\n",
       "    }\n",
       "\n",
       "    .dataframe thead th {\n",
       "        text-align: right;\n",
       "    }\n",
       "</style>\n",
       "<table border=\"1\" class=\"dataframe\">\n",
       "  <thead>\n",
       "    <tr style=\"text-align: right;\">\n",
       "      <th></th>\n",
       "      <th>leto</th>\n",
       "      <th>zmagovalec tdf</th>\n",
       "      <th>zmagovalec tdf starost</th>\n",
       "      <th>posebnost</th>\n",
       "    </tr>\n",
       "  </thead>\n",
       "  <tbody>\n",
       "    <tr>\n",
       "      <th>1</th>\n",
       "      <td>1904</td>\n",
       "      <td>Maurice Garin</td>\n",
       "      <td>33</td>\n",
       "      <td>Classic</td>\n",
       "    </tr>\n",
       "    <tr>\n",
       "      <th>2</th>\n",
       "      <td>1922</td>\n",
       "      <td>Firmin Lambot</td>\n",
       "      <td>36</td>\n",
       "      <td>GC</td>\n",
       "    </tr>\n",
       "    <tr>\n",
       "      <th>3</th>\n",
       "      <td>1956</td>\n",
       "      <td>Roger Walkowiak</td>\n",
       "      <td>29</td>\n",
       "      <td>GC</td>\n",
       "    </tr>\n",
       "    <tr>\n",
       "      <th>4</th>\n",
       "      <td>1960</td>\n",
       "      <td>Gastone Nencini</td>\n",
       "      <td>30</td>\n",
       "      <td>Sprint</td>\n",
       "    </tr>\n",
       "    <tr>\n",
       "      <th>5</th>\n",
       "      <td>1966</td>\n",
       "      <td>Lucien Aimar</td>\n",
       "      <td>25</td>\n",
       "      <td>GC</td>\n",
       "    </tr>\n",
       "    <tr>\n",
       "      <th>6</th>\n",
       "      <td>1990</td>\n",
       "      <td>Greg LeMond</td>\n",
       "      <td>29</td>\n",
       "      <td>GC</td>\n",
       "    </tr>\n",
       "    <tr>\n",
       "      <th>7</th>\n",
       "      <td>2006</td>\n",
       "      <td>Óscar Pereiro</td>\n",
       "      <td>30</td>\n",
       "      <td>TT</td>\n",
       "    </tr>\n",
       "    <tr>\n",
       "      <th>8</th>\n",
       "      <td>2010</td>\n",
       "      <td>Alberto Contador</td>\n",
       "      <td>27</td>\n",
       "      <td>GC</td>\n",
       "    </tr>\n",
       "    <tr>\n",
       "      <th>9</th>\n",
       "      <td>2017</td>\n",
       "      <td>Chris Froome</td>\n",
       "      <td>32</td>\n",
       "      <td>GC</td>\n",
       "    </tr>\n",
       "  </tbody>\n",
       "</table>\n",
       "</div>"
      ],
      "text/plain": [
       "   leto    zmagovalec tdf zmagovalec tdf starost posebnost\n",
       "1  1904     Maurice Garin                     33   Classic\n",
       "2  1922     Firmin Lambot                     36        GC\n",
       "3  1956   Roger Walkowiak                     29        GC\n",
       "4  1960   Gastone Nencini                     30    Sprint\n",
       "5  1966      Lucien Aimar                     25        GC\n",
       "6  1990       Greg LeMond                     29        GC\n",
       "7  2006     Óscar Pereiro                     30        TT\n",
       "8  2010  Alberto Contador                     27        GC\n",
       "9  2017      Chris Froome                     32        GC"
      ]
     },
     "execution_count": 121,
     "metadata": {},
     "output_type": "execute_result"
    }
   ],
   "source": [
    "tdf = df2[['leto', 'zmagovalec tdf', 'zmagovalec tdf starost', 'posebnost']]\n",
    "etape = df.groupby('leto')['ime in priimek zmagovalca'].apply(set).reset_index()\n",
    "merged = pd.merge(tdf, etape, on='leto', how='left')\n",
    "\n",
    "merged['zmagal_etapo'] = merged.apply(lambda row: row['zmagovalec tdf'] in row['ime in priimek zmagovalca'], axis=1 )\n",
    "brez_zmage_na_etapi = merged[merged['zmagal_etapo'] == False]\n",
    "brez_zmage_na_etapi= brez_zmage_na_etapi[brez_zmage_na_etapi['zmagovalec tdf'] != 'Lance Armstrong']\n",
    "brez_zmage_na_etapi = brez_zmage_na_etapi.reset_index(drop=True)\n",
    "brez_zmage_na_etapi.index += 1\n",
    "brez_zmage_na_etapi[['leto', 'zmagovalec tdf', 'zmagovalec tdf starost', 'posebnost']]\n",
    "\n"
   ]
  },
  {
   "cell_type": "markdown",
   "id": "6ee5191c-c959-4d80-b4c5-c82975c05a2a",
   "metadata": {},
   "source": [
    "Rezultat je zelo zanimiv, saj je kar **devetkrat** uspelo kolesarjem ostati v prednosti na skupnem seštevku brez zmagovanja na etapah!!\n",
    "\n"
   ]
  },
  {
   "cell_type": "markdown",
   "id": "2feea264-5ab4-4822-8b0d-4e9d5b396199",
   "metadata": {},
   "source": [
    "**STAROST ZMAGOVALCEV**\n"
   ]
  },
  {
   "cell_type": "markdown",
   "id": "0f32b22c-370e-4575-ba2d-69cc74886ee4",
   "metadata": {},
   "source": [
    "Poglejmo, kdo je bil najmlajši zmagovalec Tour de France:"
   ]
  },
  {
   "cell_type": "code",
   "execution_count": 122,
   "id": "22d4784e-8659-4c06-a773-0df9f85bbdf7",
   "metadata": {},
   "outputs": [
    {
     "name": "stdout",
     "output_type": "stream",
     "text": [
      "Najmlajši kolesar, ki je zmagal Tour de France, je bil Tadej Pogačar, ko je leta 2020 zmagal 107. edicijo Toura z 21 leti. Njegova posebnost je        Climber.\n"
     ]
    }
   ],
   "source": [
    "mlad = df2.loc[df2['zmagovalec tdf starost'].idxmin()]\n",
    "leto = mlad['leto']\n",
    "starost = mlad['zmagovalec tdf starost']\n",
    "posebnost = mlad['posebnost']\n",
    "ime_zmagovalca = mlad['zmagovalec tdf']\n",
    "indeks = mlad.name \n",
    "\n",
    "print(f\"Najmlajši kolesar, ki je zmagal Tour de France, je bil {ime_zmagovalca}, ko je leta {leto} zmagal {indeks}. edicijo Toura z {starost} leti. Njegova posebnost je        {posebnost}.\")\n"
   ]
  },
  {
   "cell_type": "markdown",
   "id": "bc476cf5-222b-4116-9c7f-b256947c7106",
   "metadata": {},
   "source": [
    "Vidimo, da je Tadej Pogačar isto leto, ko je prvič nastopal na Touru dobil svojo prvo etapno zmago in še zmagal celoten Tour!"
   ]
  },
  {
   "cell_type": "markdown",
   "id": "996b62a9-f4fc-4110-908c-27a2464d5b89",
   "metadata": {},
   "source": [
    "Poglejmo še, kateri je bil najstarejši:"
   ]
  },
  {
   "cell_type": "code",
   "execution_count": 123,
   "id": "a89c034e-9588-4144-bff1-af12df7dcbcb",
   "metadata": {},
   "outputs": [
    {
     "name": "stdout",
     "output_type": "stream",
     "text": [
      "Najstarejši kolesar, ki je zmagal Tour de France, je bil Firmin Lambot, ko je leta 1922 zmagal 16. edicijo Toura s 36 leti. Njegova posebnost je GC.\n"
     ]
    }
   ],
   "source": [
    "star = df2.loc[df2['zmagovalec tdf starost'].idxmax()]\n",
    "leto = star['leto']\n",
    "starost = star['zmagovalec tdf starost']\n",
    "posebnost = star['posebnost']\n",
    "ime_zmagovalca = star['zmagovalec tdf']\n",
    "indeks = star.name \n",
    "\n",
    "print(f\"Najstarejši kolesar, ki je zmagal Tour de France, je bil {ime_zmagovalca}, ko je leta {leto} zmagal {indeks}. edicijo Toura s {starost} leti. Njegova posebnost je {posebnost}.\")\n"
   ]
  },
  {
   "cell_type": "markdown",
   "id": "2fe367e2-76f7-4e68-b1c1-73f52fc21cf0",
   "metadata": {},
   "source": [
    "Poglejmo, koliko kolesarjev je zmagalo Tour kot  \"najboljši mladi kolesar\" (torej, da so bili stari manj od 26 let:\n"
   ]
  },
  {
   "cell_type": "code",
   "execution_count": 124,
   "id": "1b2dbc74-0423-4001-85c1-5c4d00327822",
   "metadata": {
    "scrolled": true
   },
   "outputs": [
    {
     "name": "stdout",
     "output_type": "stream",
     "text": [
      "Kolesarji, ki so Tour zmagali kot najboljši mladi kolesarji:\n"
     ]
    },
    {
     "data": {
      "text/html": [
       "<div>\n",
       "<style scoped>\n",
       "    .dataframe tbody tr th:only-of-type {\n",
       "        vertical-align: middle;\n",
       "    }\n",
       "\n",
       "    .dataframe tbody tr th {\n",
       "        vertical-align: top;\n",
       "    }\n",
       "\n",
       "    .dataframe thead th {\n",
       "        text-align: right;\n",
       "    }\n",
       "</style>\n",
       "<table border=\"1\" class=\"dataframe\">\n",
       "  <thead>\n",
       "    <tr style=\"text-align: right;\">\n",
       "      <th></th>\n",
       "      <th>leto</th>\n",
       "      <th>zmagovalec tdf</th>\n",
       "      <th>zmagovalec tdf drzava</th>\n",
       "      <th>zmagovalec tdf starost</th>\n",
       "      <th>posebnost</th>\n",
       "    </tr>\n",
       "  </thead>\n",
       "  <tbody>\n",
       "    <tr>\n",
       "      <th>3</th>\n",
       "      <td>1905</td>\n",
       "      <td>Louis Trousselier</td>\n",
       "      <td>FR</td>\n",
       "      <td>24</td>\n",
       "      <td>Classic</td>\n",
       "    </tr>\n",
       "    <tr>\n",
       "      <th>5</th>\n",
       "      <td>1907</td>\n",
       "      <td>Lucien Petit-Breton</td>\n",
       "      <td>FR</td>\n",
       "      <td>24</td>\n",
       "      <td>Climber</td>\n",
       "    </tr>\n",
       "    <tr>\n",
       "      <th>6</th>\n",
       "      <td>1908</td>\n",
       "      <td>Lucien Petit-Breton</td>\n",
       "      <td>FR</td>\n",
       "      <td>25</td>\n",
       "      <td>Climber</td>\n",
       "    </tr>\n",
       "    <tr>\n",
       "      <th>7</th>\n",
       "      <td>1909</td>\n",
       "      <td>François Faber</td>\n",
       "      <td>LU</td>\n",
       "      <td>22</td>\n",
       "      <td>Climber</td>\n",
       "    </tr>\n",
       "    <tr>\n",
       "      <th>8</th>\n",
       "      <td>1910</td>\n",
       "      <td>Octave Lapize</td>\n",
       "      <td>FR</td>\n",
       "      <td>22</td>\n",
       "      <td>Classic</td>\n",
       "    </tr>\n",
       "    <tr>\n",
       "      <th>10</th>\n",
       "      <td>1912</td>\n",
       "      <td>Odiel Defraeye</td>\n",
       "      <td>BE</td>\n",
       "      <td>23</td>\n",
       "      <td>GC</td>\n",
       "    </tr>\n",
       "    <tr>\n",
       "      <th>11</th>\n",
       "      <td>1913</td>\n",
       "      <td>Philippe Thys</td>\n",
       "      <td>BE</td>\n",
       "      <td>23</td>\n",
       "      <td>GC</td>\n",
       "    </tr>\n",
       "    <tr>\n",
       "      <th>12</th>\n",
       "      <td>1914</td>\n",
       "      <td>Philippe Thys</td>\n",
       "      <td>BE</td>\n",
       "      <td>24</td>\n",
       "      <td>GC</td>\n",
       "    </tr>\n",
       "    <tr>\n",
       "      <th>29</th>\n",
       "      <td>1935</td>\n",
       "      <td>Romain Maes</td>\n",
       "      <td>BE</td>\n",
       "      <td>22</td>\n",
       "      <td>Classic</td>\n",
       "    </tr>\n",
       "    <tr>\n",
       "      <th>32</th>\n",
       "      <td>1938</td>\n",
       "      <td>Gino Bartali</td>\n",
       "      <td>IT</td>\n",
       "      <td>23</td>\n",
       "      <td>Sprint</td>\n",
       "    </tr>\n",
       "    <tr>\n",
       "      <th>44</th>\n",
       "      <td>1957</td>\n",
       "      <td>Jacques Anquetil</td>\n",
       "      <td>FR</td>\n",
       "      <td>23</td>\n",
       "      <td>GC</td>\n",
       "    </tr>\n",
       "    <tr>\n",
       "      <th>45</th>\n",
       "      <td>1958</td>\n",
       "      <td>Charly Gaul</td>\n",
       "      <td>LU</td>\n",
       "      <td>25</td>\n",
       "      <td>GC</td>\n",
       "    </tr>\n",
       "    <tr>\n",
       "      <th>52</th>\n",
       "      <td>1965</td>\n",
       "      <td>Felice Gimondi</td>\n",
       "      <td>IT</td>\n",
       "      <td>22</td>\n",
       "      <td>Classic</td>\n",
       "    </tr>\n",
       "    <tr>\n",
       "      <th>53</th>\n",
       "      <td>1966</td>\n",
       "      <td>Lucien Aimar</td>\n",
       "      <td>FR</td>\n",
       "      <td>25</td>\n",
       "      <td>GC</td>\n",
       "    </tr>\n",
       "    <tr>\n",
       "      <th>56</th>\n",
       "      <td>1969</td>\n",
       "      <td>Eddy Merckx</td>\n",
       "      <td>BE</td>\n",
       "      <td>24</td>\n",
       "      <td>Classic</td>\n",
       "    </tr>\n",
       "    <tr>\n",
       "      <th>57</th>\n",
       "      <td>1970</td>\n",
       "      <td>Eddy Merckx</td>\n",
       "      <td>BE</td>\n",
       "      <td>25</td>\n",
       "      <td>Classic</td>\n",
       "    </tr>\n",
       "    <tr>\n",
       "      <th>65</th>\n",
       "      <td>1978</td>\n",
       "      <td>Bernard Hinault</td>\n",
       "      <td>FR</td>\n",
       "      <td>23</td>\n",
       "      <td>TT</td>\n",
       "    </tr>\n",
       "    <tr>\n",
       "      <th>66</th>\n",
       "      <td>1979</td>\n",
       "      <td>Bernard Hinault</td>\n",
       "      <td>FR</td>\n",
       "      <td>24</td>\n",
       "      <td>TT</td>\n",
       "    </tr>\n",
       "    <tr>\n",
       "      <th>70</th>\n",
       "      <td>1983</td>\n",
       "      <td>Laurent Fignon</td>\n",
       "      <td>FR</td>\n",
       "      <td>22</td>\n",
       "      <td>GC</td>\n",
       "    </tr>\n",
       "    <tr>\n",
       "      <th>71</th>\n",
       "      <td>1984</td>\n",
       "      <td>Laurent Fignon</td>\n",
       "      <td>FR</td>\n",
       "      <td>23</td>\n",
       "      <td>GC</td>\n",
       "    </tr>\n",
       "    <tr>\n",
       "      <th>73</th>\n",
       "      <td>1986</td>\n",
       "      <td>Greg LeMond</td>\n",
       "      <td>US</td>\n",
       "      <td>25</td>\n",
       "      <td>GC</td>\n",
       "    </tr>\n",
       "    <tr>\n",
       "      <th>84</th>\n",
       "      <td>1997</td>\n",
       "      <td>Jan Ullrich</td>\n",
       "      <td>DE</td>\n",
       "      <td>23</td>\n",
       "      <td>TT</td>\n",
       "    </tr>\n",
       "    <tr>\n",
       "      <th>94</th>\n",
       "      <td>2007</td>\n",
       "      <td>Alberto Contador</td>\n",
       "      <td>ES</td>\n",
       "      <td>24</td>\n",
       "      <td>GC</td>\n",
       "    </tr>\n",
       "    <tr>\n",
       "      <th>106</th>\n",
       "      <td>2019</td>\n",
       "      <td>Egan Bernal</td>\n",
       "      <td>CO</td>\n",
       "      <td>22</td>\n",
       "      <td>GC</td>\n",
       "    </tr>\n",
       "    <tr>\n",
       "      <th>107</th>\n",
       "      <td>2020</td>\n",
       "      <td>Tadej Pogačar</td>\n",
       "      <td>SI</td>\n",
       "      <td>21</td>\n",
       "      <td>Climber</td>\n",
       "    </tr>\n",
       "    <tr>\n",
       "      <th>108</th>\n",
       "      <td>2021</td>\n",
       "      <td>Tadej Pogačar</td>\n",
       "      <td>SI</td>\n",
       "      <td>22</td>\n",
       "      <td>Climber</td>\n",
       "    </tr>\n",
       "    <tr>\n",
       "      <th>109</th>\n",
       "      <td>2022</td>\n",
       "      <td>Jonas Vingegaard</td>\n",
       "      <td>DK</td>\n",
       "      <td>25</td>\n",
       "      <td>GC</td>\n",
       "    </tr>\n",
       "    <tr>\n",
       "      <th>111</th>\n",
       "      <td>2024</td>\n",
       "      <td>Tadej Pogačar</td>\n",
       "      <td>SI</td>\n",
       "      <td>25</td>\n",
       "      <td>Climber</td>\n",
       "    </tr>\n",
       "  </tbody>\n",
       "</table>\n",
       "</div>"
      ],
      "text/plain": [
       "     leto       zmagovalec tdf zmagovalec tdf drzava  zmagovalec tdf starost  \\\n",
       "3    1905    Louis Trousselier                    FR                      24   \n",
       "5    1907  Lucien Petit-Breton                    FR                      24   \n",
       "6    1908  Lucien Petit-Breton                    FR                      25   \n",
       "7    1909       François Faber                    LU                      22   \n",
       "8    1910        Octave Lapize                    FR                      22   \n",
       "10   1912       Odiel Defraeye                    BE                      23   \n",
       "11   1913        Philippe Thys                    BE                      23   \n",
       "12   1914        Philippe Thys                    BE                      24   \n",
       "29   1935          Romain Maes                    BE                      22   \n",
       "32   1938         Gino Bartali                    IT                      23   \n",
       "44   1957     Jacques Anquetil                    FR                      23   \n",
       "45   1958          Charly Gaul                    LU                      25   \n",
       "52   1965       Felice Gimondi                    IT                      22   \n",
       "53   1966         Lucien Aimar                    FR                      25   \n",
       "56   1969          Eddy Merckx                    BE                      24   \n",
       "57   1970          Eddy Merckx                    BE                      25   \n",
       "65   1978      Bernard Hinault                    FR                      23   \n",
       "66   1979      Bernard Hinault                    FR                      24   \n",
       "70   1983       Laurent Fignon                    FR                      22   \n",
       "71   1984       Laurent Fignon                    FR                      23   \n",
       "73   1986          Greg LeMond                    US                      25   \n",
       "84   1997          Jan Ullrich                    DE                      23   \n",
       "94   2007     Alberto Contador                    ES                      24   \n",
       "106  2019          Egan Bernal                    CO                      22   \n",
       "107  2020        Tadej Pogačar                    SI                      21   \n",
       "108  2021        Tadej Pogačar                    SI                      22   \n",
       "109  2022     Jonas Vingegaard                    DK                      25   \n",
       "111  2024        Tadej Pogačar                    SI                      25   \n",
       "\n",
       "    posebnost  \n",
       "3     Classic  \n",
       "5     Climber  \n",
       "6     Climber  \n",
       "7     Climber  \n",
       "8     Classic  \n",
       "10         GC  \n",
       "11         GC  \n",
       "12         GC  \n",
       "29    Classic  \n",
       "32     Sprint  \n",
       "44         GC  \n",
       "45         GC  \n",
       "52    Classic  \n",
       "53         GC  \n",
       "56    Classic  \n",
       "57    Classic  \n",
       "65         TT  \n",
       "66         TT  \n",
       "70         GC  \n",
       "71         GC  \n",
       "73         GC  \n",
       "84         TT  \n",
       "94         GC  \n",
       "106        GC  \n",
       "107   Climber  \n",
       "108   Climber  \n",
       "109        GC  \n",
       "111   Climber  "
      ]
     },
     "execution_count": 124,
     "metadata": {},
     "output_type": "execute_result"
    }
   ],
   "source": [
    "df2['zmagovalec tdf starost'] = pd.to_numeric(df2['zmagovalec tdf starost'])\n",
    "mladi = df2[df2['zmagovalec tdf starost'] < 26] \n",
    "st = mladi['zmagovalec tdf'].value_counts().reset_index()\n",
    "st.columns = ['ime', 'st']\n",
    "\n",
    "print(\"Kolesarji, ki so Tour zmagali kot najboljši mladi kolesarji:\")\n",
    "\n",
    "mladi"
   ]
  },
  {
   "cell_type": "code",
   "execution_count": 125,
   "id": "c1598d8d-0df1-4ea7-8ca0-2e780864dfe4",
   "metadata": {},
   "outputs": [
    {
     "name": "stdout",
     "output_type": "stream",
     "text": [
      "\n",
      "Število takih zmag na kolesarja:\n"
     ]
    },
    {
     "data": {
      "text/html": [
       "<div>\n",
       "<style scoped>\n",
       "    .dataframe tbody tr th:only-of-type {\n",
       "        vertical-align: middle;\n",
       "    }\n",
       "\n",
       "    .dataframe tbody tr th {\n",
       "        vertical-align: top;\n",
       "    }\n",
       "\n",
       "    .dataframe thead th {\n",
       "        text-align: right;\n",
       "    }\n",
       "</style>\n",
       "<table border=\"1\" class=\"dataframe\">\n",
       "  <thead>\n",
       "    <tr style=\"text-align: right;\">\n",
       "      <th></th>\n",
       "      <th>ime</th>\n",
       "      <th>st</th>\n",
       "    </tr>\n",
       "  </thead>\n",
       "  <tbody>\n",
       "    <tr>\n",
       "      <th>1</th>\n",
       "      <td>Tadej Pogačar</td>\n",
       "      <td>3</td>\n",
       "    </tr>\n",
       "    <tr>\n",
       "      <th>2</th>\n",
       "      <td>Eddy Merckx</td>\n",
       "      <td>2</td>\n",
       "    </tr>\n",
       "    <tr>\n",
       "      <th>3</th>\n",
       "      <td>Bernard Hinault</td>\n",
       "      <td>2</td>\n",
       "    </tr>\n",
       "    <tr>\n",
       "      <th>4</th>\n",
       "      <td>Philippe Thys</td>\n",
       "      <td>2</td>\n",
       "    </tr>\n",
       "    <tr>\n",
       "      <th>5</th>\n",
       "      <td>Lucien Petit-Breton</td>\n",
       "      <td>2</td>\n",
       "    </tr>\n",
       "    <tr>\n",
       "      <th>6</th>\n",
       "      <td>Laurent Fignon</td>\n",
       "      <td>2</td>\n",
       "    </tr>\n",
       "    <tr>\n",
       "      <th>7</th>\n",
       "      <td>Octave Lapize</td>\n",
       "      <td>1</td>\n",
       "    </tr>\n",
       "    <tr>\n",
       "      <th>8</th>\n",
       "      <td>François Faber</td>\n",
       "      <td>1</td>\n",
       "    </tr>\n",
       "    <tr>\n",
       "      <th>9</th>\n",
       "      <td>Louis Trousselier</td>\n",
       "      <td>1</td>\n",
       "    </tr>\n",
       "    <tr>\n",
       "      <th>10</th>\n",
       "      <td>Odiel Defraeye</td>\n",
       "      <td>1</td>\n",
       "    </tr>\n",
       "    <tr>\n",
       "      <th>11</th>\n",
       "      <td>Jacques Anquetil</td>\n",
       "      <td>1</td>\n",
       "    </tr>\n",
       "    <tr>\n",
       "      <th>12</th>\n",
       "      <td>Gino Bartali</td>\n",
       "      <td>1</td>\n",
       "    </tr>\n",
       "    <tr>\n",
       "      <th>13</th>\n",
       "      <td>Romain Maes</td>\n",
       "      <td>1</td>\n",
       "    </tr>\n",
       "    <tr>\n",
       "      <th>14</th>\n",
       "      <td>Lucien Aimar</td>\n",
       "      <td>1</td>\n",
       "    </tr>\n",
       "    <tr>\n",
       "      <th>15</th>\n",
       "      <td>Felice Gimondi</td>\n",
       "      <td>1</td>\n",
       "    </tr>\n",
       "    <tr>\n",
       "      <th>16</th>\n",
       "      <td>Charly Gaul</td>\n",
       "      <td>1</td>\n",
       "    </tr>\n",
       "    <tr>\n",
       "      <th>17</th>\n",
       "      <td>Greg LeMond</td>\n",
       "      <td>1</td>\n",
       "    </tr>\n",
       "    <tr>\n",
       "      <th>18</th>\n",
       "      <td>Jan Ullrich</td>\n",
       "      <td>1</td>\n",
       "    </tr>\n",
       "    <tr>\n",
       "      <th>19</th>\n",
       "      <td>Alberto Contador</td>\n",
       "      <td>1</td>\n",
       "    </tr>\n",
       "    <tr>\n",
       "      <th>20</th>\n",
       "      <td>Egan Bernal</td>\n",
       "      <td>1</td>\n",
       "    </tr>\n",
       "    <tr>\n",
       "      <th>21</th>\n",
       "      <td>Jonas Vingegaard</td>\n",
       "      <td>1</td>\n",
       "    </tr>\n",
       "  </tbody>\n",
       "</table>\n",
       "</div>"
      ],
      "text/plain": [
       "                    ime  st\n",
       "1         Tadej Pogačar   3\n",
       "2           Eddy Merckx   2\n",
       "3       Bernard Hinault   2\n",
       "4         Philippe Thys   2\n",
       "5   Lucien Petit-Breton   2\n",
       "6        Laurent Fignon   2\n",
       "7         Octave Lapize   1\n",
       "8        François Faber   1\n",
       "9     Louis Trousselier   1\n",
       "10       Odiel Defraeye   1\n",
       "11     Jacques Anquetil   1\n",
       "12         Gino Bartali   1\n",
       "13          Romain Maes   1\n",
       "14         Lucien Aimar   1\n",
       "15       Felice Gimondi   1\n",
       "16          Charly Gaul   1\n",
       "17          Greg LeMond   1\n",
       "18          Jan Ullrich   1\n",
       "19     Alberto Contador   1\n",
       "20          Egan Bernal   1\n",
       "21     Jonas Vingegaard   1"
      ]
     },
     "execution_count": 125,
     "metadata": {},
     "output_type": "execute_result"
    }
   ],
   "source": [
    "print(\"\\nŠtevilo takih zmag na kolesarja:\")\n",
    "st = st.reset_index(drop=True)\n",
    "st.index += 1\n",
    "st"
   ]
  },
  {
   "cell_type": "markdown",
   "id": "fd0300c3-2c61-43e3-9d1f-571472fc459f",
   "metadata": {},
   "source": [
    "Vidimo, da ima največ zmag kot mladi kolesar prav Tadej Pogačar. Poleg tega je tako zmagal kar tri od štirih zmag na Touru. "
   ]
  },
  {
   "cell_type": "markdown",
   "id": "2a84de67-8c05-4cf1-8f4b-03746800febe",
   "metadata": {},
   "source": [
    "Za konec poglejmo še, pri kateri starosti kolesarji najbolj zmagujejo Tour de France:"
   ]
  },
  {
   "cell_type": "code",
   "execution_count": 126,
   "id": "159bf445-e868-450c-a2f2-78a1b32f95c3",
   "metadata": {},
   "outputs": [
    {
     "data": {
      "image/png": "[encoded data removed]",
      "text/plain": [
       "<Figure size 800x300 with 1 Axes>"
      ]
     },
     "metadata": {},
     "output_type": "display_data"
    },
    {
     "data": {
      "text/html": [
       "<div>\n",
       "<style scoped>\n",
       "    .dataframe tbody tr th:only-of-type {\n",
       "        vertical-align: middle;\n",
       "    }\n",
       "\n",
       "    .dataframe tbody tr th {\n",
       "        vertical-align: top;\n",
       "    }\n",
       "\n",
       "    .dataframe thead th {\n",
       "        text-align: right;\n",
       "    }\n",
       "</style>\n",
       "<table border=\"1\" class=\"dataframe\">\n",
       "  <thead>\n",
       "    <tr style=\"text-align: right;\">\n",
       "      <th></th>\n",
       "      <th>zmagovalec tdf starost</th>\n",
       "      <th>stevilo zmag</th>\n",
       "    </tr>\n",
       "  </thead>\n",
       "  <tbody>\n",
       "    <tr>\n",
       "      <th>0</th>\n",
       "      <td>26</td>\n",
       "      <td>14</td>\n",
       "    </tr>\n",
       "    <tr>\n",
       "      <th>1</th>\n",
       "      <td>29</td>\n",
       "      <td>13</td>\n",
       "    </tr>\n",
       "    <tr>\n",
       "      <th>2</th>\n",
       "      <td>30</td>\n",
       "      <td>13</td>\n",
       "    </tr>\n",
       "    <tr>\n",
       "      <th>3</th>\n",
       "      <td>28</td>\n",
       "      <td>12</td>\n",
       "    </tr>\n",
       "    <tr>\n",
       "      <th>4</th>\n",
       "      <td>27</td>\n",
       "      <td>11</td>\n",
       "    </tr>\n",
       "    <tr>\n",
       "      <th>5</th>\n",
       "      <td>33</td>\n",
       "      <td>8</td>\n",
       "    </tr>\n",
       "    <tr>\n",
       "      <th>6</th>\n",
       "      <td>32</td>\n",
       "      <td>8</td>\n",
       "    </tr>\n",
       "    <tr>\n",
       "      <th>7</th>\n",
       "      <td>25</td>\n",
       "      <td>7</td>\n",
       "    </tr>\n",
       "    <tr>\n",
       "      <th>8</th>\n",
       "      <td>22</td>\n",
       "      <td>7</td>\n",
       "    </tr>\n",
       "    <tr>\n",
       "      <th>9</th>\n",
       "      <td>23</td>\n",
       "      <td>7</td>\n",
       "    </tr>\n",
       "    <tr>\n",
       "      <th>10</th>\n",
       "      <td>24</td>\n",
       "      <td>6</td>\n",
       "    </tr>\n",
       "    <tr>\n",
       "      <th>11</th>\n",
       "      <td>31</td>\n",
       "      <td>2</td>\n",
       "    </tr>\n",
       "    <tr>\n",
       "      <th>12</th>\n",
       "      <td>34</td>\n",
       "      <td>2</td>\n",
       "    </tr>\n",
       "    <tr>\n",
       "      <th>13</th>\n",
       "      <td>36</td>\n",
       "      <td>1</td>\n",
       "    </tr>\n",
       "    <tr>\n",
       "      <th>14</th>\n",
       "      <td>21</td>\n",
       "      <td>1</td>\n",
       "    </tr>\n",
       "  </tbody>\n",
       "</table>\n",
       "</div>"
      ],
      "text/plain": [
       "    zmagovalec tdf starost  stevilo zmag\n",
       "0                       26            14\n",
       "1                       29            13\n",
       "2                       30            13\n",
       "3                       28            12\n",
       "4                       27            11\n",
       "5                       33             8\n",
       "6                       32             8\n",
       "7                       25             7\n",
       "8                       22             7\n",
       "9                       23             7\n",
       "10                      24             6\n",
       "11                      31             2\n",
       "12                      34             2\n",
       "13                      36             1\n",
       "14                      21             1"
      ]
     },
     "execution_count": 126,
     "metadata": {},
     "output_type": "execute_result"
    }
   ],
   "source": [
    "starosti = df2['zmagovalec tdf starost'].value_counts().reset_index()\n",
    "starosti.columns = ['zmagovalec tdf starost', 'stevilo zmag']\n",
    "plt.figure(figsize=(8,3))\n",
    "plt.bar(starosti['zmagovalec tdf starost'], starosti['stevilo zmag'], color='blue')\n",
    "plt.xlabel('Starost')\n",
    "plt.ylabel('Število zmag')\n",
    "plt.title('Število zmag po starosti')\n",
    "plt.grid(axis='y', linestyle='--', alpha=0.7)\n",
    "\n",
    "plt.show()\n",
    "starosti"
   ]
  },
  {
   "cell_type": "markdown",
   "id": "28f01725-b38e-47bb-9c7d-e7ad2bf183bd",
   "metadata": {},
   "source": [
    "Po analizi zmagovalcev Tour de France vidimo, da so obdobje, ko ima profesionalni kolesar možnost za zmago na Touru, leta med 26 in 30, in da ima kolesar, vsaj po podatkih iz preteklih Tourov, največ možnosti, če ima posebnost \"GC\".\n",
    "\n"
   ]
  },
  {
   "cell_type": "markdown",
   "id": "0b292b19-c009-4f60-af98-8765a805d360",
   "metadata": {},
   "source": [
    "# Zaključne misli:"
   ]
  },
  {
   "cell_type": "markdown",
   "id": "bf147e70-89f7-4a76-9b14-e0a7bb75fc71",
   "metadata": {},
   "source": [
    "Ta projektna naloga je pokazala nekaj ključnih značilnosti najpomembnejše tritedenske kolesarske dirke na svetu. Pokazala je, kako je Tour zastavljen (njegova dolžina, dolžina in število etap, delež gorskih etap, ...) in kdo ter od kod so njegovi zmagovalci (tako zmagovalci etap kot tudi celotne dirke). Analiza podatkov je pokazala tudi, da je kljub poznemu začetku sodelovanja in pozni prvi etapni zmagi Slovenija izredno uspešna na Touru. Naši kolesarji so res nadvse izjemni in nad športom navdušujejo vse več ljudi. Tudi sama se za šport zanimam že nekaj let. Na začetku me je najbolj pritegnilo to, da kolesarstvo sprva res deluje kot šport, v katerem vsak kolesar tekmuje sam zase, ampak je vbistvu ekipni šport, tako da se je res treba zavedati, da tudi zmagovalci niso zmagali sami, ampak je za njimi cela ekipa, brez katere jim ne bi uspelo. \n",
    "\n",
    "Upam, da je projektna naloga nekomu, ki ne spremlja športa, cestno kolesarstvo in Tour de France predstavila na razumljiv in zanimiv način, če pa je koga celo pritegnila k njemu, pa še bolje! \n",
    "\n",
    "P.S.: Ker je trenutno zlata doba slovenskega kolesarstva, se Slovenija poteguje za to, da bi bila leta 2029 gostiteljica \"Grand Départ\" Toura, torej da bi se leta 2029 Tour začel kar v Sloveniji! "
   ]
  }
 ],
 "metadata": {
  "kernelspec": {
   "display_name": "Python 3 (ipykernel)",
   "language": "python",
   "name": "python3"
  },
  "language_info": {
   "codemirror_mode": {
    "name": "ipython",
    "version": 3
   },
   "file_extension": ".py",
   "mimetype": "text/x-python",
   "name": "python",
   "nbconvert_exporter": "python",
   "pygments_lexer": "ipython3",
   "version": "3.13.2"
  }
 },
 "nbformat": 4,
 "nbformat_minor": 5
}
